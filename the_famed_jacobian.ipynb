{
 "cells": [
  {
   "cell_type": "code",
   "execution_count": 44,
   "id": "53f1567f",
   "metadata": {},
   "outputs": [],
   "source": [
    "g, s, d = QQ['g, s, d'].gens()"
   ]
  },
  {
   "cell_type": "code",
   "execution_count": 78,
   "id": "ac19288d",
   "metadata": {},
   "outputs": [],
   "source": [
    "def get_r(i):\n",
    "    if i == 0:\n",
    "        return 1\n",
    "    elif i == 1:\n",
    "        return g\n",
    "    return (2 * (g - (s * d)) * get_r(i - 1)) - ((((g - (s * d))^2) - (d ^ 2)) * get_r(i - 2))"
   ]
  },
  {
   "cell_type": "code",
   "execution_count": 79,
   "id": "866199ae",
   "metadata": {},
   "outputs": [],
   "source": [
    "# THIS IS POINTLESS CODE, I FOUND OUT THAT THERE IS A FUNCTION THAT DOES THIS\n",
    "def get_dr_ds(i):\n",
    "    if i == 0 or i == 1:\n",
    "        return 0\n",
    "    return (2 * (g - (s * d)) * get_dr_ds(i-1)) - ((((g - (s * d))^2) - (d ^ 2)) * get_dr_ds(i-2))\\\n",
    "            - (2 * d * get_r(i - 1)) + ((2 * d * (g - (s * d))) * get_r(i - 2))\n",
    "\n",
    "# To get the partial derivative in s or d you do:\n",
    "#    diff(get_r(i), s) , diff(get_r(i), d)"
   ]
  },
  {
   "cell_type": "code",
   "execution_count": 213,
   "id": "8a64183b",
   "metadata": {},
   "outputs": [],
   "source": [
    "def get_dmu_dd(i, t, ell, y, gam):\n",
    "    \n",
    "    # checks if the input is of the right length\n",
    "    assert((2 * ell) == len(y))\n",
    "    assert(i < ell)\n",
    "    \n",
    "    r_t = get_r(t)\n",
    "    \n",
    "    # starts with the derivative at one point\n",
    "    p = diff(r_t, d)(gam, y[2 * i], y[(2 * i) + 1])\n",
    "    \n",
    "    for j in range(ell):\n",
    "        if j != i:\n",
    "            p *= r_t(gam, y[2 * j], y[2 * j] + 1)\n",
    "            \n",
    "    return p"
   ]
  },
  {
   "cell_type": "code",
   "execution_count": 214,
   "id": "5652d687",
   "metadata": {},
   "outputs": [],
   "source": [
    "def get_dmu_ds(i, t, ell, y, gam):\n",
    "    \n",
    "    # checks if the input is of the right length\n",
    "    assert((2 * ell) == len(y))\n",
    "    assert(i < ell)\n",
    "    \n",
    "    r_t = get_r(t)\n",
    "    \n",
    "    # starts with the derivative at one point\n",
    "    p = diff(r_t, s)(gam, y[2 * i], y[(2 * i) + 1])\n",
    "    \n",
    "    for j in range(ell):\n",
    "        if j != i:\n",
    "            p *= r_t(gam, y[2 * j], y[2 * j] + 1)\n",
    "            \n",
    "    return p"
   ]
  },
  {
   "cell_type": "code",
   "execution_count": 215,
   "id": "12be3c3d",
   "metadata": {},
   "outputs": [],
   "source": [
    "def get_jacob(ell, y, gam):\n",
    "    MS = MatrixSpace(QQ, 2 * ell, 2 * ell)\n",
    "    \n",
    "    # Jankest sh*t you've ever seen\n",
    "    v = []\n",
    "    for i in range((2 * ell) ^ 2):\n",
    "        v.append(0)\n",
    "    M = MS.matrix(v)\n",
    "    \n",
    "    for j in range(2 * ell):\n",
    "        for i in range(ell):\n",
    "            M[j, (2 * i)] = get_dmu_ds(i, 2 + j, ell, y, gam)\n",
    "            M[j, (2 * i) + 1] = get_dmu_dd(i, 2 + j, ell, y, gam)\n",
    "        \n",
    "    return M"
   ]
  },
  {
   "cell_type": "code",
   "execution_count": 216,
   "id": "454cf20d",
   "metadata": {},
   "outputs": [
    {
     "data": {
      "text/plain": [
       "-2.12241600000000"
      ]
     },
     "execution_count": 216,
     "metadata": {},
     "output_type": "execute_result"
    }
   ],
   "source": [
    "diff(get_r(2), s)(1/2, 1.02, 1.02)"
   ]
  },
  {
   "cell_type": "code",
   "execution_count": 229,
   "id": "b6b2daf1",
   "metadata": {},
   "outputs": [
    {
     "data": {
      "text/plain": [
       "-27576380013295331862445651711972544715515967702689128955880988894139924044215061418332718908020171318881224227695353172604311882447900532202600217427120076869606310610826270662571752107361029622038728900596084193383497419749142382386929860657433/2935099027163858863016932054216736341052015266603366782644685346774239984581322943616081598191529125383680156474630261531302281462405105578496743505926835568672538424625818432608376927750902440946417803258353264901790724234068503584358400000"
      ]
     },
     "execution_count": 229,
     "metadata": {},
     "output_type": "execute_result"
    }
   ],
   "source": [
    "get_jacob(3, [1.01, 1.02, 1.03, 1.05, 1.06, 1.07], 1/2).det()"
   ]
  },
  {
   "cell_type": "code",
   "execution_count": null,
   "id": "8fad83d4",
   "metadata": {},
   "outputs": [],
   "source": []
  }
 ],
 "metadata": {
  "kernelspec": {
   "display_name": "SageMath 10.0",
   "language": "sage",
   "name": "sagemath-10.0"
  },
  "language_info": {
   "codemirror_mode": {
    "name": "ipython",
    "version": 3
   },
   "file_extension": ".py",
   "mimetype": "text/x-python",
   "name": "python",
   "nbconvert_exporter": "python",
   "pygments_lexer": "ipython3",
   "version": "3.11.1"
  }
 },
 "nbformat": 4,
 "nbformat_minor": 5
}
