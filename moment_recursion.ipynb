{
 "cells": [
  {
   "cell_type": "code",
   "execution_count": 6,
   "id": "c6fef5bf",
   "metadata": {},
   "outputs": [],
   "source": [
    "a0, a1, s = QQ['a0, a1, s'].gens()\n",
    "def get_r_m(m):\n",
    "    r_m = ((1 + s) / 2) * a0 ^ m + ((1 - s) / 2) * a1 ^ m\n",
    "    return r_m"
   ]
  },
  {
   "cell_type": "code",
   "execution_count": 7,
   "id": "9e071066",
   "metadata": {},
   "outputs": [
    {
     "data": {
      "text/plain": [
       "1/2*a0*s - 1/2*a1*s + 1/2*a0 + 1/2*a1"
      ]
     },
     "execution_count": 7,
     "metadata": {},
     "output_type": "execute_result"
    }
   ],
   "source": [
    "r1 = get_r_m(1)\n",
    "r1"
   ]
  },
  {
   "cell_type": "code",
   "execution_count": 8,
   "id": "e97e5276",
   "metadata": {},
   "outputs": [
    {
     "data": {
      "text/plain": [
       "1/2*a0^2*s - 1/2*a1^2*s + 1/2*a0^2 + 1/2*a1^2"
      ]
     },
     "execution_count": 8,
     "metadata": {},
     "output_type": "execute_result"
    }
   ],
   "source": [
    "r2 = get_r_m(2)\n",
    "r2"
   ]
  },
  {
   "cell_type": "code",
   "execution_count": 9,
   "id": "0b989798",
   "metadata": {},
   "outputs": [
    {
     "data": {
      "text/plain": [
       "1/2*a0^3*s - 1/2*a1^3*s + 1/2*a0^3 + 1/2*a1^3"
      ]
     },
     "execution_count": 9,
     "metadata": {},
     "output_type": "execute_result"
    }
   ],
   "source": [
    "r3 = get_r_m(3)\n",
    "r3"
   ]
  },
  {
   "cell_type": "code",
   "execution_count": 10,
   "id": "93df77e9",
   "metadata": {},
   "outputs": [
    {
     "data": {
      "text/plain": [
       "1/2*a0^4*s - 1/2*a1^4*s + 1/2*a0^4 + 1/2*a1^4"
      ]
     },
     "execution_count": 10,
     "metadata": {},
     "output_type": "execute_result"
    }
   ],
   "source": [
    "r4 = get_r_m(4)\n",
    "r4"
   ]
  },
  {
   "cell_type": "code",
   "execution_count": 25,
   "id": "c51a9510",
   "metadata": {},
   "outputs": [],
   "source": [
    "a0, a1, s, y1, y2, y3, y4, y5, y6, y7, y8, y9, y10 = QQ['a0, a1, s, y1, y2, y3, y4, y5, y6, y7, y8, y9, y10'].gens()\n",
    "P.<a0, a1, s, y1, y2, y3, y4, y5, y6, y7, y8, y9, y10> = PolynomialRing(QQ, 13, order='lex')\n",
    "def get_r_m(m):\n",
    "    r_m = ((1 + s) / 2) * a0 ^ m + ((1 - s) / 2) * a1 ^ m\n",
    "    return r_m\n",
    "\n",
    "r1 = get_r_m(1)\n",
    "r2 = get_r_m(2)\n",
    "r3 = get_r_m(3)\n",
    "r4 = get_r_m(4)\n",
    "\n",
    "\n",
    "J_gens = [r1 - y1, r2 - y2, r3 - y3]\n",
    "J = ideal(J_gens)"
   ]
  },
  {
   "cell_type": "code",
   "execution_count": 26,
   "id": "1914ad3f",
   "metadata": {},
   "outputs": [
    {
     "data": {
      "text/plain": [
       "-a0*y1*y2 + a0*y3 - a1*y1*y2 + a1*y3 + y2^2"
      ]
     },
     "execution_count": 26,
     "metadata": {},
     "output_type": "execute_result"
    }
   ],
   "source": [
    "J.reduce(r4)"
   ]
  },
  {
   "cell_type": "code",
   "execution_count": 27,
   "id": "227757d1",
   "metadata": {},
   "outputs": [],
   "source": [
    "r5 = get_r_m(5)"
   ]
  },
  {
   "cell_type": "code",
   "execution_count": 28,
   "id": "7f10bd3d",
   "metadata": {},
   "outputs": [],
   "source": [
    "J_gens = [r1 - y1, r2 - y2, r3 - y3, r4 - y4]\n",
    "J = ideal(J_gens)"
   ]
  },
  {
   "cell_type": "code",
   "execution_count": 29,
   "id": "05f24434",
   "metadata": {},
   "outputs": [
    {
     "data": {
      "text/plain": [
       "-a0*y2^2 + a0*y4 - a1*y2^2 + a1*y4 - y1*y4 + 2*y2*y3"
      ]
     },
     "execution_count": 29,
     "metadata": {},
     "output_type": "execute_result"
    }
   ],
   "source": [
    "J.reduce(r5)"
   ]
  },
  {
   "cell_type": "code",
   "execution_count": 30,
   "id": "f12673ee",
   "metadata": {},
   "outputs": [
    {
     "data": {
      "text/plain": [
       "-a0*y2*y3 + a0*y5 - a1*y2*y3 + a1*y5 - y1*y5 + y2*y4 + y3^2"
      ]
     },
     "execution_count": 30,
     "metadata": {},
     "output_type": "execute_result"
    }
   ],
   "source": [
    "r6 = get_r_m(6)\n",
    "J_gens = [r1 - y1, r2 - y2, r3 - y3, r4 - y4, r5 - y5]\n",
    "J = ideal(J_gens)\n",
    "J.reduce(r6)"
   ]
  },
  {
   "cell_type": "code",
   "execution_count": 31,
   "id": "4e874cbc",
   "metadata": {},
   "outputs": [
    {
     "data": {
      "text/plain": [
       "Lexicographic term order"
      ]
     },
     "execution_count": 31,
     "metadata": {},
     "output_type": "execute_result"
    }
   ],
   "source": [
    "r5.parent().term_order()"
   ]
  },
  {
   "cell_type": "code",
   "execution_count": 32,
   "id": "63ece154",
   "metadata": {},
   "outputs": [
    {
     "data": {
      "text/plain": [
       "-a0*y3^2 + a0*y6 - a1*y3^2 + a1*y6 - y1*y6 + 2*y3*y4"
      ]
     },
     "execution_count": 32,
     "metadata": {},
     "output_type": "execute_result"
    }
   ],
   "source": [
    "r7 = get_r_m(7)\n",
    "J_gens = [r1 - y1, r2 - y2, r3 - y3, r4 - y4, r5 - y5, r6 - y6]\n",
    "J = ideal(J_gens)\n",
    "J.reduce(r7)"
   ]
  },
  {
   "cell_type": "code",
   "execution_count": 38,
   "id": "96db5731",
   "metadata": {},
   "outputs": [
    {
     "data": {
      "text/plain": [
       "s^2*y1^3*y3 - 3/4*s^2*y1^2*y2^2 - 3/2*s^2*y1*y2*y3 + s^2*y2^3 + 1/4*s^2*y3^2 - y1^6 + 3*y1^4*y2 - y1^3*y3 - 9/4*y1^2*y2^2 + 3/2*y1*y2*y3 - 1/4*y3^2"
      ]
     },
     "execution_count": 38,
     "metadata": {},
     "output_type": "execute_result"
    }
   ],
   "source": [
    "J_gens = [r1 - y1, r2 - y2, r3 - y3]\n",
    "J = ideal(J_gens)\n",
    "J.groebner_basis()[-1]"
   ]
  },
  {
   "cell_type": "code",
   "execution_count": 37,
   "id": "f4f7dda0",
   "metadata": {},
   "outputs": [
    {
     "data": {
      "text/plain": [
       "y1^2*y4 - 2*y1*y2*y3 + y2^3 - y2*y4 + y3^2"
      ]
     },
     "execution_count": 37,
     "metadata": {},
     "output_type": "execute_result"
    }
   ],
   "source": [
    "J_gens = [r1 - y1, r2 - y2, r3 - y3, r4 - y4]\n",
    "J = ideal(J_gens)\n",
    "J.groebner_basis()[-1]"
   ]
  },
  {
   "cell_type": "code",
   "execution_count": 39,
   "id": "4282ea6f",
   "metadata": {},
   "outputs": [
    {
     "data": {
      "text/plain": [
       "y2^3*y5^2 - 4*y2^2*y3*y4*y5 + y2^2*y4^3 + 2*y2*y3^3*y5 + y2*y3^2*y4^2 - y3^4*y4 - y3^2*y5^2 + 2*y3*y4^2*y5 - y4^4"
      ]
     },
     "execution_count": 39,
     "metadata": {},
     "output_type": "execute_result"
    }
   ],
   "source": [
    "J_gens = [r1 - y1, r2 - y2, r3 - y3, r4 - y4, r5 - y5]\n",
    "J = ideal(J_gens)\n",
    "J.groebner_basis()[-1]"
   ]
  },
  {
   "cell_type": "code",
   "execution_count": 40,
   "id": "7bd2db1d",
   "metadata": {},
   "outputs": [
    {
     "data": {
      "text/plain": [
       "y3^4*y6^3 - 6*y3^3*y4*y5*y6^2 + 2*y3^3*y5^3*y6 + 3*y3^2*y4^3*y6^2 + 6*y3^2*y4^2*y5^2*y6 - 3*y3^2*y4*y5^4 - 6*y3*y4^4*y5*y6 + 2*y3*y4^3*y5^3 + y4^6*y6 - y4^3*y6^3 + 3*y4^2*y5^2*y6^2 - 3*y4*y5^4*y6 + y5^6"
      ]
     },
     "execution_count": 40,
     "metadata": {},
     "output_type": "execute_result"
    }
   ],
   "source": [
    "J_gens = [r1 - y1, r2 - y2, r3 - y3, r4 - y4, r5 - y5, r6 - y6]\n",
    "J = ideal(J_gens)\n",
    "J.groebner_basis()[-1]"
   ]
  },
  {
   "cell_type": "code",
   "execution_count": null,
   "id": "1dde2b49",
   "metadata": {},
   "outputs": [],
   "source": []
  }
 ],
 "metadata": {
  "kernelspec": {
   "display_name": "SageMath 10.0",
   "language": "sage",
   "name": "sagemath-10.0"
  },
  "language_info": {
   "codemirror_mode": {
    "name": "ipython",
    "version": 3
   },
   "file_extension": ".py",
   "mimetype": "text/x-python",
   "name": "python",
   "nbconvert_exporter": "python",
   "pygments_lexer": "ipython3",
   "version": "3.11.1"
  }
 },
 "nbformat": 4,
 "nbformat_minor": 5
}
