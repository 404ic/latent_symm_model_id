{
 "cells": [
  {
   "cell_type": "code",
   "execution_count": 62,
   "id": "382285c8",
   "metadata": {},
   "outputs": [],
   "source": [
    "a0, a1, s = QQ['a0, a1, s'].gens()\n",
    "def get_r_m(m):\n",
    "    r_m = ((1 + s) / 2) * a0 ^ m + ((1 - s) / 2) * a1 ^ m\n",
    "    return r_m"
   ]
  },
  {
   "cell_type": "code",
   "execution_count": 63,
   "id": "c645d30c",
   "metadata": {},
   "outputs": [
    {
     "data": {
      "text/plain": [
       "1/2*a0*s - 1/2*a1*s + 1/2*a0 + 1/2*a1"
      ]
     },
     "execution_count": 63,
     "metadata": {},
     "output_type": "execute_result"
    }
   ],
   "source": [
    "r1 = get_r_m(1)\n",
    "r1"
   ]
  },
  {
   "cell_type": "code",
   "execution_count": 64,
   "id": "c43395db",
   "metadata": {},
   "outputs": [
    {
     "data": {
      "text/plain": [
       "1/2*a0^2*s - 1/2*a1^2*s + 1/2*a0^2 + 1/2*a1^2"
      ]
     },
     "execution_count": 64,
     "metadata": {},
     "output_type": "execute_result"
    }
   ],
   "source": [
    "r2 = get_r_m(2)\n",
    "r2"
   ]
  },
  {
   "cell_type": "code",
   "execution_count": 65,
   "id": "075b90c6",
   "metadata": {},
   "outputs": [
    {
     "data": {
      "text/plain": [
       "1/2*a0^3*s - 1/2*a1^3*s + 1/2*a0^3 + 1/2*a1^3"
      ]
     },
     "execution_count": 65,
     "metadata": {},
     "output_type": "execute_result"
    }
   ],
   "source": [
    "r3 = get_r_m(3)\n",
    "r3"
   ]
  },
  {
   "cell_type": "code",
   "execution_count": 66,
   "id": "4fdf31ff",
   "metadata": {},
   "outputs": [
    {
     "data": {
      "text/plain": [
       "1/2*a0^4*s - 1/2*a1^4*s + 1/2*a0^4 + 1/2*a1^4"
      ]
     },
     "execution_count": 66,
     "metadata": {},
     "output_type": "execute_result"
    }
   ],
   "source": [
    "r4 = get_r_m(4)\n",
    "r4"
   ]
  },
  {
   "cell_type": "code",
   "execution_count": 67,
   "id": "bc055f51",
   "metadata": {},
   "outputs": [],
   "source": [
    "a0, a1, s, y1, y2, y3, y4, y5, y6, y7, y8, y9, y10 = QQ['a0, a1, s, y1, y2, y3, y4, y5, y6, y7, y8, y9, y10'].gens()\n",
    "P.<a0, a1, s, y1, y2, y3, y4, y5, y6, y7, y8, y9, y10> = PolynomialRing(QQ, 13, order='lex')\n",
    "def get_r_m(m):\n",
    "    r_m = ((1 + s) / 2) * a0 ^ m + ((1 - s) / 2) * a1 ^ m\n",
    "    return r_m\n",
    "\n",
    "r1 = get_r_m(1)\n",
    "r2 = get_r_m(2)\n",
    "r3 = get_r_m(3)\n",
    "r4 = get_r_m(4)\n",
    "\n",
    "\n",
    "J_gens = [r1 - y1, r2 - y2, r3 - y3]\n",
    "J = ideal(J_gens)"
   ]
  },
  {
   "cell_type": "code",
   "execution_count": 68,
   "id": "37ccd082",
   "metadata": {},
   "outputs": [
    {
     "data": {
      "text/plain": [
       "-a0*y1*y2 + a0*y3 - a1*y1*y2 + a1*y3 + y2^2"
      ]
     },
     "execution_count": 68,
     "metadata": {},
     "output_type": "execute_result"
    }
   ],
   "source": [
    "J.reduce(r4)"
   ]
  },
  {
   "cell_type": "code",
   "execution_count": 69,
   "id": "8b3d4b1c",
   "metadata": {},
   "outputs": [],
   "source": [
    "r5 = get_r_m(5)"
   ]
  },
  {
   "cell_type": "code",
   "execution_count": 70,
   "id": "80a1e3ef",
   "metadata": {},
   "outputs": [],
   "source": [
    "J_gens = [r1 - y1, r2 - y2, r3 - y3, r4 - y4]\n",
    "J = ideal(J_gens)"
   ]
  },
  {
   "cell_type": "code",
   "execution_count": 71,
   "id": "4c1c1e14",
   "metadata": {},
   "outputs": [
    {
     "data": {
      "text/plain": [
       "-a0*y2^2 + a0*y4 - a1*y2^2 + a1*y4 - y1*y4 + 2*y2*y3"
      ]
     },
     "execution_count": 71,
     "metadata": {},
     "output_type": "execute_result"
    }
   ],
   "source": [
    "J.reduce(r5)"
   ]
  },
  {
   "cell_type": "code",
   "execution_count": 72,
   "id": "11d4acad",
   "metadata": {},
   "outputs": [
    {
     "data": {
      "text/plain": [
       "-a0*y2*y3 + a0*y5 - a1*y2*y3 + a1*y5 - y1*y5 + y2*y4 + y3^2"
      ]
     },
     "execution_count": 72,
     "metadata": {},
     "output_type": "execute_result"
    }
   ],
   "source": [
    "r6 = get_r_m(6)\n",
    "J_gens = [r1 - y1, r2 - y2, r3 - y3, r4 - y4, r5 - y5]\n",
    "J = ideal(J_gens)\n",
    "J.reduce(r6)"
   ]
  },
  {
   "cell_type": "code",
   "execution_count": 73,
   "id": "fbd52dec",
   "metadata": {},
   "outputs": [
    {
     "data": {
      "text/plain": [
       "Lexicographic term order"
      ]
     },
     "execution_count": 73,
     "metadata": {},
     "output_type": "execute_result"
    }
   ],
   "source": [
    "r5.parent().term_order()"
   ]
  },
  {
   "cell_type": "code",
   "execution_count": 91,
   "id": "8bdd06c9",
   "metadata": {},
   "outputs": [],
   "source": [
    "p1 = a0 + a1\n",
    "r7 = get_r_m(7)\n",
    "r8 = get_r_m(8)\n",
    "r9 = get_r_m(9)"
   ]
  },
  {
   "cell_type": "code",
   "execution_count": 83,
   "id": "567060d0",
   "metadata": {},
   "outputs": [
    {
     "name": "stdout",
     "output_type": "stream",
     "text": [
      "-y1^2*y3 + y1*y2 + y2*y3\n"
     ]
    }
   ],
   "source": [
    "J_gens = [r1 - y1, r2 - y2, p1 - y3]\n",
    "J = ideal(J_gens)\n",
    "\n",
    "for i in range(3, 4):\n",
    "    rc = get_r_m(i)\n",
    "    print(J.reduce(rc))"
   ]
  },
  {
   "cell_type": "code",
   "execution_count": 85,
   "id": "ca21e584",
   "metadata": {},
   "outputs": [
    {
     "data": {
      "text/plain": [
       "-y1*y2*y4 + y2^2 + y3*y4"
      ]
     },
     "execution_count": 85,
     "metadata": {},
     "output_type": "execute_result"
    }
   ],
   "source": [
    "J_gens = [r1 - y1, r2 - y2, r3 - y3, p1 - y4]\n",
    "J = ideal(J_gens)\n",
    "\n",
    "J.reduce(r4)"
   ]
  },
  {
   "cell_type": "code",
   "execution_count": 86,
   "id": "69a8ee8e",
   "metadata": {},
   "outputs": [
    {
     "data": {
      "text/plain": [
       "-y1*y4 - y2^2*y5 + 2*y2*y3 + y4*y5"
      ]
     },
     "execution_count": 86,
     "metadata": {},
     "output_type": "execute_result"
    }
   ],
   "source": [
    "J_gens = [r1 - y1, r2 - y2, r3 - y3, r4 - y4, p1 - y5]\n",
    "J = ideal(J_gens)\n",
    "\n",
    "J.reduce(r5)"
   ]
  },
  {
   "cell_type": "code",
   "execution_count": 87,
   "id": "cb3bdc35",
   "metadata": {},
   "outputs": [
    {
     "data": {
      "text/plain": [
       "y2^2*y6^2 - 2*y2*y3*y6 + y2*y4 - y4*y6^2 + 2*y5*y6"
      ]
     },
     "execution_count": 87,
     "metadata": {},
     "output_type": "execute_result"
    }
   ],
   "source": [
    "J_gens = [r1 - y1, r2 - y2, r3 - y3, r4 - y4, r5 - y5, p1 - y6]\n",
    "J = ideal(J_gens)\n",
    "\n",
    "J.reduce(r6)"
   ]
  },
  {
   "cell_type": "code",
   "execution_count": 88,
   "id": "b37f5104",
   "metadata": {},
   "outputs": [
    {
     "data": {
      "text/plain": [
       "y2*y3*y7^2 - 2*y3^2*y7 + y3*y4 - y5*y7^2 + 2*y6*y7"
      ]
     },
     "execution_count": 88,
     "metadata": {},
     "output_type": "execute_result"
    }
   ],
   "source": [
    "J_gens = [r1 - y1, r2 - y2, r3 - y3, r4 - y4, r5 - y5, r6 - y6, p1 - y7]\n",
    "J = ideal(J_gens)\n",
    "\n",
    "J.reduce(r7)"
   ]
  },
  {
   "cell_type": "code",
   "execution_count": 89,
   "id": "165533b4",
   "metadata": {},
   "outputs": [
    {
     "data": {
      "text/plain": [
       "y2*y6 + y3^2*y8^2 - 2*y3*y4*y8 - y6*y8^2 + 2*y7*y8"
      ]
     },
     "execution_count": 89,
     "metadata": {},
     "output_type": "execute_result"
    }
   ],
   "source": [
    "J_gens = [r1 - y1, r2 - y2, r3 - y3, r4 - y4, r5 - y5, r6 - y6, r7 - y7, p1 - y8]\n",
    "J = ideal(J_gens)\n",
    "\n",
    "J.reduce(r8)"
   ]
  },
  {
   "cell_type": "code",
   "execution_count": 92,
   "id": "825777f3",
   "metadata": {},
   "outputs": [
    {
     "data": {
      "text/plain": [
       "-y3^2*y9^3 + 3*y3*y4*y9^2 - 2*y3*y6 - 3*y4^2*y9 + 3*y4*y5 + y6*y9^3 - 3*y7*y9^2 + 3*y8*y9"
      ]
     },
     "execution_count": 92,
     "metadata": {},
     "output_type": "execute_result"
    }
   ],
   "source": [
    "J_gens = [r1 - y1, r2 - y2, r3 - y3, r4 - y4, r5 - y5, r6 - y6, r7 - y7, r8 - y8, p1 - y9]\n",
    "J = ideal(J_gens)\n",
    "\n",
    "J.reduce(r9)"
   ]
  },
  {
   "cell_type": "code",
   "execution_count": null,
   "id": "452c12be",
   "metadata": {},
   "outputs": [],
   "source": []
  }
 ],
 "metadata": {
  "kernelspec": {
   "display_name": "SageMath 9.6",
   "language": "sage",
   "name": "sagemath-9.6"
  },
  "language_info": {
   "codemirror_mode": {
    "name": "ipython",
    "version": 3
   },
   "file_extension": ".py",
   "mimetype": "text/x-python",
   "name": "python",
   "nbconvert_exporter": "python",
   "pygments_lexer": "ipython3",
   "version": "3.10.3"
  }
 },
 "nbformat": 4,
 "nbformat_minor": 5
}
