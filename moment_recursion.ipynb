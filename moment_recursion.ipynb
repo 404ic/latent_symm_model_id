{
 "cells": [
  {
   "cell_type": "code",
   "execution_count": 6,
   "id": "f4a8e9c0",
   "metadata": {},
   "outputs": [],
   "source": [
    "a0, a1, s = QQ['a0, a1, s'].gens()\n",
    "def get_r_m(m):\n",
    "    r_m = ((1 + s) / 2) * a0 ^ m + ((1 - s) / 2) * a1 ^ m\n",
    "    return r_m"
   ]
  },
  {
   "cell_type": "code",
   "execution_count": 7,
   "id": "c7158cf1",
   "metadata": {},
   "outputs": [
    {
     "data": {
      "text/plain": [
       "1/2*a0*s - 1/2*a1*s + 1/2*a0 + 1/2*a1"
      ]
     },
     "execution_count": 7,
     "metadata": {},
     "output_type": "execute_result"
    }
   ],
   "source": [
    "r1 = get_r_m(1)\n",
    "r1"
   ]
  },
  {
   "cell_type": "code",
   "execution_count": 8,
   "id": "8c241afc",
   "metadata": {},
   "outputs": [
    {
     "data": {
      "text/plain": [
       "1/2*a0^2*s - 1/2*a1^2*s + 1/2*a0^2 + 1/2*a1^2"
      ]
     },
     "execution_count": 8,
     "metadata": {},
     "output_type": "execute_result"
    }
   ],
   "source": [
    "r2 = get_r_m(2)\n",
    "r2"
   ]
  },
  {
   "cell_type": "code",
   "execution_count": 9,
   "id": "417f3779",
   "metadata": {},
   "outputs": [
    {
     "data": {
      "text/plain": [
       "1/2*a0^3*s - 1/2*a1^3*s + 1/2*a0^3 + 1/2*a1^3"
      ]
     },
     "execution_count": 9,
     "metadata": {},
     "output_type": "execute_result"
    }
   ],
   "source": [
    "r3 = get_r_m(3)\n",
    "r3"
   ]
  },
  {
   "cell_type": "code",
   "execution_count": 10,
   "id": "8afaf693",
   "metadata": {},
   "outputs": [
    {
     "data": {
      "text/plain": [
       "1/2*a0^4*s - 1/2*a1^4*s + 1/2*a0^4 + 1/2*a1^4"
      ]
     },
     "execution_count": 10,
     "metadata": {},
     "output_type": "execute_result"
    }
   ],
   "source": [
    "r4 = get_r_m(4)\n",
    "r4"
   ]
  },
  {
   "cell_type": "code",
   "execution_count": 18,
   "id": "23b7e6b7",
   "metadata": {},
   "outputs": [],
   "source": [
    "a0, a1, s, y1, y2, y3, y4, y5, y6, y7, y8, y9, y10 = QQ['a0, a1, s, y1, y2, y3, y4, y5, y6, y7, y8, y9, y10'].gens()\n",
    "def get_r_m(m):\n",
    "    r_m = ((1 + s) / 2) * a0 ^ m + ((1 - s) / 2) * a1 ^ m\n",
    "    return r_m\n",
    "\n",
    "r1 = get_r_m(1)\n",
    "r2 = get_r_m(2)\n",
    "r3 = get_r_m(3)\n",
    "r4 = get_r_m(4)\n",
    "\n",
    "\n",
    "J_gens = [r1 - y1, r2 - y2, r3 - y3]\n",
    "J = ideal(J_gens)"
   ]
  },
  {
   "cell_type": "code",
   "execution_count": 19,
   "id": "4a33dfa2",
   "metadata": {},
   "outputs": [
    {
     "data": {
      "text/plain": [
       "-a0*y1*y2 - a1*y1*y2 + y2^2 + a0*y3 + a1*y3"
      ]
     },
     "execution_count": 19,
     "metadata": {},
     "output_type": "execute_result"
    }
   ],
   "source": [
    "J.reduce(r4)"
   ]
  },
  {
   "cell_type": "code",
   "execution_count": 20,
   "id": "f9ac314a",
   "metadata": {},
   "outputs": [],
   "source": [
    "r5 = get_r_m(5)"
   ]
  },
  {
   "cell_type": "code",
   "execution_count": 21,
   "id": "440a07d1",
   "metadata": {},
   "outputs": [],
   "source": [
    "J_gens = [r1 - y1, r2 - y2, r3 - y3, r4 - y4]\n",
    "J = ideal(J_gens)"
   ]
  },
  {
   "cell_type": "code",
   "execution_count": 22,
   "id": "bf687686",
   "metadata": {},
   "outputs": [
    {
     "data": {
      "text/plain": [
       "-a0*y1*y3 - a1*y1*y3 + y2*y3 + a0*y4 + a1*y4"
      ]
     },
     "execution_count": 22,
     "metadata": {},
     "output_type": "execute_result"
    }
   ],
   "source": [
    "J.reduce(r5)"
   ]
  },
  {
   "cell_type": "code",
   "execution_count": null,
   "id": "163670cc",
   "metadata": {},
   "outputs": [],
   "source": []
  }
 ],
 "metadata": {
  "kernelspec": {
   "display_name": "SageMath 10.0",
   "language": "sage",
   "name": "sagemath-10.0"
  },
  "language_info": {
   "codemirror_mode": {
    "name": "ipython",
    "version": 3
   },
   "file_extension": ".py",
   "mimetype": "text/x-python",
   "name": "python",
   "nbconvert_exporter": "python",
   "pygments_lexer": "ipython3",
   "version": "3.11.1"
  }
 },
 "nbformat": 4,
 "nbformat_minor": 5
}
