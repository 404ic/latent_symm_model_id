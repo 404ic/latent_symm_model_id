{
 "cells": [
  {
   "cell_type": "code",
   "execution_count": 1,
   "id": "626071a9",
   "metadata": {},
   "outputs": [],
   "source": [
    "def trans_mat(F, k):\n",
    "    MS = MatrixSpace(F, k, k);\n",
    "\n",
    "    # Want k x k matrices\n",
    "    # T is identity except swapping 1st and 2nd positions\n",
    "    T = MS([[1 if j == i else 0 for j in range(k)] if i > 1 else [abs(j - i) if j < 2 else 0 for j in range(k)] for i in range(k)])\n",
    "    return T\n",
    "\n",
    "def cyc_mat(F, k):\n",
    "    F = QQ;\n",
    "    MS = MatrixSpace(F, k, k);\n",
    "\n",
    "    # Want k x k matrices\n",
    "    # T is identity except swapping 1st and 2nd positions\n",
    "    C = MS([[1 if j == i - 1 else 0 for j in range(k)] if i > 0 else [1 if j == k - 1 else 0 for j in range(k)] for i in range(k)])\n",
    "    return C\n",
    "\n",
    "def zero_mat(F, k):\n",
    "    MS = MatrixSpace(F, k, k);\n",
    "\n",
    "    # Want k x k matrices\n",
    "    # T is identity except swapping 1st and 2nd positions\n",
    "    O = MS(0)\n",
    "    return O\n",
    "\n",
    "def get_gen_mats(F, l, k):\n",
    "    T = trans_mat(F, k);\n",
    "    C = cyc_mat(F, k);\n",
    "    I = matrix.identity(k)\n",
    "    O = zero_mat(F, k);\n",
    "    \n",
    "    # Permute the blocks themselves\n",
    "    # Permute the elements within the blocks (using tranpose and cyclic matrices from above)\n",
    "    gens = []\n",
    "    \n",
    "    # Matrices for permuting the blocks among themselves, S_l\n",
    "    # One block transpose matrix, one cycle.\n",
    "    BT = block_matrix([[I if j == i else O for j in range(l)] if i > 1 else [abs(j - i) * I if j < 2 else O for j in range(l)] for i in range(l)])\n",
    "    BC = block_matrix([[I if j == i - 1 else O for j in range(l)] if i > 0 else [I if j == l - 1 else O for j in range(l)] for i in range(l)])\n",
    "    gens.extend([BT, BC])\n",
    "    \n",
    "    # Matrices for permutations within the blocks, S_k.\n",
    "    # One tranposition and one cycle for each block.\n",
    "    for b in range(l):\n",
    "        T_b = block_matrix([[(T if i == b else I) if j == i else O for j in range(l)] for i in range(l)])\n",
    "        C_b = block_matrix([[(C if i == b else I) if j == i else O for j in range(l)] for i in range(l)])\n",
    "        gens.extend([T_b, C_b])\n",
    "\n",
    "    return gens"
   ]
  },
  {
   "cell_type": "code",
   "execution_count": 2,
   "id": "7d79306f",
   "metadata": {},
   "outputs": [],
   "source": [
    "def get_inv_gens(F, l, k):\n",
    "    gen_mats = get_gen_mats(F, l, k)\n",
    "    G = MatrixGroup(gen_mats);\n",
    "    gens = G.invariant_generators()\n",
    "    return gens"
   ]
  },
  {
   "cell_type": "code",
   "execution_count": 3,
   "id": "b085cba0",
   "metadata": {},
   "outputs": [],
   "source": [
    "inv_gens_2_2 = get_inv_gens(QQ, 2, 2)"
   ]
  },
  {
   "cell_type": "code",
   "execution_count": 4,
   "id": "f1aa85f4",
   "metadata": {},
   "outputs": [
    {
     "data": {
      "text/plain": [
       "[x1 + x2 + x3 + x4,\n",
       " x1^2 + x2^2 + x3^2 + x4^2,\n",
       " x1*x2 + x3*x4,\n",
       " x1^3 + x2^3 + x3^3 + x4^3,\n",
       " x1^4 + x2^4 + x3^4 + x4^4]"
      ]
     },
     "execution_count": 4,
     "metadata": {},
     "output_type": "execute_result"
    }
   ],
   "source": [
    "inv_gens_2_2"
   ]
  },
  {
   "cell_type": "code",
   "execution_count": 5,
   "id": "5c8ab717",
   "metadata": {},
   "outputs": [
    {
     "ename": "NameError",
     "evalue": "name 'y1' is not defined",
     "output_type": "error",
     "traceback": [
      "\u001b[0;31m---------------------------------------------------------------------------\u001b[0m",
      "\u001b[0;31mNameError\u001b[0m                                 Traceback (most recent call last)",
      "Cell \u001b[0;32mIn [5], line 5\u001b[0m\n\u001b[1;32m      2\u001b[0m n_gens \u001b[38;5;241m=\u001b[39m \u001b[38;5;28mlen\u001b[39m(inv_gens)\n\u001b[1;32m      3\u001b[0m l, k \u001b[38;5;241m=\u001b[39m Integer(\u001b[38;5;241m2\u001b[39m), Integer(\u001b[38;5;241m2\u001b[39m)\n\u001b[0;32m----> 5\u001b[0m y \u001b[38;5;241m=\u001b[39m [\u001b[43my1\u001b[49m, y2, y3, y4, y5]\n\u001b[1;32m      6\u001b[0m x1, x2, x3, x4, y1, y2, y3, y4, y5 \u001b[38;5;241m=\u001b[39m QQ[\u001b[38;5;124m'\u001b[39m\u001b[38;5;124mx1, x2, x3, x4, y1, y2, y3, y4, y5\u001b[39m\u001b[38;5;124m'\u001b[39m]\u001b[38;5;241m.\u001b[39mgens()\n\u001b[1;32m      7\u001b[0m J_gens \u001b[38;5;241m=\u001b[39m [inv_gens[i] \u001b[38;5;241m-\u001b[39m y[i] \u001b[38;5;28;01mfor\u001b[39;00m i \u001b[38;5;129;01min\u001b[39;00m \u001b[38;5;28mrange\u001b[39m(n_gens)]\n",
      "\u001b[0;31mNameError\u001b[0m: name 'y1' is not defined"
     ]
    }
   ],
   "source": [
    "inv_gens = inv_gens_2_2\n",
    "n_gens = len(inv_gens)\n",
    "l, k = 2, 2\n",
    "\n",
    "y = [y1, y2, y3, y4, y5]\n",
    "x1, x2, x3, x4, y1, y2, y3, y4, y5 = QQ['x1, x2, x3, x4, y1, y2, y3, y4, y5'].gens()\n",
    "J_gens = [inv_gens[i] - y[i] for i in range(n_gens)]\n",
    "J = ideal(J_gens)\n",
    "expr = J.reduce(P_1)\n",
    "print(expr)"
   ]
  },
  {
   "cell_type": "code",
   "execution_count": 9,
   "id": "c9ae13f7",
   "metadata": {},
   "outputs": [
    {
     "name": "stdout",
     "output_type": "stream",
     "text": [
      "1/2*y1^2 - 1/2*y2 - y3\n"
     ]
    }
   ],
   "source": [
    "inv_gens = inv_gens_2_2\n",
    "n_gens = len(inv_gens)\n",
    "l, k = 2, 2\n",
    "P_1 = x1*x3 + x1*x4 + x2*x3 + x2*x4\n",
    "\n",
    "x1, x2, x3, x4, y1, y2, y3, y4, y5 = QQ['x1, x2, x3, x4, y1, y2, y3, y4, y5'].gens()\n",
    "y = [y1, y2, y3, y4, y5]\n",
    "J_gens = [inv_gens[i] - y[i] for i in range(n_gens)]\n",
    "J = ideal(J_gens)\n",
    "expr = J.reduce(P_1)\n",
    "print(expr)"
   ]
  },
  {
   "cell_type": "markdown",
   "id": "de2a6283",
   "metadata": {},
   "source": [
    "We need to define the list of y's AFTER having defined the x's and y's as being from the rational field. Now, how do we do that for a list of arbitrary length? Can we use vars, which probably yield symbolic variables? Should we just try to use strings?"
   ]
  },
  {
   "cell_type": "code",
   "execution_count": 10,
   "id": "7c6e0d90",
   "metadata": {},
   "outputs": [
    {
     "name": "stdout",
     "output_type": "stream",
     "text": [
      "x1*x3 + x2*x3 + x1*x4 + x2*x4\n"
     ]
    }
   ],
   "source": [
    "y = [var('y%d' %(i + 1)) for i in range(n_gens)]\n",
    "J_gens = [inv_gens[i] - y[i] for i in range(n_gens)]\n",
    "J = ideal(J_gens)\n",
    "expr = J.reduce(P_1)\n",
    "print(expr)"
   ]
  },
  {
   "cell_type": "code",
   "execution_count": 11,
   "id": "d3f30113",
   "metadata": {},
   "outputs": [
    {
     "name": "stdout",
     "output_type": "stream",
     "text": [
      "x1*x3 + x2*x3 + x1*x4 + x2*x4\n"
     ]
    }
   ],
   "source": [
    "y = [y1, y2, y3, y4, y5]\n",
    "J_gens = [inv_gens[i] - y[i] for i in range(n_gens)]\n",
    "J = ideal(J_gens)\n",
    "expr = J.reduce(P_1)\n",
    "print(expr)"
   ]
  },
  {
   "cell_type": "code",
   "execution_count": 12,
   "id": "f248d6ad",
   "metadata": {},
   "outputs": [
    {
     "name": "stdout",
     "output_type": "stream",
     "text": [
      "1/2*y1^2 - 1/2*y2 - y3\n"
     ]
    }
   ],
   "source": [
    "x1, x2, x3, x4, y1, y2, y3, y4, y5 = QQ['x1, x2, x3, x4, y1, y2, y3, y4, y5'].gens()\n",
    "y = [y1, y2, y3, y4, y5]\n",
    "J_gens = [inv_gens[i] - y[i] for i in range(n_gens)]\n",
    "J = ideal(J_gens)\n",
    "expr = J.reduce(P_1)\n",
    "print(expr)"
   ]
  },
  {
   "cell_type": "code",
   "execution_count": 13,
   "id": "b8e095f5",
   "metadata": {},
   "outputs": [
    {
     "ename": "TypeError",
     "evalue": "unsupported operand type(s) for -: 'sage.rings.polynomial.multi_polynomial_libsingular.MPolynomial_libsingular' and 'str'",
     "output_type": "error",
     "traceback": [
      "\u001b[0;31m---------------------------------------------------------------------------\u001b[0m",
      "\u001b[0;31mTypeError\u001b[0m                                 Traceback (most recent call last)",
      "Cell \u001b[0;32mIn [13], line 2\u001b[0m\n\u001b[1;32m      1\u001b[0m y \u001b[38;5;241m=\u001b[39m [\u001b[38;5;124m'\u001b[39m\u001b[38;5;124my\u001b[39m\u001b[38;5;132;01m%d\u001b[39;00m\u001b[38;5;124m'\u001b[39m \u001b[38;5;241m%\u001b[39m(i \u001b[38;5;241m+\u001b[39m Integer(\u001b[38;5;241m1\u001b[39m)) \u001b[38;5;28;01mfor\u001b[39;00m i \u001b[38;5;129;01min\u001b[39;00m \u001b[38;5;28mrange\u001b[39m(n_gens)]\n\u001b[0;32m----> 2\u001b[0m J_gens \u001b[38;5;241m=\u001b[39m \u001b[43m[\u001b[49m\u001b[43minv_gens\u001b[49m\u001b[43m[\u001b[49m\u001b[43mi\u001b[49m\u001b[43m]\u001b[49m\u001b[43m \u001b[49m\u001b[38;5;241;43m-\u001b[39;49m\u001b[43m \u001b[49m\u001b[43my\u001b[49m\u001b[43m[\u001b[49m\u001b[43mi\u001b[49m\u001b[43m]\u001b[49m\u001b[43m \u001b[49m\u001b[38;5;28;43;01mfor\u001b[39;49;00m\u001b[43m \u001b[49m\u001b[43mi\u001b[49m\u001b[43m \u001b[49m\u001b[38;5;129;43;01min\u001b[39;49;00m\u001b[43m \u001b[49m\u001b[38;5;28;43mrange\u001b[39;49m\u001b[43m(\u001b[49m\u001b[43mn_gens\u001b[49m\u001b[43m)\u001b[49m\u001b[43m]\u001b[49m\n\u001b[1;32m      3\u001b[0m J \u001b[38;5;241m=\u001b[39m ideal(J_gens)\n\u001b[1;32m      4\u001b[0m expr \u001b[38;5;241m=\u001b[39m J\u001b[38;5;241m.\u001b[39mreduce(P_1)\n",
      "Cell \u001b[0;32mIn [13], line 2\u001b[0m, in \u001b[0;36m<listcomp>\u001b[0;34m(.0)\u001b[0m\n\u001b[1;32m      1\u001b[0m y \u001b[38;5;241m=\u001b[39m [\u001b[38;5;124m'\u001b[39m\u001b[38;5;124my\u001b[39m\u001b[38;5;132;01m%d\u001b[39;00m\u001b[38;5;124m'\u001b[39m \u001b[38;5;241m%\u001b[39m(i \u001b[38;5;241m+\u001b[39m Integer(\u001b[38;5;241m1\u001b[39m)) \u001b[38;5;28;01mfor\u001b[39;00m i \u001b[38;5;129;01min\u001b[39;00m \u001b[38;5;28mrange\u001b[39m(n_gens)]\n\u001b[0;32m----> 2\u001b[0m J_gens \u001b[38;5;241m=\u001b[39m [\u001b[43minv_gens\u001b[49m\u001b[43m[\u001b[49m\u001b[43mi\u001b[49m\u001b[43m]\u001b[49m\u001b[43m \u001b[49m\u001b[38;5;241;43m-\u001b[39;49m\u001b[43m \u001b[49m\u001b[43my\u001b[49m\u001b[43m[\u001b[49m\u001b[43mi\u001b[49m\u001b[43m]\u001b[49m \u001b[38;5;28;01mfor\u001b[39;00m i \u001b[38;5;129;01min\u001b[39;00m \u001b[38;5;28mrange\u001b[39m(n_gens)]\n\u001b[1;32m      3\u001b[0m J \u001b[38;5;241m=\u001b[39m ideal(J_gens)\n\u001b[1;32m      4\u001b[0m expr \u001b[38;5;241m=\u001b[39m J\u001b[38;5;241m.\u001b[39mreduce(P_1)\n",
      "\u001b[0;31mTypeError\u001b[0m: unsupported operand type(s) for -: 'sage.rings.polynomial.multi_polynomial_libsingular.MPolynomial_libsingular' and 'str'"
     ]
    }
   ],
   "source": [
    "y = ['y%d' %(i + 1) for i in range(n_gens)]\n",
    "J_gens = [inv_gens[i] - y[i] for i in range(n_gens)]\n",
    "J = ideal(J_gens)\n",
    "expr = J.reduce(P_1)\n",
    "print(expr)"
   ]
  },
  {
   "cell_type": "code",
   "execution_count": 8,
   "id": "9076a557",
   "metadata": {},
   "outputs": [
    {
     "name": "stdout",
     "output_type": "stream",
     "text": [
      "1/2*y1^2 - 1/2*y2 - y3\n"
     ]
    }
   ],
   "source": [
    "inv_gens = inv_gens_2_2\n",
    "n_gens = len(inv_gens)\n",
    "l, k = 2, 2\n",
    "\n",
    "str_x = ['x%d' %(i + 1) for i in range(l * k)]\n",
    "str_y = ['y%d' %(i + 1) for i in range(n_gens)]\n",
    "str_inds = str_x + str_y\n",
    "inds = QQ[', '.join(str_inds)].gens()\n",
    "n_inds = len(inds)\n",
    "\n",
    "P_1 = inds[0]*inds[2] + inds[0]*inds[3] + inds[1]*inds[2] + inds[1]*inds[3]\n",
    "y = [inds[i] for i in range(4, n_inds)]\n",
    "J_gens = [inv_gens[i] - y[i] for i in range(n_gens)]\n",
    "J = ideal(J_gens)\n",
    "expr = J.reduce(P_1)\n",
    "print(expr)"
   ]
  },
  {
   "cell_type": "code",
   "execution_count": 9,
   "id": "03376d63",
   "metadata": {},
   "outputs": [],
   "source": [
    "part_inds = [inds[j * k: (j + 1) * k] for j in range(l)]"
   ]
  },
  {
   "cell_type": "code",
   "execution_count": 11,
   "id": "584612c6",
   "metadata": {},
   "outputs": [
    {
     "data": {
      "text/plain": [
       "[(x1, x2), (x3, x4)]"
      ]
     },
     "execution_count": 11,
     "metadata": {},
     "output_type": "execute_result"
    }
   ],
   "source": [
    "part_inds"
   ]
  },
  {
   "cell_type": "code",
   "execution_count": 13,
   "id": "0808f0b5",
   "metadata": {},
   "outputs": [
    {
     "name": "stdout",
     "output_type": "stream",
     "text": [
      "0 1\n",
      "0 1\n"
     ]
    }
   ],
   "source": [
    "for (i, j) in (range(2), range(2)):\n",
    "    print(i, j)"
   ]
  },
  {
   "cell_type": "markdown",
   "id": "cb5e5695",
   "metadata": {},
   "source": [
    "We want to get each combination of elements where each element comes from a different partition. We somehow need to get all of the permutations."
   ]
  },
  {
   "cell_type": "code",
   "execution_count": null,
   "id": "af2e49da",
   "metadata": {},
   "outputs": [],
   "source": []
  },
  {
   "cell_type": "code",
   "execution_count": 18,
   "id": "d69c1f9e",
   "metadata": {},
   "outputs": [],
   "source": [
    "# Return the n^th moment\n",
    "# inds indexed as [0, lk - 1]\n",
    "def get_moment(inds, n, l, k):\n",
    "    # Note that x comes before y in inds, so this just returns a partition of x.\n",
    "    x = [inds[j * k: (j + 1) * k] for j in range(l)]\n",
    "    P = 0\n",
    "    \n",
    "    U = Tuples(range(k), l).list()\n",
    "    for u in U:\n",
    "        t = 1\n",
    "        for j in range(l):\n",
    "            u_j = u[j]\n",
    "            t *= x[j][u_j]\n",
    "        P += t^n\n",
    "    return P"
   ]
  },
  {
   "cell_type": "code",
   "execution_count": 15,
   "id": "def1f64c",
   "metadata": {},
   "outputs": [
    {
     "data": {
      "text/plain": [
       "x1*x3 + x2*x3 + x1*x4 + x2*x4"
      ]
     },
     "execution_count": 15,
     "metadata": {},
     "output_type": "execute_result"
    }
   ],
   "source": [
    "get_moment(inds, 1, 2, 2)"
   ]
  },
  {
   "cell_type": "code",
   "execution_count": 16,
   "id": "f8798697",
   "metadata": {},
   "outputs": [
    {
     "data": {
      "text/plain": [
       "x1^2*x3^2 + x2^2*x3^2 + x1^2*x4^2 + x2^2*x4^2"
      ]
     },
     "execution_count": 16,
     "metadata": {},
     "output_type": "execute_result"
    }
   ],
   "source": [
    "get_moment(inds, 2, 2, 2)"
   ]
  },
  {
   "cell_type": "code",
   "execution_count": 17,
   "id": "a50c343e",
   "metadata": {},
   "outputs": [],
   "source": [
    "P_1 = get_moment(inds, 1, 2, 2)"
   ]
  },
  {
   "cell_type": "code",
   "execution_count": 23,
   "id": "144d65f0",
   "metadata": {},
   "outputs": [],
   "source": [
    "def get_gen_expr(f, F, inv_gens, l, k):\n",
    "    n_gens = len(inv_gens)\n",
    "    str_x = ['x%d' %(i + 1) for i in range(l * k)]\n",
    "    str_y = ['y%d' %(i + 1) for i in range(n_gens)]\n",
    "    str_inds = str_x + str_y\n",
    "    inds = QQ[', '.join(str_inds)].gens()\n",
    "    n_inds = len(inds)\n",
    "    y = [inds[i] for i in range(n_inds - n_gens, n_inds)]\n",
    "    \n",
    "    J_gens = [inv_gens[i] - y[i] for i in range(n_gens)]\n",
    "    J = ideal(J_gens)\n",
    "    expr = J.reduce(f)\n",
    "    return expr"
   ]
  },
  {
   "cell_type": "code",
   "execution_count": 24,
   "id": "7feb0146",
   "metadata": {},
   "outputs": [
    {
     "data": {
      "text/plain": [
       "1/2*y1^2 - 1/2*y2 - y3"
      ]
     },
     "execution_count": 24,
     "metadata": {},
     "output_type": "execute_result"
    }
   ],
   "source": [
    "get_gen_expr(P_1, QQ, inv_gens_2_2, 2, 2)"
   ]
  },
  {
   "cell_type": "code",
   "execution_count": null,
   "id": "ba980318",
   "metadata": {},
   "outputs": [],
   "source": []
  }
 ],
 "metadata": {
  "kernelspec": {
   "display_name": "SageMath 10.0",
   "language": "sage",
   "name": "sagemath-10.0"
  },
  "language_info": {
   "codemirror_mode": {
    "name": "ipython",
    "version": 3
   },
   "file_extension": ".py",
   "mimetype": "text/x-python",
   "name": "python",
   "nbconvert_exporter": "python",
   "pygments_lexer": "ipython3",
   "version": "3.11.1"
  }
 },
 "nbformat": 4,
 "nbformat_minor": 5
}
