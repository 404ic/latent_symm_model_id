{
 "cells": [
  {
   "cell_type": "code",
   "execution_count": 43,
   "id": "4caf34be",
   "metadata": {},
   "outputs": [],
   "source": [
    "def trans_mat(F, k):\n",
    "    MS = MatrixSpace(F, k, k);\n",
    "\n",
    "    # Want k x k matrices\n",
    "    # T is identity except swapping 1st and 2nd positions\n",
    "    T = MS([[1 if j == i else 0 for j in range(k)] if i > 1 else [abs(j - i) if j < 2 else 0 for j in range(k)] for i in range(k)])\n",
    "    return T"
   ]
  },
  {
   "cell_type": "code",
   "execution_count": 44,
   "id": "fddbcd5a",
   "metadata": {},
   "outputs": [
    {
     "data": {
      "text/plain": [
       "[0 1]\n",
       "[1 0]"
      ]
     },
     "execution_count": 44,
     "metadata": {},
     "output_type": "execute_result"
    }
   ],
   "source": [
    "trans_mat(QQ, 2)"
   ]
  },
  {
   "cell_type": "code",
   "execution_count": 33,
   "id": "eec36fc9",
   "metadata": {},
   "outputs": [
    {
     "data": {
      "text/plain": [
       "[0 1 0 0 0]\n",
       "[1 0 0 0 0]\n",
       "[0 0 1 0 0]\n",
       "[0 0 0 1 0]\n",
       "[0 0 0 0 1]"
      ]
     },
     "execution_count": 33,
     "metadata": {},
     "output_type": "execute_result"
    }
   ],
   "source": [
    "trans_mat(QQ, 5)"
   ]
  },
  {
   "cell_type": "code",
   "execution_count": 34,
   "id": "d894a0dc",
   "metadata": {},
   "outputs": [],
   "source": [
    "def cyc_mat(F, k):\n",
    "    F = QQ;\n",
    "    MS = MatrixSpace(F, k, k);\n",
    "\n",
    "    # Want k x k matrices\n",
    "    # T is identity except swapping 1st and 2nd positions\n",
    "    C = MS([[1 if j == i - 1 else 0 for j in range(k)] if i > 0 else [1 if j == k - 1 else 0 for j in range(k)] for i in range(k)]\n",
    "    return C"
   ]
  },
  {
   "cell_type": "code",
   "execution_count": 35,
   "id": "92c7f2b2",
   "metadata": {},
   "outputs": [
    {
     "data": {
      "text/plain": [
       "[0 1]\n",
       "[1 0]"
      ]
     },
     "execution_count": 35,
     "metadata": {},
     "output_type": "execute_result"
    }
   ],
   "source": [
    "cyc_mat(QQ, 2)"
   ]
  },
  {
   "cell_type": "code",
   "execution_count": 36,
   "id": "8eaff08a",
   "metadata": {},
   "outputs": [
    {
     "data": {
      "text/plain": [
       "[0 0 0 0 1]\n",
       "[1 0 0 0 0]\n",
       "[0 1 0 0 0]\n",
       "[0 0 1 0 0]\n",
       "[0 0 0 1 0]"
      ]
     },
     "execution_count": 36,
     "metadata": {},
     "output_type": "execute_result"
    }
   ],
   "source": [
    "cyc_mat(QQ, 5)"
   ]
  },
  {
   "cell_type": "code",
   "execution_count": 46,
   "id": "dcd479e1",
   "metadata": {},
   "outputs": [],
   "source": [
    "def zero_mat(F, k):\n",
    "    MS = MatrixSpace(F, k, k);\n",
    "\n",
    "    # Want k x k matrices\n",
    "    # T is identity except swapping 1st and 2nd positions\n",
    "    O = MS(0)\n",
    "    return O"
   ]
  },
  {
   "cell_type": "code",
   "execution_count": 47,
   "id": "4fec9b79",
   "metadata": {},
   "outputs": [
    {
     "data": {
      "text/plain": [
       "[0 0]\n",
       "[0 0]"
      ]
     },
     "execution_count": 47,
     "metadata": {},
     "output_type": "execute_result"
    }
   ],
   "source": [
    "zero_mat(QQ, 2)"
   ]
  },
  {
   "cell_type": "code",
   "execution_count": 48,
   "id": "c430d1b9",
   "metadata": {},
   "outputs": [
    {
     "data": {
      "text/plain": [
       "[0 0 0 0 0]\n",
       "[0 0 0 0 0]\n",
       "[0 0 0 0 0]\n",
       "[0 0 0 0 0]\n",
       "[0 0 0 0 0]"
      ]
     },
     "execution_count": 48,
     "metadata": {},
     "output_type": "execute_result"
    }
   ],
   "source": [
    "zero_mat(QQ, 5)"
   ]
  },
  {
   "cell_type": "code",
   "execution_count": null,
   "id": "81826911",
   "metadata": {},
   "outputs": [],
   "source": [
    "def get_inv_gens(F, l, k):\n",
    "    T = trans_mat(F, k);\n",
    "    C = cyc_mat(F, k);\n",
    "    I = matrix.identity(k)\n",
    "    O = zero_mat(F, k);\n",
    "    \n",
    "    P = block_matrix([[Z, I], [I, Z]]);\n",
    "    T1 = block_matrix([[T, Z], [Z, I]]);\n",
    "    C1 = block_matrix([[C, Z], [Z, I]]);\n",
    "    T2 = block_matrix([[I, Z], [Z, T]]);\n",
    "    C2 = block_matrix([[I, Z], [Z, C]]);\n",
    "\n",
    "    gens = [P, T1, C1, T2, C2]\n",
    "    G = MatrixGroup(gens);\n",
    "    G.invariant_generators()"
   ]
  }
 ],
 "metadata": {
  "kernelspec": {
   "display_name": "SageMath 10.0",
   "language": "sage",
   "name": "sagemath-10.0"
  },
  "language_info": {
   "codemirror_mode": {
    "name": "ipython",
    "version": 3
   },
   "file_extension": ".py",
   "mimetype": "text/x-python",
   "name": "python",
   "nbconvert_exporter": "python",
   "pygments_lexer": "ipython3",
   "version": "3.11.1"
  }
 },
 "nbformat": 4,
 "nbformat_minor": 5
}
