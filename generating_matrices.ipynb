{
 "cells": [
  {
   "cell_type": "code",
   "execution_count": 43,
   "id": "914e31bd",
   "metadata": {},
   "outputs": [],
   "source": [
    "def trans_mat(F, k):\n",
    "    MS = MatrixSpace(F, k, k);\n",
    "\n",
    "    # Want k x k matrices\n",
    "    # T is identity except swapping 1st and 2nd positions\n",
    "    T = MS([[1 if j == i else 0 for j in range(k)] if i > 1 else [abs(j - i) if j < 2 else 0 for j in range(k)] for i in range(k)])\n",
    "    return T"
   ]
  },
  {
   "cell_type": "code",
   "execution_count": 44,
   "id": "a4a5ccd9",
   "metadata": {},
   "outputs": [
    {
     "data": {
      "text/plain": [
       "[0 1]\n",
       "[1 0]"
      ]
     },
     "execution_count": 44,
     "metadata": {},
     "output_type": "execute_result"
    }
   ],
   "source": [
    "trans_mat(QQ, 2)"
   ]
  },
  {
   "cell_type": "code",
   "execution_count": 33,
   "id": "1c66700a",
   "metadata": {},
   "outputs": [
    {
     "data": {
      "text/plain": [
       "[0 1 0 0 0]\n",
       "[1 0 0 0 0]\n",
       "[0 0 1 0 0]\n",
       "[0 0 0 1 0]\n",
       "[0 0 0 0 1]"
      ]
     },
     "execution_count": 33,
     "metadata": {},
     "output_type": "execute_result"
    }
   ],
   "source": [
    "trans_mat(QQ, 5)"
   ]
  },
  {
   "cell_type": "code",
   "execution_count": 34,
   "id": "9ac71c97",
   "metadata": {},
   "outputs": [],
   "source": [
    "def cyc_mat(F, k):\n",
    "    F = QQ;\n",
    "    MS = MatrixSpace(F, k, k);\n",
    "\n",
    "    # Want k x k matrices\n",
    "    # T is identity except swapping 1st and 2nd positions\n",
    "    C = MS([[1 if j == i - 1 else 0 for j in range(k)] if i > 0 else [1 if j == k - 1 else 0 for j in range(k)] for i in range(k)]\n",
    "    return C"
   ]
  },
  {
   "cell_type": "code",
   "execution_count": 35,
   "id": "b9624644",
   "metadata": {},
   "outputs": [
    {
     "data": {
      "text/plain": [
       "[0 1]\n",
       "[1 0]"
      ]
     },
     "execution_count": 35,
     "metadata": {},
     "output_type": "execute_result"
    }
   ],
   "source": [
    "cyc_mat(QQ, 2)"
   ]
  },
  {
   "cell_type": "code",
   "execution_count": 36,
   "id": "140187c5",
   "metadata": {},
   "outputs": [
    {
     "data": {
      "text/plain": [
       "[0 0 0 0 1]\n",
       "[1 0 0 0 0]\n",
       "[0 1 0 0 0]\n",
       "[0 0 1 0 0]\n",
       "[0 0 0 1 0]"
      ]
     },
     "execution_count": 36,
     "metadata": {},
     "output_type": "execute_result"
    }
   ],
   "source": [
    "cyc_mat(QQ, 5)"
   ]
  },
  {
   "cell_type": "code",
   "execution_count": 46,
   "id": "32cf5651",
   "metadata": {},
   "outputs": [],
   "source": [
    "def zero_mat(F, k):\n",
    "    MS = MatrixSpace(F, k, k);\n",
    "\n",
    "    # Want k x k matrices\n",
    "    # T is identity except swapping 1st and 2nd positions\n",
    "    O = MS(0)\n",
    "    return O"
   ]
  },
  {
   "cell_type": "code",
   "execution_count": 47,
   "id": "d0ffc60d",
   "metadata": {},
   "outputs": [
    {
     "data": {
      "text/plain": [
       "[0 0]\n",
       "[0 0]"
      ]
     },
     "execution_count": 47,
     "metadata": {},
     "output_type": "execute_result"
    }
   ],
   "source": [
    "zero_mat(QQ, 2)"
   ]
  },
  {
   "cell_type": "code",
   "execution_count": 48,
   "id": "1a6ec7f9",
   "metadata": {},
   "outputs": [
    {
     "data": {
      "text/plain": [
       "[0 0 0 0 0]\n",
       "[0 0 0 0 0]\n",
       "[0 0 0 0 0]\n",
       "[0 0 0 0 0]\n",
       "[0 0 0 0 0]"
      ]
     },
     "execution_count": 48,
     "metadata": {},
     "output_type": "execute_result"
    }
   ],
   "source": [
    "zero_mat(QQ, 5)"
   ]
  },
  {
   "cell_type": "code",
   "execution_count": 1,
   "id": "c43f585a",
   "metadata": {},
   "outputs": [],
   "source": [
    "def trans_mat(F, k):\n",
    "    MS = MatrixSpace(F, k, k);\n",
    "\n",
    "    # Want k x k matrices\n",
    "    # T is identity except swapping 1st and 2nd positions\n",
    "    T = MS([[1 if j == i else 0 for j in range(k)] if i > 1 else [abs(j - i) if j < 2 else 0 for j in range(k)] for i in range(k)])\n",
    "    return T\n",
    "\n",
    "def cyc_mat(F, k):\n",
    "    F = QQ;\n",
    "    MS = MatrixSpace(F, k, k);\n",
    "\n",
    "    # Want k x k matrices\n",
    "    # T is identity except swapping 1st and 2nd positions\n",
    "    C = MS([[1 if j == i - 1 else 0 for j in range(k)] if i > 0 else [1 if j == k - 1 else 0 for j in range(k)] for i in range(k)])\n",
    "    return C\n",
    "\n",
    "def zero_mat(F, k):\n",
    "    MS = MatrixSpace(F, k, k);\n",
    "\n",
    "    # Want k x k matrices\n",
    "    # T is identity except swapping 1st and 2nd positions\n",
    "    O = MS(0)\n",
    "    return O\n",
    "\n",
    "def get_gen_mats(F, l, k):\n",
    "    T = trans_mat(F, k);\n",
    "    C = cyc_mat(F, k);\n",
    "    I = matrix.identity(k)\n",
    "    O = zero_mat(F, k);\n",
    "    \n",
    "    # Permute the blocks themselves\n",
    "    # Permute the elements within the blocks (using tranpose and cyclic matrices from above)\n",
    "    gens = []\n",
    "    \n",
    "    # Matrices for permuting the blocks among themselves, S_l\n",
    "    # One block transpose matrix, one cycle.\n",
    "    BT = block_matrix([[I if j == i else O for j in range(l)] if i > 1 else [abs(j - i) * I if j < 2 else O for j in range(l)] for i in range(l)])\n",
    "    BC = block_matrix([[I if j == i - 1 else O for j in range(l)] if i > 0 else [I if j == l - 1 else O for j in range(l)] for i in range(l)])\n",
    "    gens.extend([BT, BC])\n",
    "    \n",
    "    # Matrices for permutations within the blocks, S_k.\n",
    "    # One tranposition and one cycle for each block.\n",
    "    for b in range(l):\n",
    "        T_b = block_matrix([[(T if i == b else I) if j == i else O for j in range(l)] for i in range(l)])\n",
    "        C_b = block_matrix([[(C if i == b else I) if j == i else O for j in range(l)] for i in range(l)])\n",
    "        gens.extend([T_b, C_b])\n",
    "\n",
    "    return gens"
   ]
  },
  {
   "cell_type": "code",
   "execution_count": 69,
   "id": "b6754739",
   "metadata": {},
   "outputs": [
    {
     "data": {
      "text/plain": [
       "[\n",
       "[0 0 0|1 0 0]  [0 0 0|1 0 0]  [0 1 0|0 0 0]  [0 0 1|0 0 0]\n",
       "[0 0 0|0 1 0]  [0 0 0|0 1 0]  [1 0 0|0 0 0]  [1 0 0|0 0 0]\n",
       "[0 0 0|0 0 1]  [0 0 0|0 0 1]  [0 0 1|0 0 0]  [0 1 0|0 0 0]\n",
       "[-----+-----]  [-----+-----]  [-----+-----]  [-----+-----]\n",
       "[1 0 0|0 0 0]  [1 0 0|0 0 0]  [0 0 0|1 0 0]  [0 0 0|1 0 0]\n",
       "[0 1 0|0 0 0]  [0 1 0|0 0 0]  [0 0 0|0 1 0]  [0 0 0|0 1 0]\n",
       "[0 0 1|0 0 0], [0 0 1|0 0 0], [0 0 0|0 0 1], [0 0 0|0 0 1],\n",
       "\n",
       "[1 0 0|0 0 0]  [1 0 0|0 0 0]\n",
       "[0 1 0|0 0 0]  [0 1 0|0 0 0]\n",
       "[0 0 1|0 0 0]  [0 0 1|0 0 0]\n",
       "[-----+-----]  [-----+-----]\n",
       "[0 0 0|0 1 0]  [0 0 0|0 0 1]\n",
       "[0 0 0|1 0 0]  [0 0 0|1 0 0]\n",
       "[0 0 0|0 0 1], [0 0 0|0 1 0]\n",
       "]"
      ]
     },
     "execution_count": 69,
     "metadata": {},
     "output_type": "execute_result"
    }
   ],
   "source": [
    "gen_mats(QQ, 2, 3)"
   ]
  },
  {
   "cell_type": "code",
   "execution_count": 70,
   "id": "bb8439f9",
   "metadata": {},
   "outputs": [],
   "source": [
    "gens = gen_mats(QQ, 2, 3)"
   ]
  },
  {
   "cell_type": "code",
   "execution_count": 71,
   "id": "b9e1daca",
   "metadata": {},
   "outputs": [
    {
     "data": {
      "text/plain": [
       "[x1 + x2 + x3 + x4 + x5 + x6,\n",
       " x1^2 + x2^2 + x3^2 + x4^2 + x5^2 + x6^2,\n",
       " x1*x2 + x1*x3 + x2*x3 + x4*x5 + x4*x6 + x5*x6,\n",
       " x1^3 + x2^3 + x3^3 + x4^3 + x5^3 + x6^3,\n",
       " x1^2*x2 + x1*x2^2 + x1^2*x3 + x2^2*x3 + x1*x3^2 + x2*x3^2 + x4^2*x5 + x4*x5^2 + x4^2*x6 + x5^2*x6 + x4*x6^2 + x5*x6^2,\n",
       " x1^4 + x2^4 + x3^4 + x4^4 + x5^4 + x6^4,\n",
       " x1^3*x2 + x1*x2^3 + x1^3*x3 + x2^3*x3 + x1*x3^3 + x2*x3^3 + x4^3*x5 + x4*x5^3 + x4^3*x6 + x5^3*x6 + x4*x6^3 + x5*x6^3,\n",
       " x1^5 + x2^5 + x3^5 + x4^5 + x5^5 + x6^5,\n",
       " x1^6 + x2^6 + x3^6 + x4^6 + x5^6 + x6^6]"
      ]
     },
     "execution_count": 71,
     "metadata": {},
     "output_type": "execute_result"
    }
   ],
   "source": [
    "G = MatrixGroup(gens);\n",
    "G.invariant_generators()"
   ]
  },
  {
   "cell_type": "code",
   "execution_count": 3,
   "id": "ddda9a6d",
   "metadata": {},
   "outputs": [],
   "source": [
    "def get_inv_gens(F, l, k):\n",
    "    gen_mats = get_gen_mats(F, l, k)\n",
    "    G = MatrixGroup(gen_mats);\n",
    "    gens = G.invariant_generators()\n",
    "    return gens"
   ]
  },
  {
   "cell_type": "code",
   "execution_count": 83,
   "id": "1410f3c1",
   "metadata": {},
   "outputs": [
    {
     "data": {
      "text/plain": [
       "[x1 + x2 + x3 + x4 + x5 + x6,\n",
       " x1^2 + x2^2 + x3^2 + x4^2 + x5^2 + x6^2,\n",
       " x1*x2 + x1*x3 + x2*x3 + x4*x5 + x4*x6 + x5*x6,\n",
       " x1^3 + x2^3 + x3^3 + x4^3 + x5^3 + x6^3,\n",
       " x1^2*x2 + x1*x2^2 + x1^2*x3 + x2^2*x3 + x1*x3^2 + x2*x3^2 + x4^2*x5 + x4*x5^2 + x4^2*x6 + x5^2*x6 + x4*x6^2 + x5*x6^2,\n",
       " x1^4 + x2^4 + x3^4 + x4^4 + x5^4 + x6^4,\n",
       " x1^3*x2 + x1*x2^3 + x1^3*x3 + x2^3*x3 + x1*x3^3 + x2*x3^3 + x4^3*x5 + x4*x5^3 + x4^3*x6 + x5^3*x6 + x4*x6^3 + x5*x6^3,\n",
       " x1^5 + x2^5 + x3^5 + x4^5 + x5^5 + x6^5,\n",
       " x1^6 + x2^6 + x3^6 + x4^6 + x5^6 + x6^6]"
      ]
     },
     "execution_count": 83,
     "metadata": {},
     "output_type": "execute_result"
    }
   ],
   "source": [
    "get_inv_gens(QQ, 2, 3)"
   ]
  },
  {
   "cell_type": "code",
   "execution_count": 84,
   "id": "22635dd9",
   "metadata": {},
   "outputs": [
    {
     "data": {
      "text/plain": [
       "[\n",
       "[0 0 0 0|1 0 0 0]  [0 0 0 0|1 0 0 0]  [0 1 0 0|0 0 0 0]\n",
       "[0 0 0 0|0 1 0 0]  [0 0 0 0|0 1 0 0]  [1 0 0 0|0 0 0 0]\n",
       "[0 0 0 0|0 0 1 0]  [0 0 0 0|0 0 1 0]  [0 0 1 0|0 0 0 0]\n",
       "[0 0 0 0|0 0 0 1]  [0 0 0 0|0 0 0 1]  [0 0 0 1|0 0 0 0]\n",
       "[-------+-------]  [-------+-------]  [-------+-------]\n",
       "[1 0 0 0|0 0 0 0]  [1 0 0 0|0 0 0 0]  [0 0 0 0|1 0 0 0]\n",
       "[0 1 0 0|0 0 0 0]  [0 1 0 0|0 0 0 0]  [0 0 0 0|0 1 0 0]\n",
       "[0 0 1 0|0 0 0 0]  [0 0 1 0|0 0 0 0]  [0 0 0 0|0 0 1 0]\n",
       "[0 0 0 1|0 0 0 0], [0 0 0 1|0 0 0 0], [0 0 0 0|0 0 0 1],\n",
       "\n",
       "[0 0 0 1|0 0 0 0]  [1 0 0 0|0 0 0 0]  [1 0 0 0|0 0 0 0]\n",
       "[1 0 0 0|0 0 0 0]  [0 1 0 0|0 0 0 0]  [0 1 0 0|0 0 0 0]\n",
       "[0 1 0 0|0 0 0 0]  [0 0 1 0|0 0 0 0]  [0 0 1 0|0 0 0 0]\n",
       "[0 0 1 0|0 0 0 0]  [0 0 0 1|0 0 0 0]  [0 0 0 1|0 0 0 0]\n",
       "[-------+-------]  [-------+-------]  [-------+-------]\n",
       "[0 0 0 0|1 0 0 0]  [0 0 0 0|0 1 0 0]  [0 0 0 0|0 0 0 1]\n",
       "[0 0 0 0|0 1 0 0]  [0 0 0 0|1 0 0 0]  [0 0 0 0|1 0 0 0]\n",
       "[0 0 0 0|0 0 1 0]  [0 0 0 0|0 0 1 0]  [0 0 0 0|0 1 0 0]\n",
       "[0 0 0 0|0 0 0 1], [0 0 0 0|0 0 0 1], [0 0 0 0|0 0 1 0]\n",
       "]"
      ]
     },
     "execution_count": 84,
     "metadata": {},
     "output_type": "execute_result"
    }
   ],
   "source": [
    "gen_mats(QQ, 2, 4)"
   ]
  },
  {
   "cell_type": "code",
   "execution_count": 85,
   "id": "6334799d",
   "metadata": {},
   "outputs": [
    {
     "data": {
      "text/plain": [
       "[x1 + x2 + x3 + x4 + x5 + x6 + x7 + x8,\n",
       " x1^2 + x2^2 + x3^2 + x4^2 + x5^2 + x6^2 + x7^2 + x8^2,\n",
       " x1*x2 + x1*x3 + x2*x3 + x1*x4 + x2*x4 + x3*x4 + x5*x6 + x5*x7 + x6*x7 + x5*x8 + x6*x8 + x7*x8,\n",
       " x1^3 + x2^3 + x3^3 + x4^3 + x5^3 + x6^3 + x7^3 + x8^3,\n",
       " x1^2*x2 + x1*x2^2 + x1^2*x3 + x2^2*x3 + x1*x3^2 + x2*x3^2 + x1^2*x4 + x2^2*x4 + x3^2*x4 + x1*x4^2 + x2*x4^2 + x3*x4^2 + x5^2*x6 + x5*x6^2 + x5^2*x7 + x6^2*x7 + x5*x7^2 + x6*x7^2 + x5^2*x8 + x6^2*x8 + x7^2*x8 + x5*x8^2 + x6*x8^2 + x7*x8^2,\n",
       " x1^4 + x2^4 + x3^4 + x4^4 + x5^4 + x6^4 + x7^4 + x8^4,\n",
       " x1^3*x2 + x1*x2^3 + x1^3*x3 + x2^3*x3 + x1*x3^3 + x2*x3^3 + x1^3*x4 + x2^3*x4 + x3^3*x4 + x1*x4^3 + x2*x4^3 + x3*x4^3 + x5^3*x6 + x5*x6^3 + x5^3*x7 + x6^3*x7 + x5*x7^3 + x6*x7^3 + x5^3*x8 + x6^3*x8 + x7^3*x8 + x5*x8^3 + x6*x8^3 + x7*x8^3,\n",
       " x1^2*x2^2 + x1^2*x3^2 + x2^2*x3^2 + x1^2*x4^2 + x2^2*x4^2 + x3^2*x4^2 + x5^2*x6^2 + x5^2*x7^2 + x6^2*x7^2 + x5^2*x8^2 + x6^2*x8^2 + x7^2*x8^2,\n",
       " x1^5 + x2^5 + x3^5 + x4^5 + x5^5 + x6^5 + x7^5 + x8^5,\n",
       " x1^4*x2 + x1*x2^4 + x1^4*x3 + x2^4*x3 + x1*x3^4 + x2*x3^4 + x1^4*x4 + x2^4*x4 + x3^4*x4 + x1*x4^4 + x2*x4^4 + x3*x4^4 + x5^4*x6 + x5*x6^4 + x5^4*x7 + x6^4*x7 + x5*x7^4 + x6*x7^4 + x5^4*x8 + x6^4*x8 + x7^4*x8 + x5*x8^4 + x6*x8^4 + x7*x8^4,\n",
       " x1^6 + x2^6 + x3^6 + x4^6 + x5^6 + x6^6 + x7^6 + x8^6,\n",
       " x1^4*x2^2 + x1^2*x2^4 + x1^4*x3^2 + x2^4*x3^2 + x1^2*x3^4 + x2^2*x3^4 + x1^4*x4^2 + x2^4*x4^2 + x3^4*x4^2 + x1^2*x4^4 + x2^2*x4^4 + x3^2*x4^4 + x5^4*x6^2 + x5^2*x6^4 + x5^4*x7^2 + x6^4*x7^2 + x5^2*x7^4 + x6^2*x7^4 + x5^4*x8^2 + x6^4*x8^2 + x7^4*x8^2 + x5^2*x8^4 + x6^2*x8^4 + x7^2*x8^4,\n",
       " x1^7 + x2^7 + x3^7 + x4^7 + x5^7 + x6^7 + x7^7 + x8^7,\n",
       " x1^8 + x2^8 + x3^8 + x4^8 + x5^8 + x6^8 + x7^8 + x8^8]"
      ]
     },
     "execution_count": 85,
     "metadata": {},
     "output_type": "execute_result"
    }
   ],
   "source": [
    "get_inv_gens(QQ, 2, 4)"
   ]
  },
  {
   "cell_type": "code",
   "execution_count": 86,
   "id": "ed5178fd",
   "metadata": {},
   "outputs": [
    {
     "data": {
      "text/plain": [
       "[\n",
       "[0 0 0|1 0 0|0 0 0]  [0 0 0|0 0 0|1 0 0]  [0 1 0|0 0 0|0 0 0]\n",
       "[0 0 0|0 1 0|0 0 0]  [0 0 0|0 0 0|0 1 0]  [1 0 0|0 0 0|0 0 0]\n",
       "[0 0 0|0 0 1|0 0 0]  [0 0 0|0 0 0|0 0 1]  [0 0 1|0 0 0|0 0 0]\n",
       "[-----+-----+-----]  [-----+-----+-----]  [-----+-----+-----]\n",
       "[1 0 0|0 0 0|0 0 0]  [1 0 0|0 0 0|0 0 0]  [0 0 0|1 0 0|0 0 0]\n",
       "[0 1 0|0 0 0|0 0 0]  [0 1 0|0 0 0|0 0 0]  [0 0 0|0 1 0|0 0 0]\n",
       "[0 0 1|0 0 0|0 0 0]  [0 0 1|0 0 0|0 0 0]  [0 0 0|0 0 1|0 0 0]\n",
       "[-----+-----+-----]  [-----+-----+-----]  [-----+-----+-----]\n",
       "[0 0 0|0 0 0|1 0 0]  [0 0 0|1 0 0|0 0 0]  [0 0 0|0 0 0|1 0 0]\n",
       "[0 0 0|0 0 0|0 1 0]  [0 0 0|0 1 0|0 0 0]  [0 0 0|0 0 0|0 1 0]\n",
       "[0 0 0|0 0 0|0 0 1], [0 0 0|0 0 1|0 0 0], [0 0 0|0 0 0|0 0 1],\n",
       "\n",
       "[0 0 1|0 0 0|0 0 0]  [1 0 0|0 0 0|0 0 0]  [1 0 0|0 0 0|0 0 0]\n",
       "[1 0 0|0 0 0|0 0 0]  [0 1 0|0 0 0|0 0 0]  [0 1 0|0 0 0|0 0 0]\n",
       "[0 1 0|0 0 0|0 0 0]  [0 0 1|0 0 0|0 0 0]  [0 0 1|0 0 0|0 0 0]\n",
       "[-----+-----+-----]  [-----+-----+-----]  [-----+-----+-----]\n",
       "[0 0 0|1 0 0|0 0 0]  [0 0 0|0 1 0|0 0 0]  [0 0 0|0 0 1|0 0 0]\n",
       "[0 0 0|0 1 0|0 0 0]  [0 0 0|1 0 0|0 0 0]  [0 0 0|1 0 0|0 0 0]\n",
       "[0 0 0|0 0 1|0 0 0]  [0 0 0|0 0 1|0 0 0]  [0 0 0|0 1 0|0 0 0]\n",
       "[-----+-----+-----]  [-----+-----+-----]  [-----+-----+-----]\n",
       "[0 0 0|0 0 0|1 0 0]  [0 0 0|0 0 0|1 0 0]  [0 0 0|0 0 0|1 0 0]\n",
       "[0 0 0|0 0 0|0 1 0]  [0 0 0|0 0 0|0 1 0]  [0 0 0|0 0 0|0 1 0]\n",
       "[0 0 0|0 0 0|0 0 1], [0 0 0|0 0 0|0 0 1], [0 0 0|0 0 0|0 0 1],\n",
       "\n",
       "[1 0 0|0 0 0|0 0 0]  [1 0 0|0 0 0|0 0 0]\n",
       "[0 1 0|0 0 0|0 0 0]  [0 1 0|0 0 0|0 0 0]\n",
       "[0 0 1|0 0 0|0 0 0]  [0 0 1|0 0 0|0 0 0]\n",
       "[-----+-----+-----]  [-----+-----+-----]\n",
       "[0 0 0|1 0 0|0 0 0]  [0 0 0|1 0 0|0 0 0]\n",
       "[0 0 0|0 1 0|0 0 0]  [0 0 0|0 1 0|0 0 0]\n",
       "[0 0 0|0 0 1|0 0 0]  [0 0 0|0 0 1|0 0 0]\n",
       "[-----+-----+-----]  [-----+-----+-----]\n",
       "[0 0 0|0 0 0|0 1 0]  [0 0 0|0 0 0|0 0 1]\n",
       "[0 0 0|0 0 0|1 0 0]  [0 0 0|0 0 0|1 0 0]\n",
       "[0 0 0|0 0 0|0 0 1], [0 0 0|0 0 0|0 1 0]\n",
       "]"
      ]
     },
     "execution_count": 86,
     "metadata": {},
     "output_type": "execute_result"
    }
   ],
   "source": [
    "gen_mats(QQ, 3, 3)"
   ]
  },
  {
   "cell_type": "code",
   "execution_count": 89,
   "id": "77a3c034",
   "metadata": {},
   "outputs": [
    {
     "name": "stdout",
     "output_type": "stream",
     "text": [
      "CPU times: user 82.1 ms, sys: 20.1 ms, total: 102 ms\n",
      "Wall time: 131 ms\n"
     ]
    },
    {
     "data": {
      "text/plain": [
       "[x1 + x2 + x3 + x4,\n",
       " x1^2 + x2^2 + x3^2 + x4^2,\n",
       " x1*x2 + x3*x4,\n",
       " x1^3 + x2^3 + x3^3 + x4^3,\n",
       " x1^4 + x2^4 + x3^4 + x4^4]"
      ]
     },
     "execution_count": 89,
     "metadata": {},
     "output_type": "execute_result"
    }
   ],
   "source": [
    "%%time\n",
    "get_inv_gens(QQ, 2, 2)"
   ]
  },
  {
   "cell_type": "code",
   "execution_count": 90,
   "id": "1433528b",
   "metadata": {},
   "outputs": [
    {
     "name": "stdout",
     "output_type": "stream",
     "text": [
      "CPU times: user 124 ms, sys: 13.5 ms, total: 137 ms\n",
      "Wall time: 196 ms\n"
     ]
    },
    {
     "data": {
      "text/plain": [
       "[x1 + x2 + x3 + x4 + x5 + x6,\n",
       " x1^2 + x2^2 + x3^2 + x4^2 + x5^2 + x6^2,\n",
       " x1*x2 + x1*x3 + x2*x3 + x4*x5 + x4*x6 + x5*x6,\n",
       " x1^3 + x2^3 + x3^3 + x4^3 + x5^3 + x6^3,\n",
       " x1^2*x2 + x1*x2^2 + x1^2*x3 + x2^2*x3 + x1*x3^2 + x2*x3^2 + x4^2*x5 + x4*x5^2 + x4^2*x6 + x5^2*x6 + x4*x6^2 + x5*x6^2,\n",
       " x1^4 + x2^4 + x3^4 + x4^4 + x5^4 + x6^4,\n",
       " x1^3*x2 + x1*x2^3 + x1^3*x3 + x2^3*x3 + x1*x3^3 + x2*x3^3 + x4^3*x5 + x4*x5^3 + x4^3*x6 + x5^3*x6 + x4*x6^3 + x5*x6^3,\n",
       " x1^5 + x2^5 + x3^5 + x4^5 + x5^5 + x6^5,\n",
       " x1^6 + x2^6 + x3^6 + x4^6 + x5^6 + x6^6]"
      ]
     },
     "execution_count": 90,
     "metadata": {},
     "output_type": "execute_result"
    },
    {
     "name": "stderr",
     "output_type": "stream",
     "text": [
      "IOStream.flush timed out\n",
      "IOStream.flush timed out\n"
     ]
    }
   ],
   "source": [
    "%%time\n",
    "get_inv_gens(QQ, 2, 3)"
   ]
  },
  {
   "cell_type": "code",
   "execution_count": 91,
   "id": "89f4eae3",
   "metadata": {},
   "outputs": [
    {
     "name": "stdout",
     "output_type": "stream",
     "text": [
      "CPU times: user 120 ms, sys: 9.27 ms, total: 129 ms\n",
      "Wall time: 178 ms\n"
     ]
    },
    {
     "data": {
      "text/plain": [
       "[x1 + x2 + x3 + x4 + x5 + x6,\n",
       " x1^2 + x2^2 + x3^2 + x4^2 + x5^2 + x6^2,\n",
       " x1*x2 + x1*x3 + x2*x3 + x4*x5 + x4*x6 + x5*x6,\n",
       " x1^3 + x2^3 + x3^3 + x4^3 + x5^3 + x6^3,\n",
       " x1^2*x2 + x1*x2^2 + x1^2*x3 + x2^2*x3 + x1*x3^2 + x2*x3^2 + x4^2*x5 + x4*x5^2 + x4^2*x6 + x5^2*x6 + x4*x6^2 + x5*x6^2,\n",
       " x1^4 + x2^4 + x3^4 + x4^4 + x5^4 + x6^4,\n",
       " x1^3*x2 + x1*x2^3 + x1^3*x3 + x2^3*x3 + x1*x3^3 + x2*x3^3 + x4^3*x5 + x4*x5^3 + x4^3*x6 + x5^3*x6 + x4*x6^3 + x5*x6^3,\n",
       " x1^5 + x2^5 + x3^5 + x4^5 + x5^5 + x6^5,\n",
       " x1^6 + x2^6 + x3^6 + x4^6 + x5^6 + x6^6]"
      ]
     },
     "execution_count": 91,
     "metadata": {},
     "output_type": "execute_result"
    }
   ],
   "source": [
    "%%time\n",
    "get_inv_gens(QQ, 2, 3)"
   ]
  },
  {
   "cell_type": "code",
   "execution_count": 4,
   "id": "a014ac85",
   "metadata": {},
   "outputs": [
    {
     "name": "stdout",
     "output_type": "stream",
     "text": [
      "CPU times: user 1.2 s, sys: 442 ms, total: 1.64 s\n",
      "Wall time: 17min 7s\n"
     ]
    }
   ],
   "source": [
    "%%time\n",
    "inv_gens_3_3 = get_inv_gens(QQ, 3, 3)"
   ]
  },
  {
   "cell_type": "code",
   "execution_count": 5,
   "id": "feb4fb86",
   "metadata": {},
   "outputs": [
    {
     "data": {
      "text/plain": [
       "x1 + x2 + x3 + x4 + x5 + x6 + x7 + x8 + x9"
      ]
     },
     "execution_count": 5,
     "metadata": {},
     "output_type": "execute_result"
    }
   ],
   "source": [
    "inv_gens_3_3[0]"
   ]
  },
  {
   "cell_type": "code",
   "execution_count": 6,
   "id": "53692539",
   "metadata": {},
   "outputs": [
    {
     "data": {
      "text/plain": [
       "[x1 + x2 + x3 + x4 + x5 + x6 + x7 + x8 + x9,\n",
       " x1^2 + x2^2 + x3^2 + x4^2 + x5^2 + x6^2 + x7^2 + x8^2 + x9^2,\n",
       " x1*x2 + x1*x3 + x2*x3 + x4*x5 + x4*x6 + x5*x6 + x7*x8 + x7*x9 + x8*x9,\n",
       " x1^3 + x2^3 + x3^3 + x4^3 + x5^3 + x6^3 + x7^3 + x8^3 + x9^3,\n",
       " x1^2*x2 + x1*x2^2 + x1^2*x3 + x2^2*x3 + x1*x3^2 + x2*x3^2 + x4^2*x5 + x4*x5^2 + x4^2*x6 + x5^2*x6 + x4*x6^2 + x5*x6^2 + x7^2*x8 + x7*x8^2 + x7^2*x9 + x8^2*x9 + x7*x9^2 + x8*x9^2,\n",
       " x1*x2*x3 + x4*x5*x6 + x7*x8*x9,\n",
       " x1^4 + x2^4 + x3^4 + x4^4 + x5^4 + x6^4 + x7^4 + x8^4 + x9^4,\n",
       " x1^3*x2 + x1*x2^3 + x1^3*x3 + x2^3*x3 + x1*x3^3 + x2*x3^3 + x4^3*x5 + x4*x5^3 + x4^3*x6 + x5^3*x6 + x4*x6^3 + x5*x6^3 + x7^3*x8 + x7*x8^3 + x7^3*x9 + x8^3*x9 + x7*x9^3 + x8*x9^3,\n",
       " x1^2*x2^2 + x1^2*x3^2 + x2^2*x3^2 + x4^2*x5^2 + x4^2*x6^2 + x5^2*x6^2 + x7^2*x8^2 + x7^2*x9^2 + x8^2*x9^2,\n",
       " x1^5 + x2^5 + x3^5 + x4^5 + x5^5 + x6^5 + x7^5 + x8^5 + x9^5,\n",
       " x1^4*x2 + x1*x2^4 + x1^4*x3 + x2^4*x3 + x1*x3^4 + x2*x3^4 + x4^4*x5 + x4*x5^4 + x4^4*x6 + x5^4*x6 + x4*x6^4 + x5*x6^4 + x7^4*x8 + x7*x8^4 + x7^4*x9 + x8^4*x9 + x7*x9^4 + x8*x9^4,\n",
       " x1^3*x2^2 + x1^2*x2^3 + x1^3*x3^2 + x2^3*x3^2 + x1^2*x3^3 + x2^2*x3^3 + x4^3*x5^2 + x4^2*x5^3 + x4^3*x6^2 + x5^3*x6^2 + x4^2*x6^3 + x5^2*x6^3 + x7^3*x8^2 + x7^2*x8^3 + x7^3*x9^2 + x8^3*x9^2 + x7^2*x9^3 + x8^2*x9^3,\n",
       " x1^6 + x2^6 + x3^6 + x4^6 + x5^6 + x6^6 + x7^6 + x8^6 + x9^6,\n",
       " x1^5*x2 + x1*x2^5 + x1^5*x3 + x2^5*x3 + x1*x3^5 + x2*x3^5 + x4^5*x5 + x4*x5^5 + x4^5*x6 + x5^5*x6 + x4*x6^5 + x5*x6^5 + x7^5*x8 + x7*x8^5 + x7^5*x9 + x8^5*x9 + x7*x9^5 + x8*x9^5,\n",
       " x1^4*x2^2 + x1^2*x2^4 + x1^4*x3^2 + x2^4*x3^2 + x1^2*x3^4 + x2^2*x3^4 + x4^4*x5^2 + x4^2*x5^4 + x4^4*x6^2 + x5^4*x6^2 + x4^2*x6^4 + x5^2*x6^4 + x7^4*x8^2 + x7^2*x8^4 + x7^4*x9^2 + x8^4*x9^2 + x7^2*x9^4 + x8^2*x9^4,\n",
       " x1^7 + x2^7 + x3^7 + x4^7 + x5^7 + x6^7 + x7^7 + x8^7 + x9^7,\n",
       " x1^6*x2 + x1*x2^6 + x1^6*x3 + x2^6*x3 + x1*x3^6 + x2*x3^6 + x4^6*x5 + x4*x5^6 + x4^6*x6 + x5^6*x6 + x4*x6^6 + x5*x6^6 + x7^6*x8 + x7*x8^6 + x7^6*x9 + x8^6*x9 + x7*x9^6 + x8*x9^6,\n",
       " x1^8 + x2^8 + x3^8 + x4^8 + x5^8 + x6^8 + x7^8 + x8^8 + x9^8,\n",
       " x1^9 + x2^9 + x3^9 + x4^9 + x5^9 + x6^9 + x7^9 + x8^9 + x9^9]"
      ]
     },
     "execution_count": 6,
     "metadata": {},
     "output_type": "execute_result"
    }
   ],
   "source": [
    "inv_gens_3_3"
   ]
  },
  {
   "cell_type": "code",
   "execution_count": 7,
   "id": "3a478d84",
   "metadata": {},
   "outputs": [
    {
     "data": {
      "text/plain": [
       "19"
      ]
     },
     "execution_count": 7,
     "metadata": {},
     "output_type": "execute_result"
    }
   ],
   "source": [
    "len(inv_gens_3_3)"
   ]
  },
  {
   "cell_type": "code",
   "execution_count": 17,
   "id": "b0b165e3",
   "metadata": {},
   "outputs": [],
   "source": [
    "def get_I(inv_gens):\n",
    "    n_gens = len(inv_gens)\n",
    "    J_gens = [inv_gens[i] - var('y%d' %(i + 1)) for i in range(n_gens)]\n",
    "    J = ideal(J_gens)\n",
    "    B = J.groebner_basis()\n",
    "    I_gens = B.elimination_ideal\n",
    "    return I_gens"
   ]
  },
  {
   "cell_type": "code",
   "execution_count": 20,
   "id": "883f15e5",
   "metadata": {},
   "outputs": [
    {
     "name": "stdout",
     "output_type": "stream",
     "text": [
      "[x1 + x2 + x3 + x4 + x5 + x6 + x7 + x8 + x9 - y1, x1^2 + x2^2 + x3^2 + x4^2 + x5^2 + x6^2 + x7^2 + x8^2 + x9^2 - y2, x1*x2 + x1*x3 + x2*x3 + x4*x5 + x4*x6 + x5*x6 + x7*x8 + x7*x9 + x8*x9 - y3, x1^3 + x2^3 + x3^3 + x4^3 + x5^3 + x6^3 + x7^3 + x8^3 + x9^3 - y4, x1^2*x2 + x1*x2^2 + x1^2*x3 + x2^2*x3 + x1*x3^2 + x2*x3^2 + x4^2*x5 + x4*x5^2 + x4^2*x6 + x5^2*x6 + x4*x6^2 + x5*x6^2 + x7^2*x8 + x7*x8^2 + x7^2*x9 + x8^2*x9 + x7*x9^2 + x8*x9^2 - y5, x1*x2*x3 + x4*x5*x6 + x7*x8*x9 - y6, x1^4 + x2^4 + x3^4 + x4^4 + x5^4 + x6^4 + x7^4 + x8^4 + x9^4 - y7, x1^3*x2 + x1*x2^3 + x1^3*x3 + x2^3*x3 + x1*x3^3 + x2*x3^3 + x4^3*x5 + x4*x5^3 + x4^3*x6 + x5^3*x6 + x4*x6^3 + x5*x6^3 + x7^3*x8 + x7*x8^3 + x7^3*x9 + x8^3*x9 + x7*x9^3 + x8*x9^3 - y8, x1^2*x2^2 + x1^2*x3^2 + x2^2*x3^2 + x4^2*x5^2 + x4^2*x6^2 + x5^2*x6^2 + x7^2*x8^2 + x7^2*x9^2 + x8^2*x9^2 - y9, x1^5 + x2^5 + x3^5 + x4^5 + x5^5 + x6^5 + x7^5 + x8^5 + x9^5 - y10, x1^4*x2 + x1*x2^4 + x1^4*x3 + x2^4*x3 + x1*x3^4 + x2*x3^4 + x4^4*x5 + x4*x5^4 + x4^4*x6 + x5^4*x6 + x4*x6^4 + x5*x6^4 + x7^4*x8 + x7*x8^4 + x7^4*x9 + x8^4*x9 + x7*x9^4 + x8*x9^4 - y11, x1^3*x2^2 + x1^2*x2^3 + x1^3*x3^2 + x2^3*x3^2 + x1^2*x3^3 + x2^2*x3^3 + x4^3*x5^2 + x4^2*x5^3 + x4^3*x6^2 + x5^3*x6^2 + x4^2*x6^3 + x5^2*x6^3 + x7^3*x8^2 + x7^2*x8^3 + x7^3*x9^2 + x8^3*x9^2 + x7^2*x9^3 + x8^2*x9^3 - y12, x1^6 + x2^6 + x3^6 + x4^6 + x5^6 + x6^6 + x7^6 + x8^6 + x9^6 - y13, x1^5*x2 + x1*x2^5 + x1^5*x3 + x2^5*x3 + x1*x3^5 + x2*x3^5 + x4^5*x5 + x4*x5^5 + x4^5*x6 + x5^5*x6 + x4*x6^5 + x5*x6^5 + x7^5*x8 + x7*x8^5 + x7^5*x9 + x8^5*x9 + x7*x9^5 + x8*x9^5 - y14, x1^4*x2^2 + x1^2*x2^4 + x1^4*x3^2 + x2^4*x3^2 + x1^2*x3^4 + x2^2*x3^4 + x4^4*x5^2 + x4^2*x5^4 + x4^4*x6^2 + x5^4*x6^2 + x4^2*x6^4 + x5^2*x6^4 + x7^4*x8^2 + x7^2*x8^4 + x7^4*x9^2 + x8^4*x9^2 + x7^2*x9^4 + x8^2*x9^4 - y15, x1^7 + x2^7 + x3^7 + x4^7 + x5^7 + x6^7 + x7^7 + x8^7 + x9^7 - y16, x1^6*x2 + x1*x2^6 + x1^6*x3 + x2^6*x3 + x1*x3^6 + x2*x3^6 + x4^6*x5 + x4*x5^6 + x4^6*x6 + x5^6*x6 + x4*x6^6 + x5*x6^6 + x7^6*x8 + x7*x8^6 + x7^6*x9 + x8^6*x9 + x7*x9^6 + x8*x9^6 - y17, x1^8 + x2^8 + x3^8 + x4^8 + x5^8 + x6^8 + x7^8 + x8^8 + x9^8 - y18, x1^9 + x2^9 + x3^9 + x4^9 + x5^9 + x6^9 + x7^9 + x8^9 + x9^9 - y19]\n"
     ]
    },
    {
     "ename": "AttributeError",
     "evalue": "'Ideal_generic' object has no attribute 'groebner_basis'",
     "output_type": "error",
     "traceback": [
      "\u001b[0;31m---------------------------------------------------------------------------\u001b[0m",
      "\u001b[0;31mAttributeError\u001b[0m                            Traceback (most recent call last)",
      "Cell \u001b[0;32mIn [20], line 5\u001b[0m\n\u001b[1;32m      3\u001b[0m \u001b[38;5;28mprint\u001b[39m(J_gens)\n\u001b[1;32m      4\u001b[0m J \u001b[38;5;241m=\u001b[39m ideal(J_gens)\n\u001b[0;32m----> 5\u001b[0m B \u001b[38;5;241m=\u001b[39m \u001b[43mJ\u001b[49m\u001b[38;5;241;43m.\u001b[39;49m\u001b[43mgroebner_basis\u001b[49m()\n",
      "File \u001b[0;32m/private/var/tmp/sage-10.0-current/local/var/lib/sage/venv-python3.11.1/lib/python3.11/site-packages/sage/structure/element.pyx:494\u001b[0m, in \u001b[0;36msage.structure.element.Element.__getattr__ (build/cythonized/sage/structure/element.c:4900)\u001b[0;34m()\u001b[0m\n\u001b[1;32m    492\u001b[0m         AttributeError: 'LeftZeroSemigroup_with_category.element_class' object has no attribute 'blah_blah'\n\u001b[1;32m    493\u001b[0m     \"\"\"\n\u001b[0;32m--> 494\u001b[0m     return self.getattr_from_category(name)\n\u001b[1;32m    495\u001b[0m \n\u001b[1;32m    496\u001b[0m cdef getattr_from_category(self, name):\n",
      "File \u001b[0;32m/private/var/tmp/sage-10.0-current/local/var/lib/sage/venv-python3.11.1/lib/python3.11/site-packages/sage/structure/element.pyx:507\u001b[0m, in \u001b[0;36msage.structure.element.Element.getattr_from_category (build/cythonized/sage/structure/element.c:5012)\u001b[0;34m()\u001b[0m\n\u001b[1;32m    505\u001b[0m     else:\n\u001b[1;32m    506\u001b[0m         cls = P._abstract_element_class\n\u001b[0;32m--> 507\u001b[0m     return getattr_from_other_class(self, cls, name)\n\u001b[1;32m    508\u001b[0m \n\u001b[1;32m    509\u001b[0m def __dir__(self):\n",
      "File \u001b[0;32m/private/var/tmp/sage-10.0-current/local/var/lib/sage/venv-python3.11.1/lib/python3.11/site-packages/sage/cpython/getattr.pyx:361\u001b[0m, in \u001b[0;36msage.cpython.getattr.getattr_from_other_class (build/cythonized/sage/cpython/getattr.c:2773)\u001b[0;34m()\u001b[0m\n\u001b[1;32m    359\u001b[0m     dummy_error_message.cls = type(self)\n\u001b[1;32m    360\u001b[0m     dummy_error_message.name = name\n\u001b[0;32m--> 361\u001b[0m     raise AttributeError(dummy_error_message)\n\u001b[1;32m    362\u001b[0m attribute = <object>attr\n\u001b[1;32m    363\u001b[0m # Check for a descriptor (__get__ in Python)\n",
      "\u001b[0;31mAttributeError\u001b[0m: 'Ideal_generic' object has no attribute 'groebner_basis'"
     ]
    }
   ],
   "source": [
    "n_gens = len(inv_gens_3_3)\n",
    "J_gens = [inv_gens[i] - var('y%d' %(i + 1)) for i in range(n_gens)]\n",
    "print(J_gens)\n",
    "J = ideal(J_gens)\n",
    "B = J.groebner_basis()"
   ]
  },
  {
   "cell_type": "code",
   "execution_count": 21,
   "id": "003668b6",
   "metadata": {},
   "outputs": [
    {
     "data": {
      "text/plain": [
       "Ideal (x1 + x2 + x3 + x4 + x5 + x6 + x7 + x8 + x9 - y1, x1^2 + x2^2 + x3^2 + x4^2 + x5^2 + x6^2 + x7^2 + x8^2 + x9^2 - y2, x1*x2 + x1*x3 + x2*x3 + x4*x5 + x4*x6 + x5*x6 + x7*x8 + x7*x9 + x8*x9 - y3, x1^3 + x2^3 + x3^3 + x4^3 + x5^3 + x6^3 + x7^3 + x8^3 + x9^3 - y4, x1^2*x2 + x1*x2^2 + x1^2*x3 + x2^2*x3 + x1*x3^2 + x2*x3^2 + x4^2*x5 + x4*x5^2 + x4^2*x6 + x5^2*x6 + x4*x6^2 + x5*x6^2 + x7^2*x8 + x7*x8^2 + x7^2*x9 + x8^2*x9 + x7*x9^2 + x8*x9^2 - y5, x1*x2*x3 + x4*x5*x6 + x7*x8*x9 - y6, x1^4 + x2^4 + x3^4 + x4^4 + x5^4 + x6^4 + x7^4 + x8^4 + x9^4 - y7, x1^3*x2 + x1*x2^3 + x1^3*x3 + x2^3*x3 + x1*x3^3 + x2*x3^3 + x4^3*x5 + x4*x5^3 + x4^3*x6 + x5^3*x6 + x4*x6^3 + x5*x6^3 + x7^3*x8 + x7*x8^3 + x7^3*x9 + x8^3*x9 + x7*x9^3 + x8*x9^3 - y8, x1^2*x2^2 + x1^2*x3^2 + x2^2*x3^2 + x4^2*x5^2 + x4^2*x6^2 + x5^2*x6^2 + x7^2*x8^2 + x7^2*x9^2 + x8^2*x9^2 - y9, x1^5 + x2^5 + x3^5 + x4^5 + x5^5 + x6^5 + x7^5 + x8^5 + x9^5 - y10, x1^4*x2 + x1*x2^4 + x1^4*x3 + x2^4*x3 + x1*x3^4 + x2*x3^4 + x4^4*x5 + x4*x5^4 + x4^4*x6 + x5^4*x6 + x4*x6^4 + x5*x6^4 + x7^4*x8 + x7*x8^4 + x7^4*x9 + x8^4*x9 + x7*x9^4 + x8*x9^4 - y11, x1^3*x2^2 + x1^2*x2^3 + x1^3*x3^2 + x2^3*x3^2 + x1^2*x3^3 + x2^2*x3^3 + x4^3*x5^2 + x4^2*x5^3 + x4^3*x6^2 + x5^3*x6^2 + x4^2*x6^3 + x5^2*x6^3 + x7^3*x8^2 + x7^2*x8^3 + x7^3*x9^2 + x8^3*x9^2 + x7^2*x9^3 + x8^2*x9^3 - y12, x1^6 + x2^6 + x3^6 + x4^6 + x5^6 + x6^6 + x7^6 + x8^6 + x9^6 - y13, x1^5*x2 + x1*x2^5 + x1^5*x3 + x2^5*x3 + x1*x3^5 + x2*x3^5 + x4^5*x5 + x4*x5^5 + x4^5*x6 + x5^5*x6 + x4*x6^5 + x5*x6^5 + x7^5*x8 + x7*x8^5 + x7^5*x9 + x8^5*x9 + x7*x9^5 + x8*x9^5 - y14, x1^4*x2^2 + x1^2*x2^4 + x1^4*x3^2 + x2^4*x3^2 + x1^2*x3^4 + x2^2*x3^4 + x4^4*x5^2 + x4^2*x5^4 + x4^4*x6^2 + x5^4*x6^2 + x4^2*x6^4 + x5^2*x6^4 + x7^4*x8^2 + x7^2*x8^4 + x7^4*x9^2 + x8^4*x9^2 + x7^2*x9^4 + x8^2*x9^4 - y15, x1^7 + x2^7 + x3^7 + x4^7 + x5^7 + x6^7 + x7^7 + x8^7 + x9^7 - y16, x1^6*x2 + x1*x2^6 + x1^6*x3 + x2^6*x3 + x1*x3^6 + x2*x3^6 + x4^6*x5 + x4*x5^6 + x4^6*x6 + x5^6*x6 + x4*x6^6 + x5*x6^6 + x7^6*x8 + x7*x8^6 + x7^6*x9 + x8^6*x9 + x7*x9^6 + x8*x9^6 - y17, x1^8 + x2^8 + x3^8 + x4^8 + x5^8 + x6^8 + x7^8 + x8^8 + x9^8 - y18, x1^9 + x2^9 + x3^9 + x4^9 + x5^9 + x6^9 + x7^9 + x8^9 + x9^9 - y19) of Symbolic Ring"
      ]
     },
     "execution_count": 21,
     "metadata": {},
     "output_type": "execute_result"
    }
   ],
   "source": [
    "ideal(J_gens)"
   ]
  },
  {
   "cell_type": "code",
   "execution_count": 22,
   "id": "deac7cd1",
   "metadata": {},
   "outputs": [
    {
     "ename": "NameError",
     "evalue": "name 'x1' is not defined",
     "output_type": "error",
     "traceback": [
      "\u001b[0;31m---------------------------------------------------------------------------\u001b[0m",
      "\u001b[0;31mNameError\u001b[0m                                 Traceback (most recent call last)",
      "Cell \u001b[0;32mIn [22], line 1\u001b[0m\n\u001b[0;32m----> 1\u001b[0m I \u001b[38;5;241m=\u001b[39m ideal(\u001b[43mx1\u001b[49m \u001b[38;5;241m+\u001b[39m x2 \u001b[38;5;241m-\u001b[39m y1)\n",
      "\u001b[0;31mNameError\u001b[0m: name 'x1' is not defined"
     ]
    }
   ],
   "source": [
    "I = ideal(x1 + x2 - y1)"
   ]
  },
  {
   "cell_type": "code",
   "execution_count": 23,
   "id": "93760d41",
   "metadata": {},
   "outputs": [],
   "source": [
    "[x1, x2] = QQ['x_1, x_2'].gens()"
   ]
  },
  {
   "cell_type": "code",
   "execution_count": 30,
   "id": "1e2e67f9",
   "metadata": {},
   "outputs": [],
   "source": [
    "x = [var('x%d' %(i + 1)) for i in range(3 * 3)]\n",
    "y = [var('y%d' %(i + 1)) for i in range(len(inv_gens_3_3))]\n",
    "variables = x + y\n",
    "variables = QQ[\",\".join([str(var) for var in variables])].gens()"
   ]
  },
  {
   "cell_type": "code",
   "execution_count": 31,
   "id": "732f158e",
   "metadata": {},
   "outputs": [
    {
     "ename": "AttributeError",
     "evalue": "'Ideal_generic' object has no attribute 'groebner_basis'",
     "output_type": "error",
     "traceback": [
      "\u001b[0;31m---------------------------------------------------------------------------\u001b[0m",
      "\u001b[0;31mAttributeError\u001b[0m                            Traceback (most recent call last)",
      "Cell \u001b[0;32mIn [31], line 4\u001b[0m\n\u001b[1;32m      2\u001b[0m J_gens \u001b[38;5;241m=\u001b[39m [inv_gens[i] \u001b[38;5;241m-\u001b[39m var(\u001b[38;5;124m'\u001b[39m\u001b[38;5;124my\u001b[39m\u001b[38;5;132;01m%d\u001b[39;00m\u001b[38;5;124m'\u001b[39m \u001b[38;5;241m%\u001b[39m(i \u001b[38;5;241m+\u001b[39m Integer(\u001b[38;5;241m1\u001b[39m))) \u001b[38;5;28;01mfor\u001b[39;00m i \u001b[38;5;129;01min\u001b[39;00m \u001b[38;5;28mrange\u001b[39m(n_gens)]\n\u001b[1;32m      3\u001b[0m J \u001b[38;5;241m=\u001b[39m ideal(J_gens)\n\u001b[0;32m----> 4\u001b[0m B \u001b[38;5;241m=\u001b[39m \u001b[43mJ\u001b[49m\u001b[38;5;241;43m.\u001b[39;49m\u001b[43mgroebner_basis\u001b[49m()\n\u001b[1;32m      5\u001b[0m I_gens \u001b[38;5;241m=\u001b[39m B\u001b[38;5;241m.\u001b[39melimination_ideal\n",
      "File \u001b[0;32m/private/var/tmp/sage-10.0-current/local/var/lib/sage/venv-python3.11.1/lib/python3.11/site-packages/sage/structure/element.pyx:494\u001b[0m, in \u001b[0;36msage.structure.element.Element.__getattr__ (build/cythonized/sage/structure/element.c:4900)\u001b[0;34m()\u001b[0m\n\u001b[1;32m    492\u001b[0m         AttributeError: 'LeftZeroSemigroup_with_category.element_class' object has no attribute 'blah_blah'\n\u001b[1;32m    493\u001b[0m     \"\"\"\n\u001b[0;32m--> 494\u001b[0m     return self.getattr_from_category(name)\n\u001b[1;32m    495\u001b[0m \n\u001b[1;32m    496\u001b[0m cdef getattr_from_category(self, name):\n",
      "File \u001b[0;32m/private/var/tmp/sage-10.0-current/local/var/lib/sage/venv-python3.11.1/lib/python3.11/site-packages/sage/structure/element.pyx:507\u001b[0m, in \u001b[0;36msage.structure.element.Element.getattr_from_category (build/cythonized/sage/structure/element.c:5012)\u001b[0;34m()\u001b[0m\n\u001b[1;32m    505\u001b[0m     else:\n\u001b[1;32m    506\u001b[0m         cls = P._abstract_element_class\n\u001b[0;32m--> 507\u001b[0m     return getattr_from_other_class(self, cls, name)\n\u001b[1;32m    508\u001b[0m \n\u001b[1;32m    509\u001b[0m def __dir__(self):\n",
      "File \u001b[0;32m/private/var/tmp/sage-10.0-current/local/var/lib/sage/venv-python3.11.1/lib/python3.11/site-packages/sage/cpython/getattr.pyx:361\u001b[0m, in \u001b[0;36msage.cpython.getattr.getattr_from_other_class (build/cythonized/sage/cpython/getattr.c:2773)\u001b[0;34m()\u001b[0m\n\u001b[1;32m    359\u001b[0m     dummy_error_message.cls = type(self)\n\u001b[1;32m    360\u001b[0m     dummy_error_message.name = name\n\u001b[0;32m--> 361\u001b[0m     raise AttributeError(dummy_error_message)\n\u001b[1;32m    362\u001b[0m attribute = <object>attr\n\u001b[1;32m    363\u001b[0m # Check for a descriptor (__get__ in Python)\n",
      "\u001b[0;31mAttributeError\u001b[0m: 'Ideal_generic' object has no attribute 'groebner_basis'"
     ]
    }
   ],
   "source": [
    "n_gens = len(inv_gens_3_3)\n",
    "J_gens = [inv_gens[i] - var('y%d' %(i + 1)) for i in range(n_gens)]\n",
    "J = ideal(J_gens)\n",
    "B = J.groebner_basis()\n",
    "I_gens = B.elimination_ideal"
   ]
  },
  {
   "cell_type": "code",
   "execution_count": 36,
   "id": "c41eec59",
   "metadata": {},
   "outputs": [],
   "source": [
    "x1, x2, x3, x4, x5, x6, x7, x8, x9, y1, y2, y3, y4, y5, y6, y7, y8, y9, y10, y11, y12, y13, y14, y15, y16, y17, y18, y19 = QQ['x1, x2, x3, x4, x5, x6, x7, x8, x9, y1, y2, y3, y4, y5, y6, y7, y8, y9, y10, y11, y12, y13, y14, y15, y16, y17, y18, y19'].gens()\n",
    "J_gens = [inv_gens[i] - var('y%d' %(i + 1)) for i in range(n_gens)]\n",
    "J = ideal(J_gens)"
   ]
  },
  {
   "cell_type": "code",
   "execution_count": 37,
   "id": "c608919f",
   "metadata": {},
   "outputs": [
    {
     "ename": "AttributeError",
     "evalue": "'Ideal_generic' object has no attribute 'groebner_basis'",
     "output_type": "error",
     "traceback": [
      "\u001b[0;31m---------------------------------------------------------------------------\u001b[0m",
      "\u001b[0;31mAttributeError\u001b[0m                            Traceback (most recent call last)",
      "Cell \u001b[0;32mIn [37], line 1\u001b[0m\n\u001b[0;32m----> 1\u001b[0m B \u001b[38;5;241m=\u001b[39m \u001b[43mJ\u001b[49m\u001b[38;5;241;43m.\u001b[39;49m\u001b[43mgroebner_basis\u001b[49m();\n",
      "File \u001b[0;32m/private/var/tmp/sage-10.0-current/local/var/lib/sage/venv-python3.11.1/lib/python3.11/site-packages/sage/structure/element.pyx:494\u001b[0m, in \u001b[0;36msage.structure.element.Element.__getattr__ (build/cythonized/sage/structure/element.c:4900)\u001b[0;34m()\u001b[0m\n\u001b[1;32m    492\u001b[0m         AttributeError: 'LeftZeroSemigroup_with_category.element_class' object has no attribute 'blah_blah'\n\u001b[1;32m    493\u001b[0m     \"\"\"\n\u001b[0;32m--> 494\u001b[0m     return self.getattr_from_category(name)\n\u001b[1;32m    495\u001b[0m \n\u001b[1;32m    496\u001b[0m cdef getattr_from_category(self, name):\n",
      "File \u001b[0;32m/private/var/tmp/sage-10.0-current/local/var/lib/sage/venv-python3.11.1/lib/python3.11/site-packages/sage/structure/element.pyx:507\u001b[0m, in \u001b[0;36msage.structure.element.Element.getattr_from_category (build/cythonized/sage/structure/element.c:5012)\u001b[0;34m()\u001b[0m\n\u001b[1;32m    505\u001b[0m     else:\n\u001b[1;32m    506\u001b[0m         cls = P._abstract_element_class\n\u001b[0;32m--> 507\u001b[0m     return getattr_from_other_class(self, cls, name)\n\u001b[1;32m    508\u001b[0m \n\u001b[1;32m    509\u001b[0m def __dir__(self):\n",
      "File \u001b[0;32m/private/var/tmp/sage-10.0-current/local/var/lib/sage/venv-python3.11.1/lib/python3.11/site-packages/sage/cpython/getattr.pyx:361\u001b[0m, in \u001b[0;36msage.cpython.getattr.getattr_from_other_class (build/cythonized/sage/cpython/getattr.c:2773)\u001b[0;34m()\u001b[0m\n\u001b[1;32m    359\u001b[0m     dummy_error_message.cls = type(self)\n\u001b[1;32m    360\u001b[0m     dummy_error_message.name = name\n\u001b[0;32m--> 361\u001b[0m     raise AttributeError(dummy_error_message)\n\u001b[1;32m    362\u001b[0m attribute = <object>attr\n\u001b[1;32m    363\u001b[0m # Check for a descriptor (__get__ in Python)\n",
      "\u001b[0;31mAttributeError\u001b[0m: 'Ideal_generic' object has no attribute 'groebner_basis'"
     ]
    }
   ],
   "source": [
    "B = J.groebner_basis();"
   ]
  },
  {
   "cell_type": "code",
   "execution_count": 35,
   "id": "1e15a4b1",
   "metadata": {},
   "outputs": [
    {
     "data": {
      "text/plain": [
       "Polynomial Sequence with 40 Polynomials in 9 Variables"
      ]
     },
     "execution_count": 35,
     "metadata": {},
     "output_type": "execute_result"
    }
   ],
   "source": [
    "B"
   ]
  },
  {
   "cell_type": "code",
   "execution_count": 34,
   "id": "7a3cdbaf",
   "metadata": {},
   "outputs": [
    {
     "ename": "ValueError",
     "evalue": "Rings do not match up.",
     "output_type": "error",
     "traceback": [
      "\u001b[0;31m---------------------------------------------------------------------------\u001b[0m",
      "\u001b[0;31mValueError\u001b[0m                                Traceback (most recent call last)",
      "Cell \u001b[0;32mIn [34], line 1\u001b[0m\n\u001b[0;32m----> 1\u001b[0m \u001b[43mideal\u001b[49m\u001b[43m(\u001b[49m\u001b[43mB\u001b[49m\u001b[43m)\u001b[49m\u001b[38;5;241;43m.\u001b[39;49m\u001b[43melimination_ideal\u001b[49m\u001b[43m(\u001b[49m\u001b[43m[\u001b[49m\u001b[43mx1\u001b[49m\u001b[43m,\u001b[49m\u001b[43m \u001b[49m\u001b[43mx2\u001b[49m\u001b[43m,\u001b[49m\u001b[43m \u001b[49m\u001b[43mx3\u001b[49m\u001b[43m,\u001b[49m\u001b[43m \u001b[49m\u001b[43mx4\u001b[49m\u001b[43m,\u001b[49m\u001b[43m \u001b[49m\u001b[43mx5\u001b[49m\u001b[43m,\u001b[49m\u001b[43m \u001b[49m\u001b[43mx6\u001b[49m\u001b[43m,\u001b[49m\u001b[43m \u001b[49m\u001b[43mx7\u001b[49m\u001b[43m,\u001b[49m\u001b[43m \u001b[49m\u001b[43mx8\u001b[49m\u001b[43m,\u001b[49m\u001b[43m \u001b[49m\u001b[43mx9\u001b[49m\u001b[43m]\u001b[49m\u001b[43m)\u001b[49m\n",
      "File \u001b[0;32m/private/var/tmp/sage-10.0-current/local/var/lib/sage/venv-python3.11.1/lib/python3.11/site-packages/sage/rings/qqbar_decorators.py:95\u001b[0m, in \u001b[0;36mhandle_AA_and_QQbar.<locals>.wrapper\u001b[0;34m(*args, **kwds)\u001b[0m\n\u001b[1;32m     89\u001b[0m \u001b[38;5;28;01mfrom\u001b[39;00m \u001b[38;5;21;01msage\u001b[39;00m\u001b[38;5;21;01m.\u001b[39;00m\u001b[38;5;21;01mrings\u001b[39;00m\u001b[38;5;21;01m.\u001b[39;00m\u001b[38;5;21;01mabc\u001b[39;00m \u001b[38;5;28;01mimport\u001b[39;00m AlgebraicField_common\n\u001b[1;32m     91\u001b[0m \u001b[38;5;28;01mif\u001b[39;00m \u001b[38;5;129;01mnot\u001b[39;00m \u001b[38;5;28many\u001b[39m(\u001b[38;5;28misinstance\u001b[39m(a, (Polynomial, MPolynomial, Ideal_generic))\n\u001b[1;32m     92\u001b[0m            \u001b[38;5;129;01mand\u001b[39;00m \u001b[38;5;28misinstance\u001b[39m(a\u001b[38;5;241m.\u001b[39mbase_ring(), AlgebraicField_common)\n\u001b[1;32m     93\u001b[0m            \u001b[38;5;129;01mor\u001b[39;00m is_PolynomialSequence(a)\n\u001b[1;32m     94\u001b[0m            \u001b[38;5;129;01mand\u001b[39;00m \u001b[38;5;28misinstance\u001b[39m(a\u001b[38;5;241m.\u001b[39mring()\u001b[38;5;241m.\u001b[39mbase_ring(), AlgebraicField_common) \u001b[38;5;28;01mfor\u001b[39;00m a \u001b[38;5;129;01min\u001b[39;00m args):\n\u001b[0;32m---> 95\u001b[0m     \u001b[38;5;28;01mreturn\u001b[39;00m \u001b[43mfunc\u001b[49m\u001b[43m(\u001b[49m\u001b[38;5;241;43m*\u001b[39;49m\u001b[43margs\u001b[49m\u001b[43m,\u001b[49m\u001b[43m \u001b[49m\u001b[38;5;241;43m*\u001b[39;49m\u001b[38;5;241;43m*\u001b[39;49m\u001b[43mkwds\u001b[49m\u001b[43m)\u001b[49m\n\u001b[1;32m     97\u001b[0m polynomials \u001b[38;5;241m=\u001b[39m []\n\u001b[1;32m     99\u001b[0m \u001b[38;5;28;01mfor\u001b[39;00m a \u001b[38;5;129;01min\u001b[39;00m flatten(args, ltypes\u001b[38;5;241m=\u001b[39m(\u001b[38;5;28mlist\u001b[39m, \u001b[38;5;28mtuple\u001b[39m, \u001b[38;5;28mset\u001b[39m)):\n",
      "File \u001b[0;32m/private/var/tmp/sage-10.0-current/local/var/lib/sage/venv-python3.11.1/lib/python3.11/site-packages/sage/rings/polynomial/multi_polynomial_ideal.py:2272\u001b[0m, in \u001b[0;36mMPolynomialIdeal_singular_repr.elimination_ideal\u001b[0;34m(self, variables, algorithm, *args, **kwds)\u001b[0m\n\u001b[1;32m   2268\u001b[0m         \u001b[38;5;28;01mraise\u001b[39;00m \u001b[38;5;167;01mValueError\u001b[39;00m(\u001b[38;5;124m\"\u001b[39m\u001b[38;5;124mnot a ring variable: \u001b[39m\u001b[38;5;132;01m%s\u001b[39;00m\u001b[38;5;124m\"\u001b[39m \u001b[38;5;241m%\u001b[39m v)\n\u001b[1;32m   2270\u001b[0m \u001b[38;5;28;01mif\u001b[39;00m (algorithm \u001b[38;5;129;01mis\u001b[39;00m \u001b[38;5;28;01mNone\u001b[39;00m \u001b[38;5;129;01mor\u001b[39;00m algorithm\u001b[38;5;241m.\u001b[39mlower() \u001b[38;5;241m==\u001b[39m \u001b[38;5;124m'\u001b[39m\u001b[38;5;124mlibsingular\u001b[39m\u001b[38;5;124m'\u001b[39m\n\u001b[1;32m   2271\u001b[0m         \u001b[38;5;129;01mor\u001b[39;00m algorithm \u001b[38;5;241m==\u001b[39m \u001b[38;5;124m'\u001b[39m\u001b[38;5;124mlibsingular:eliminate\u001b[39m\u001b[38;5;124m'\u001b[39m):\n\u001b[0;32m-> 2272\u001b[0m     \u001b[38;5;28;01mreturn\u001b[39;00m \u001b[38;5;28;43mself\u001b[39;49m\u001b[38;5;241;43m.\u001b[39;49m\u001b[43m_elimination_ideal_libsingular\u001b[49m\u001b[43m(\u001b[49m\u001b[43mvariables\u001b[49m\u001b[43m)\u001b[49m\n\u001b[1;32m   2274\u001b[0m \u001b[38;5;28;01melif\u001b[39;00m algorithm\u001b[38;5;241m.\u001b[39mlower() \u001b[38;5;241m==\u001b[39m \u001b[38;5;124m'\u001b[39m\u001b[38;5;124mgiac\u001b[39m\u001b[38;5;124m'\u001b[39m \u001b[38;5;129;01mor\u001b[39;00m algorithm \u001b[38;5;241m==\u001b[39m \u001b[38;5;124m'\u001b[39m\u001b[38;5;124mgiac:eliminate\u001b[39m\u001b[38;5;124m'\u001b[39m:\n\u001b[1;32m   2275\u001b[0m     \u001b[38;5;28;01mfrom\u001b[39;00m \u001b[38;5;21;01msage\u001b[39;00m\u001b[38;5;21;01m.\u001b[39;00m\u001b[38;5;21;01mlibs\u001b[39;00m\u001b[38;5;21;01m.\u001b[39;00m\u001b[38;5;21;01mgiac\u001b[39;00m \u001b[38;5;28;01mimport\u001b[39;00m groebner_basis \u001b[38;5;28;01mas\u001b[39;00m groebner_basis_libgiac\n",
      "File \u001b[0;32m/private/var/tmp/sage-10.0-current/local/var/lib/sage/venv-python3.11.1/lib/python3.11/site-packages/sage/libs/singular/standard_options.py:143\u001b[0m, in \u001b[0;36mlibsingular_gb_standard_options.<locals>.wrapper\u001b[0;34m(*args, **kwds)\u001b[0m\n\u001b[1;32m    139\u001b[0m \u001b[38;5;124;03m\"\"\"\u001b[39;00m\n\u001b[1;32m    140\u001b[0m \u001b[38;5;124;03mExecute function in ``LibSingularGBDefaultContext``.\u001b[39;00m\n\u001b[1;32m    141\u001b[0m \u001b[38;5;124;03m\"\"\"\u001b[39;00m\n\u001b[1;32m    142\u001b[0m \u001b[38;5;28;01mwith\u001b[39;00m LibSingularGBDefaultContext():\n\u001b[0;32m--> 143\u001b[0m     \u001b[38;5;28;01mreturn\u001b[39;00m \u001b[43mfunc\u001b[49m\u001b[43m(\u001b[49m\u001b[38;5;241;43m*\u001b[39;49m\u001b[43margs\u001b[49m\u001b[43m,\u001b[49m\u001b[43m \u001b[49m\u001b[38;5;241;43m*\u001b[39;49m\u001b[38;5;241;43m*\u001b[39;49m\u001b[43mkwds\u001b[49m\u001b[43m)\u001b[49m\n",
      "File \u001b[0;32m/private/var/tmp/sage-10.0-current/local/var/lib/sage/venv-python3.11.1/lib/python3.11/site-packages/sage/rings/polynomial/multi_polynomial_ideal.py:2300\u001b[0m, in \u001b[0;36mMPolynomialIdeal_singular_repr._elimination_ideal_libsingular\u001b[0;34m(self, variables)\u001b[0m\n\u001b[1;32m   2298\u001b[0m R \u001b[38;5;241m=\u001b[39m \u001b[38;5;28mself\u001b[39m\u001b[38;5;241m.\u001b[39mring()\n\u001b[1;32m   2299\u001b[0m Is \u001b[38;5;241m=\u001b[39m MPolynomialIdeal(R,\u001b[38;5;28mself\u001b[39m\u001b[38;5;241m.\u001b[39mgroebner_basis())\n\u001b[0;32m-> 2300\u001b[0m \u001b[38;5;28;01mreturn\u001b[39;00m MPolynomialIdeal(R, \u001b[43meliminate\u001b[49m\u001b[43m(\u001b[49m\u001b[43mIs\u001b[49m\u001b[43m,\u001b[49m\u001b[43m \u001b[49m\u001b[43mprod\u001b[49m\u001b[43m(\u001b[49m\u001b[43mvariables\u001b[49m\u001b[43m)\u001b[49m\u001b[43m)\u001b[49m )\n",
      "File \u001b[0;32m/private/var/tmp/sage-10.0-current/local/var/lib/sage/venv-python3.11.1/lib/python3.11/site-packages/sage/libs/singular/function.pyx:1299\u001b[0m, in \u001b[0;36msage.libs.singular.function.SingularFunction.__call__ (build/cythonized/sage/libs/singular/function.cpp:15527)\u001b[0;34m()\u001b[0m\n\u001b[1;32m   1297\u001b[0m \n\u001b[1;32m   1298\u001b[0m         if ring is None:\n\u001b[0;32m-> 1299\u001b[0m             ring = self.common_ring(args, ring)\n\u001b[1;32m   1300\u001b[0m             if ring is None:\n\u001b[1;32m   1301\u001b[0m                 if dummy_ring is None:\n",
      "File \u001b[0;32m/private/var/tmp/sage-10.0-current/local/var/lib/sage/venv-python3.11.1/lib/python3.11/site-packages/sage/libs/singular/function.pyx:1418\u001b[0m, in \u001b[0;36msage.libs.singular.function.SingularFunction.common_ring (build/cythonized/sage/libs/singular/function.cpp:16852)\u001b[0;34m()\u001b[0m\n\u001b[1;32m   1416\u001b[0m         ring = ring2\n\u001b[1;32m   1417\u001b[0m     elif ring is not ring2:\n\u001b[0;32m-> 1418\u001b[0m         raise ValueError(\"Rings do not match up.\")\n\u001b[1;32m   1419\u001b[0m return ring\n\u001b[1;32m   1420\u001b[0m \n",
      "\u001b[0;31mValueError\u001b[0m: Rings do not match up."
     ]
    }
   ],
   "source": [
    "ideal(B).elimination_ideal([x1,x2,x3,x4,x5,x6,x7,x8,x9])"
   ]
  },
  {
   "cell_type": "code",
   "execution_count": null,
   "id": "208ad398",
   "metadata": {},
   "outputs": [],
   "source": []
  }
 ],
 "metadata": {
  "kernelspec": {
   "display_name": "SageMath 10.0",
   "language": "sage",
   "name": "sagemath-10.0"
  },
  "language_info": {
   "codemirror_mode": {
    "name": "ipython",
    "version": 3
   },
   "file_extension": ".py",
   "mimetype": "text/x-python",
   "name": "python",
   "nbconvert_exporter": "python",
   "pygments_lexer": "ipython3",
   "version": "3.11.1"
  }
 },
 "nbformat": 4,
 "nbformat_minor": 5
}
