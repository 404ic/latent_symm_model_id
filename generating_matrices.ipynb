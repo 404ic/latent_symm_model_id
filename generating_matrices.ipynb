{
 "cells": [
  {
   "cell_type": "code",
   "execution_count": 43,
   "id": "f832339b",
   "metadata": {},
   "outputs": [],
   "source": [
    "def trans_mat(F, k):\n",
    "    MS = MatrixSpace(F, k, k);\n",
    "\n",
    "    # Want k x k matrices\n",
    "    # T is identity except swapping 1st and 2nd positions\n",
    "    T = MS([[1 if j == i else 0 for j in range(k)] if i > 1 else [abs(j - i) if j < 2 else 0 for j in range(k)] for i in range(k)])\n",
    "    return T"
   ]
  },
  {
   "cell_type": "code",
   "execution_count": 44,
   "id": "e2fd0b06",
   "metadata": {},
   "outputs": [
    {
     "data": {
      "text/plain": [
       "[0 1]\n",
       "[1 0]"
      ]
     },
     "execution_count": 44,
     "metadata": {},
     "output_type": "execute_result"
    }
   ],
   "source": [
    "trans_mat(QQ, 2)"
   ]
  },
  {
   "cell_type": "code",
   "execution_count": 33,
   "id": "fcec8e29",
   "metadata": {},
   "outputs": [
    {
     "data": {
      "text/plain": [
       "[0 1 0 0 0]\n",
       "[1 0 0 0 0]\n",
       "[0 0 1 0 0]\n",
       "[0 0 0 1 0]\n",
       "[0 0 0 0 1]"
      ]
     },
     "execution_count": 33,
     "metadata": {},
     "output_type": "execute_result"
    }
   ],
   "source": [
    "trans_mat(QQ, 5)"
   ]
  },
  {
   "cell_type": "code",
   "execution_count": 34,
   "id": "11a9d59f",
   "metadata": {},
   "outputs": [],
   "source": [
    "def cyc_mat(F, k):\n",
    "    F = QQ;\n",
    "    MS = MatrixSpace(F, k, k);\n",
    "\n",
    "    # Want k x k matrices\n",
    "    # T is identity except swapping 1st and 2nd positions\n",
    "    C = MS([[1 if j == i - 1 else 0 for j in range(k)] if i > 0 else [1 if j == k - 1 else 0 for j in range(k)] for i in range(k)]\n",
    "    return C"
   ]
  },
  {
   "cell_type": "code",
   "execution_count": 35,
   "id": "cd8760f9",
   "metadata": {},
   "outputs": [
    {
     "data": {
      "text/plain": [
       "[0 1]\n",
       "[1 0]"
      ]
     },
     "execution_count": 35,
     "metadata": {},
     "output_type": "execute_result"
    }
   ],
   "source": [
    "cyc_mat(QQ, 2)"
   ]
  },
  {
   "cell_type": "code",
   "execution_count": 36,
   "id": "5c773755",
   "metadata": {},
   "outputs": [
    {
     "data": {
      "text/plain": [
       "[0 0 0 0 1]\n",
       "[1 0 0 0 0]\n",
       "[0 1 0 0 0]\n",
       "[0 0 1 0 0]\n",
       "[0 0 0 1 0]"
      ]
     },
     "execution_count": 36,
     "metadata": {},
     "output_type": "execute_result"
    }
   ],
   "source": [
    "cyc_mat(QQ, 5)"
   ]
  },
  {
   "cell_type": "code",
   "execution_count": 46,
   "id": "25003f5a",
   "metadata": {},
   "outputs": [],
   "source": [
    "def zero_mat(F, k):\n",
    "    MS = MatrixSpace(F, k, k);\n",
    "\n",
    "    # Want k x k matrices\n",
    "    # T is identity except swapping 1st and 2nd positions\n",
    "    O = MS(0)\n",
    "    return O"
   ]
  },
  {
   "cell_type": "code",
   "execution_count": 47,
   "id": "fc6c569f",
   "metadata": {},
   "outputs": [
    {
     "data": {
      "text/plain": [
       "[0 0]\n",
       "[0 0]"
      ]
     },
     "execution_count": 47,
     "metadata": {},
     "output_type": "execute_result"
    }
   ],
   "source": [
    "zero_mat(QQ, 2)"
   ]
  },
  {
   "cell_type": "code",
   "execution_count": 48,
   "id": "4d82e3b7",
   "metadata": {},
   "outputs": [
    {
     "data": {
      "text/plain": [
       "[0 0 0 0 0]\n",
       "[0 0 0 0 0]\n",
       "[0 0 0 0 0]\n",
       "[0 0 0 0 0]\n",
       "[0 0 0 0 0]"
      ]
     },
     "execution_count": 48,
     "metadata": {},
     "output_type": "execute_result"
    }
   ],
   "source": [
    "zero_mat(QQ, 5)"
   ]
  },
  {
   "cell_type": "code",
   "execution_count": null,
   "id": "f9d0723a",
   "metadata": {},
   "outputs": [],
   "source": [
    "def get_inv_gens(F, l, k):\n",
    "    T = trans_mat(F, k);\n",
    "    C = cyc_mat(F, k);\n",
    "    I = matrix.identity(k)\n",
    "    O = zero_mat(F, k);\n",
    "    \n",
    "    P = block_matrix([[Z, I], [I, Z]]);\n",
    "    T1 = block_matrix([[T, Z], [Z, I]]);\n",
    "    C1 = block_matrix([[C, Z], [Z, I]]);\n",
    "    T2 = block_matrix([[I, Z], [Z, T]]);\n",
    "    C2 = block_matrix([[I, Z], [Z, C]]);\n",
    "\n",
    "    gens = [P, T1, C1, T2, C2]\n",
    "    G = MatrixGroup(gens);\n",
    "    G.invariant_generators()"
   ]
  },
  {
   "cell_type": "code",
   "execution_count": 49,
   "id": "445eef91",
   "metadata": {},
   "outputs": [
    {
     "data": {
      "text/plain": [
       "[0 0 0]\n",
       "[0 0 0]\n",
       "[0 0 0]"
      ]
     },
     "execution_count": 49,
     "metadata": {},
     "output_type": "execute_result"
    }
   ],
   "source": [
    "I = matrix.identity(3)\n",
    "0 * I"
   ]
  },
  {
   "cell_type": "code",
   "execution_count": 61,
   "id": "370910d1",
   "metadata": {},
   "outputs": [],
   "source": [
    "# So far just have the block permutation matrices.\n",
    "def gen_mats(F, l, k):\n",
    "    T = trans_mat(F, k);\n",
    "    C = cyc_mat(F, k);\n",
    "    I = matrix.identity(k)\n",
    "    O = zero_mat(F, k);\n",
    "    \n",
    "    # Permute the blocks themselves\n",
    "    # Permute the elements within the blocks (using tranpose and cyclic matrices from above)\n",
    "    gens = []\n",
    "    \n",
    "    # Generate permutations of blocks, S_l. Use one transpose matrix, one cycle.\n",
    "    BT = block_matrix([[I if j == i else O for j in range(l)] if i > 1 else [abs(j - i) * I if j < 2 else O for j in range(l)] for i in range(l)])\n",
    "    BC = block_matrix([[I if j == i - 1 else O for j in range(l)] if i > 0 else [I if j == l - 1 else O for j in range(l)] for i in range(l)])\n",
    "    return BT, BC"
   ]
  },
  {
   "cell_type": "code",
   "execution_count": 62,
   "id": "5283ae5e",
   "metadata": {},
   "outputs": [
    {
     "data": {
      "text/plain": [
       "(\n",
       "[0 0 0|1 0 0|0 0 0|0 0 0|0 0 0]  [0 0 0|0 0 0|0 0 0|0 0 0|1 0 0]\n",
       "[0 0 0|0 1 0|0 0 0|0 0 0|0 0 0]  [0 0 0|0 0 0|0 0 0|0 0 0|0 1 0]\n",
       "[0 0 0|0 0 1|0 0 0|0 0 0|0 0 0]  [0 0 0|0 0 0|0 0 0|0 0 0|0 0 1]\n",
       "[-----+-----+-----+-----+-----]  [-----+-----+-----+-----+-----]\n",
       "[1 0 0|0 0 0|0 0 0|0 0 0|0 0 0]  [1 0 0|0 0 0|0 0 0|0 0 0|0 0 0]\n",
       "[0 1 0|0 0 0|0 0 0|0 0 0|0 0 0]  [0 1 0|0 0 0|0 0 0|0 0 0|0 0 0]\n",
       "[0 0 1|0 0 0|0 0 0|0 0 0|0 0 0]  [0 0 1|0 0 0|0 0 0|0 0 0|0 0 0]\n",
       "[-----+-----+-----+-----+-----]  [-----+-----+-----+-----+-----]\n",
       "[0 0 0|0 0 0|1 0 0|0 0 0|0 0 0]  [0 0 0|1 0 0|0 0 0|0 0 0|0 0 0]\n",
       "[0 0 0|0 0 0|0 1 0|0 0 0|0 0 0]  [0 0 0|0 1 0|0 0 0|0 0 0|0 0 0]\n",
       "[0 0 0|0 0 0|0 0 1|0 0 0|0 0 0]  [0 0 0|0 0 1|0 0 0|0 0 0|0 0 0]\n",
       "[-----+-----+-----+-----+-----]  [-----+-----+-----+-----+-----]\n",
       "[0 0 0|0 0 0|0 0 0|1 0 0|0 0 0]  [0 0 0|0 0 0|1 0 0|0 0 0|0 0 0]\n",
       "[0 0 0|0 0 0|0 0 0|0 1 0|0 0 0]  [0 0 0|0 0 0|0 1 0|0 0 0|0 0 0]\n",
       "[0 0 0|0 0 0|0 0 0|0 0 1|0 0 0]  [0 0 0|0 0 0|0 0 1|0 0 0|0 0 0]\n",
       "[-----+-----+-----+-----+-----]  [-----+-----+-----+-----+-----]\n",
       "[0 0 0|0 0 0|0 0 0|0 0 0|1 0 0]  [0 0 0|0 0 0|0 0 0|1 0 0|0 0 0]\n",
       "[0 0 0|0 0 0|0 0 0|0 0 0|0 1 0]  [0 0 0|0 0 0|0 0 0|0 1 0|0 0 0]\n",
       "[0 0 0|0 0 0|0 0 0|0 0 0|0 0 1], [0 0 0|0 0 0|0 0 0|0 0 1|0 0 0]\n",
       ")"
      ]
     },
     "execution_count": 62,
     "metadata": {},
     "output_type": "execute_result"
    }
   ],
   "source": [
    "gen_mats(QQ, 5, 3)"
   ]
  },
  {
   "cell_type": "code",
   "execution_count": null,
   "id": "7165ef09",
   "metadata": {},
   "outputs": [],
   "source": []
  }
 ],
 "metadata": {
  "kernelspec": {
   "display_name": "SageMath 10.0",
   "language": "sage",
   "name": "sagemath-10.0"
  },
  "language_info": {
   "codemirror_mode": {
    "name": "ipython",
    "version": 3
   },
   "file_extension": ".py",
   "mimetype": "text/x-python",
   "name": "python",
   "nbconvert_exporter": "python",
   "pygments_lexer": "ipython3",
   "version": "3.11.1"
  }
 },
 "nbformat": 4,
 "nbformat_minor": 5
}
