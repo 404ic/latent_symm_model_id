{
 "cells": [
  {
   "cell_type": "code",
   "execution_count": 43,
   "id": "a00985a9",
   "metadata": {},
   "outputs": [],
   "source": [
    "def trans_mat(F, k):\n",
    "    MS = MatrixSpace(F, k, k);\n",
    "\n",
    "    # Want k x k matrices\n",
    "    # T is identity except swapping 1st and 2nd positions\n",
    "    T = MS([[1 if j == i else 0 for j in range(k)] if i > 1 else [abs(j - i) if j < 2 else 0 for j in range(k)] for i in range(k)])\n",
    "    return T"
   ]
  },
  {
   "cell_type": "code",
   "execution_count": 44,
   "id": "3d885664",
   "metadata": {},
   "outputs": [
    {
     "data": {
      "text/plain": [
       "[0 1]\n",
       "[1 0]"
      ]
     },
     "execution_count": 44,
     "metadata": {},
     "output_type": "execute_result"
    }
   ],
   "source": [
    "trans_mat(QQ, 2)"
   ]
  },
  {
   "cell_type": "code",
   "execution_count": 33,
   "id": "a2a9b7fd",
   "metadata": {},
   "outputs": [
    {
     "data": {
      "text/plain": [
       "[0 1 0 0 0]\n",
       "[1 0 0 0 0]\n",
       "[0 0 1 0 0]\n",
       "[0 0 0 1 0]\n",
       "[0 0 0 0 1]"
      ]
     },
     "execution_count": 33,
     "metadata": {},
     "output_type": "execute_result"
    }
   ],
   "source": [
    "trans_mat(QQ, 5)"
   ]
  },
  {
   "cell_type": "code",
   "execution_count": 34,
   "id": "a4cf6f1e",
   "metadata": {},
   "outputs": [],
   "source": [
    "def cyc_mat(F, k):\n",
    "    F = QQ;\n",
    "    MS = MatrixSpace(F, k, k);\n",
    "\n",
    "    # Want k x k matrices\n",
    "    # T is identity except swapping 1st and 2nd positions\n",
    "    C = MS([[1 if j == i - 1 else 0 for j in range(k)] if i > 0 else [1 if j == k - 1 else 0 for j in range(k)] for i in range(k)]\n",
    "    return C"
   ]
  },
  {
   "cell_type": "code",
   "execution_count": 35,
   "id": "bee4c505",
   "metadata": {},
   "outputs": [
    {
     "data": {
      "text/plain": [
       "[0 1]\n",
       "[1 0]"
      ]
     },
     "execution_count": 35,
     "metadata": {},
     "output_type": "execute_result"
    }
   ],
   "source": [
    "cyc_mat(QQ, 2)"
   ]
  },
  {
   "cell_type": "code",
   "execution_count": 36,
   "id": "c3db9669",
   "metadata": {},
   "outputs": [
    {
     "data": {
      "text/plain": [
       "[0 0 0 0 1]\n",
       "[1 0 0 0 0]\n",
       "[0 1 0 0 0]\n",
       "[0 0 1 0 0]\n",
       "[0 0 0 1 0]"
      ]
     },
     "execution_count": 36,
     "metadata": {},
     "output_type": "execute_result"
    }
   ],
   "source": [
    "cyc_mat(QQ, 5)"
   ]
  },
  {
   "cell_type": "code",
   "execution_count": 46,
   "id": "d9090b13",
   "metadata": {},
   "outputs": [],
   "source": [
    "def zero_mat(F, k):\n",
    "    MS = MatrixSpace(F, k, k);\n",
    "\n",
    "    # Want k x k matrices\n",
    "    # T is identity except swapping 1st and 2nd positions\n",
    "    O = MS(0)\n",
    "    return O"
   ]
  },
  {
   "cell_type": "code",
   "execution_count": 47,
   "id": "8a899e58",
   "metadata": {},
   "outputs": [
    {
     "data": {
      "text/plain": [
       "[0 0]\n",
       "[0 0]"
      ]
     },
     "execution_count": 47,
     "metadata": {},
     "output_type": "execute_result"
    }
   ],
   "source": [
    "zero_mat(QQ, 2)"
   ]
  },
  {
   "cell_type": "code",
   "execution_count": 48,
   "id": "27f4e21f",
   "metadata": {},
   "outputs": [
    {
     "data": {
      "text/plain": [
       "[0 0 0 0 0]\n",
       "[0 0 0 0 0]\n",
       "[0 0 0 0 0]\n",
       "[0 0 0 0 0]\n",
       "[0 0 0 0 0]"
      ]
     },
     "execution_count": 48,
     "metadata": {},
     "output_type": "execute_result"
    }
   ],
   "source": [
    "zero_mat(QQ, 5)"
   ]
  },
  {
   "cell_type": "code",
   "execution_count": null,
   "id": "2b20e2f5",
   "metadata": {},
   "outputs": [],
   "source": [
    "def get_inv_gens(F, l, k):\n",
    "    T = trans_mat(F, k);\n",
    "    C = cyc_mat(F, k);\n",
    "    I = matrix.identity(k)\n",
    "    O = zero_mat(F, k);\n",
    "    \n",
    "    P = block_matrix([[Z, I], [I, Z]]);\n",
    "    T1 = block_matrix([[T, Z], [Z, I]]);\n",
    "    C1 = block_matrix([[C, Z], [Z, I]]);\n",
    "    T2 = block_matrix([[I, Z], [Z, T]]);\n",
    "    C2 = block_matrix([[I, Z], [Z, C]]);\n",
    "\n",
    "    gens = [P, T1, C1, T2, C2]\n",
    "    G = MatrixGroup(gens);\n",
    "    G.invariant_generators()"
   ]
  },
  {
   "cell_type": "code",
   "execution_count": 49,
   "id": "5254e155",
   "metadata": {},
   "outputs": [
    {
     "data": {
      "text/plain": [
       "[0 0 0]\n",
       "[0 0 0]\n",
       "[0 0 0]"
      ]
     },
     "execution_count": 49,
     "metadata": {},
     "output_type": "execute_result"
    }
   ],
   "source": [
    "I = matrix.identity(3)\n",
    "0 * I"
   ]
  },
  {
   "cell_type": "code",
   "execution_count": 79,
   "id": "b0fd4a29",
   "metadata": {},
   "outputs": [],
   "source": [
    "def trans_mat(F, k):\n",
    "    MS = MatrixSpace(F, k, k);\n",
    "\n",
    "    # Want k x k matrices\n",
    "    # T is identity except swapping 1st and 2nd positions\n",
    "    T = MS([[1 if j == i else 0 for j in range(k)] if i > 1 else [abs(j - i) if j < 2 else 0 for j in range(k)] for i in range(k)])\n",
    "    return T\n",
    "\n",
    "def cyc_mat(F, k):\n",
    "    F = QQ;\n",
    "    MS = MatrixSpace(F, k, k);\n",
    "\n",
    "    # Want k x k matrices\n",
    "    # T is identity except swapping 1st and 2nd positions\n",
    "    C = MS([[1 if j == i - 1 else 0 for j in range(k)] if i > 0 else [1 if j == k - 1 else 0 for j in range(k)] for i in range(k)])\n",
    "    return C\n",
    "\n",
    "def zero_mat(F, k):\n",
    "    MS = MatrixSpace(F, k, k);\n",
    "\n",
    "    # Want k x k matrices\n",
    "    # T is identity except swapping 1st and 2nd positions\n",
    "    O = MS(0)\n",
    "    return O\n",
    "\n",
    "def get_gen_mats(F, l, k):\n",
    "    T = trans_mat(F, k);\n",
    "    C = cyc_mat(F, k);\n",
    "    I = matrix.identity(k)\n",
    "    O = zero_mat(F, k);\n",
    "    \n",
    "    # Permute the blocks themselves\n",
    "    # Permute the elements within the blocks (using tranpose and cyclic matrices from above)\n",
    "    gens = []\n",
    "    \n",
    "    # Matrices for permuting the blocks among themselves, S_l\n",
    "    # One block transpose matrix, one cycle.\n",
    "    BT = block_matrix([[I if j == i else O for j in range(l)] if i > 1 else [abs(j - i) * I if j < 2 else O for j in range(l)] for i in range(l)])\n",
    "    BC = block_matrix([[I if j == i - 1 else O for j in range(l)] if i > 0 else [I if j == l - 1 else O for j in range(l)] for i in range(l)])\n",
    "    gens.extend([BT, BC])\n",
    "    \n",
    "    # Matrices for permutations within the blocks, S_k.\n",
    "    # One tranposition and one cycle for each block.\n",
    "    for b in range(l):\n",
    "        T_b = block_matrix([[(T if i == b else I) if j == i else O for j in range(l)] for i in range(l)])\n",
    "        C_b = block_matrix([[(C if i == b else I) if j == i else O for j in range(l)] for i in range(l)])\n",
    "        gens.extend([T_b, C_b])\n",
    "\n",
    "    return gens"
   ]
  },
  {
   "cell_type": "code",
   "execution_count": 69,
   "id": "483618fe",
   "metadata": {},
   "outputs": [
    {
     "data": {
      "text/plain": [
       "[\n",
       "[0 0 0|1 0 0]  [0 0 0|1 0 0]  [0 1 0|0 0 0]  [0 0 1|0 0 0]\n",
       "[0 0 0|0 1 0]  [0 0 0|0 1 0]  [1 0 0|0 0 0]  [1 0 0|0 0 0]\n",
       "[0 0 0|0 0 1]  [0 0 0|0 0 1]  [0 0 1|0 0 0]  [0 1 0|0 0 0]\n",
       "[-----+-----]  [-----+-----]  [-----+-----]  [-----+-----]\n",
       "[1 0 0|0 0 0]  [1 0 0|0 0 0]  [0 0 0|1 0 0]  [0 0 0|1 0 0]\n",
       "[0 1 0|0 0 0]  [0 1 0|0 0 0]  [0 0 0|0 1 0]  [0 0 0|0 1 0]\n",
       "[0 0 1|0 0 0], [0 0 1|0 0 0], [0 0 0|0 0 1], [0 0 0|0 0 1],\n",
       "\n",
       "[1 0 0|0 0 0]  [1 0 0|0 0 0]\n",
       "[0 1 0|0 0 0]  [0 1 0|0 0 0]\n",
       "[0 0 1|0 0 0]  [0 0 1|0 0 0]\n",
       "[-----+-----]  [-----+-----]\n",
       "[0 0 0|0 1 0]  [0 0 0|0 0 1]\n",
       "[0 0 0|1 0 0]  [0 0 0|1 0 0]\n",
       "[0 0 0|0 0 1], [0 0 0|0 1 0]\n",
       "]"
      ]
     },
     "execution_count": 69,
     "metadata": {},
     "output_type": "execute_result"
    }
   ],
   "source": [
    "gen_mats(QQ, 2, 3)"
   ]
  },
  {
   "cell_type": "code",
   "execution_count": 70,
   "id": "ab9c0b07",
   "metadata": {},
   "outputs": [],
   "source": [
    "gens = gen_mats(QQ, 2, 3)"
   ]
  },
  {
   "cell_type": "code",
   "execution_count": 71,
   "id": "6976870f",
   "metadata": {},
   "outputs": [
    {
     "data": {
      "text/plain": [
       "[x1 + x2 + x3 + x4 + x5 + x6,\n",
       " x1^2 + x2^2 + x3^2 + x4^2 + x5^2 + x6^2,\n",
       " x1*x2 + x1*x3 + x2*x3 + x4*x5 + x4*x6 + x5*x6,\n",
       " x1^3 + x2^3 + x3^3 + x4^3 + x5^3 + x6^3,\n",
       " x1^2*x2 + x1*x2^2 + x1^2*x3 + x2^2*x3 + x1*x3^2 + x2*x3^2 + x4^2*x5 + x4*x5^2 + x4^2*x6 + x5^2*x6 + x4*x6^2 + x5*x6^2,\n",
       " x1^4 + x2^4 + x3^4 + x4^4 + x5^4 + x6^4,\n",
       " x1^3*x2 + x1*x2^3 + x1^3*x3 + x2^3*x3 + x1*x3^3 + x2*x3^3 + x4^3*x5 + x4*x5^3 + x4^3*x6 + x5^3*x6 + x4*x6^3 + x5*x6^3,\n",
       " x1^5 + x2^5 + x3^5 + x4^5 + x5^5 + x6^5,\n",
       " x1^6 + x2^6 + x3^6 + x4^6 + x5^6 + x6^6]"
      ]
     },
     "execution_count": 71,
     "metadata": {},
     "output_type": "execute_result"
    }
   ],
   "source": [
    "G = MatrixGroup(gens);\n",
    "G.invariant_generators()"
   ]
  },
  {
   "cell_type": "code",
   "execution_count": 82,
   "id": "c62aedff",
   "metadata": {},
   "outputs": [],
   "source": [
    "def get_inv_gens(F, l, k):\n",
    "    gen_mats = get_gen_mats(F, l, k)\n",
    "    G = MatrixGroup(gen_mats);\n",
    "    gens = G.invariant_generators()\n",
    "    return gens"
   ]
  },
  {
   "cell_type": "code",
   "execution_count": 83,
   "id": "ecb947e2",
   "metadata": {},
   "outputs": [
    {
     "data": {
      "text/plain": [
       "[x1 + x2 + x3 + x4 + x5 + x6,\n",
       " x1^2 + x2^2 + x3^2 + x4^2 + x5^2 + x6^2,\n",
       " x1*x2 + x1*x3 + x2*x3 + x4*x5 + x4*x6 + x5*x6,\n",
       " x1^3 + x2^3 + x3^3 + x4^3 + x5^3 + x6^3,\n",
       " x1^2*x2 + x1*x2^2 + x1^2*x3 + x2^2*x3 + x1*x3^2 + x2*x3^2 + x4^2*x5 + x4*x5^2 + x4^2*x6 + x5^2*x6 + x4*x6^2 + x5*x6^2,\n",
       " x1^4 + x2^4 + x3^4 + x4^4 + x5^4 + x6^4,\n",
       " x1^3*x2 + x1*x2^3 + x1^3*x3 + x2^3*x3 + x1*x3^3 + x2*x3^3 + x4^3*x5 + x4*x5^3 + x4^3*x6 + x5^3*x6 + x4*x6^3 + x5*x6^3,\n",
       " x1^5 + x2^5 + x3^5 + x4^5 + x5^5 + x6^5,\n",
       " x1^6 + x2^6 + x3^6 + x4^6 + x5^6 + x6^6]"
      ]
     },
     "execution_count": 83,
     "metadata": {},
     "output_type": "execute_result"
    }
   ],
   "source": [
    "get_inv_gens(QQ, 2, 3)"
   ]
  },
  {
   "cell_type": "code",
   "execution_count": 84,
   "id": "72164f97",
   "metadata": {},
   "outputs": [
    {
     "data": {
      "text/plain": [
       "[\n",
       "[0 0 0 0|1 0 0 0]  [0 0 0 0|1 0 0 0]  [0 1 0 0|0 0 0 0]\n",
       "[0 0 0 0|0 1 0 0]  [0 0 0 0|0 1 0 0]  [1 0 0 0|0 0 0 0]\n",
       "[0 0 0 0|0 0 1 0]  [0 0 0 0|0 0 1 0]  [0 0 1 0|0 0 0 0]\n",
       "[0 0 0 0|0 0 0 1]  [0 0 0 0|0 0 0 1]  [0 0 0 1|0 0 0 0]\n",
       "[-------+-------]  [-------+-------]  [-------+-------]\n",
       "[1 0 0 0|0 0 0 0]  [1 0 0 0|0 0 0 0]  [0 0 0 0|1 0 0 0]\n",
       "[0 1 0 0|0 0 0 0]  [0 1 0 0|0 0 0 0]  [0 0 0 0|0 1 0 0]\n",
       "[0 0 1 0|0 0 0 0]  [0 0 1 0|0 0 0 0]  [0 0 0 0|0 0 1 0]\n",
       "[0 0 0 1|0 0 0 0], [0 0 0 1|0 0 0 0], [0 0 0 0|0 0 0 1],\n",
       "\n",
       "[0 0 0 1|0 0 0 0]  [1 0 0 0|0 0 0 0]  [1 0 0 0|0 0 0 0]\n",
       "[1 0 0 0|0 0 0 0]  [0 1 0 0|0 0 0 0]  [0 1 0 0|0 0 0 0]\n",
       "[0 1 0 0|0 0 0 0]  [0 0 1 0|0 0 0 0]  [0 0 1 0|0 0 0 0]\n",
       "[0 0 1 0|0 0 0 0]  [0 0 0 1|0 0 0 0]  [0 0 0 1|0 0 0 0]\n",
       "[-------+-------]  [-------+-------]  [-------+-------]\n",
       "[0 0 0 0|1 0 0 0]  [0 0 0 0|0 1 0 0]  [0 0 0 0|0 0 0 1]\n",
       "[0 0 0 0|0 1 0 0]  [0 0 0 0|1 0 0 0]  [0 0 0 0|1 0 0 0]\n",
       "[0 0 0 0|0 0 1 0]  [0 0 0 0|0 0 1 0]  [0 0 0 0|0 1 0 0]\n",
       "[0 0 0 0|0 0 0 1], [0 0 0 0|0 0 0 1], [0 0 0 0|0 0 1 0]\n",
       "]"
      ]
     },
     "execution_count": 84,
     "metadata": {},
     "output_type": "execute_result"
    }
   ],
   "source": [
    "gen_mats(QQ, 2, 4)"
   ]
  },
  {
   "cell_type": "code",
   "execution_count": 85,
   "id": "46034346",
   "metadata": {},
   "outputs": [
    {
     "data": {
      "text/plain": [
       "[x1 + x2 + x3 + x4 + x5 + x6 + x7 + x8,\n",
       " x1^2 + x2^2 + x3^2 + x4^2 + x5^2 + x6^2 + x7^2 + x8^2,\n",
       " x1*x2 + x1*x3 + x2*x3 + x1*x4 + x2*x4 + x3*x4 + x5*x6 + x5*x7 + x6*x7 + x5*x8 + x6*x8 + x7*x8,\n",
       " x1^3 + x2^3 + x3^3 + x4^3 + x5^3 + x6^3 + x7^3 + x8^3,\n",
       " x1^2*x2 + x1*x2^2 + x1^2*x3 + x2^2*x3 + x1*x3^2 + x2*x3^2 + x1^2*x4 + x2^2*x4 + x3^2*x4 + x1*x4^2 + x2*x4^2 + x3*x4^2 + x5^2*x6 + x5*x6^2 + x5^2*x7 + x6^2*x7 + x5*x7^2 + x6*x7^2 + x5^2*x8 + x6^2*x8 + x7^2*x8 + x5*x8^2 + x6*x8^2 + x7*x8^2,\n",
       " x1^4 + x2^4 + x3^4 + x4^4 + x5^4 + x6^4 + x7^4 + x8^4,\n",
       " x1^3*x2 + x1*x2^3 + x1^3*x3 + x2^3*x3 + x1*x3^3 + x2*x3^3 + x1^3*x4 + x2^3*x4 + x3^3*x4 + x1*x4^3 + x2*x4^3 + x3*x4^3 + x5^3*x6 + x5*x6^3 + x5^3*x7 + x6^3*x7 + x5*x7^3 + x6*x7^3 + x5^3*x8 + x6^3*x8 + x7^3*x8 + x5*x8^3 + x6*x8^3 + x7*x8^3,\n",
       " x1^2*x2^2 + x1^2*x3^2 + x2^2*x3^2 + x1^2*x4^2 + x2^2*x4^2 + x3^2*x4^2 + x5^2*x6^2 + x5^2*x7^2 + x6^2*x7^2 + x5^2*x8^2 + x6^2*x8^2 + x7^2*x8^2,\n",
       " x1^5 + x2^5 + x3^5 + x4^5 + x5^5 + x6^5 + x7^5 + x8^5,\n",
       " x1^4*x2 + x1*x2^4 + x1^4*x3 + x2^4*x3 + x1*x3^4 + x2*x3^4 + x1^4*x4 + x2^4*x4 + x3^4*x4 + x1*x4^4 + x2*x4^4 + x3*x4^4 + x5^4*x6 + x5*x6^4 + x5^4*x7 + x6^4*x7 + x5*x7^4 + x6*x7^4 + x5^4*x8 + x6^4*x8 + x7^4*x8 + x5*x8^4 + x6*x8^4 + x7*x8^4,\n",
       " x1^6 + x2^6 + x3^6 + x4^6 + x5^6 + x6^6 + x7^6 + x8^6,\n",
       " x1^4*x2^2 + x1^2*x2^4 + x1^4*x3^2 + x2^4*x3^2 + x1^2*x3^4 + x2^2*x3^4 + x1^4*x4^2 + x2^4*x4^2 + x3^4*x4^2 + x1^2*x4^4 + x2^2*x4^4 + x3^2*x4^4 + x5^4*x6^2 + x5^2*x6^4 + x5^4*x7^2 + x6^4*x7^2 + x5^2*x7^4 + x6^2*x7^4 + x5^4*x8^2 + x6^4*x8^2 + x7^4*x8^2 + x5^2*x8^4 + x6^2*x8^4 + x7^2*x8^4,\n",
       " x1^7 + x2^7 + x3^7 + x4^7 + x5^7 + x6^7 + x7^7 + x8^7,\n",
       " x1^8 + x2^8 + x3^8 + x4^8 + x5^8 + x6^8 + x7^8 + x8^8]"
      ]
     },
     "execution_count": 85,
     "metadata": {},
     "output_type": "execute_result"
    }
   ],
   "source": [
    "get_inv_gens(QQ, 2, 4)"
   ]
  },
  {
   "cell_type": "code",
   "execution_count": 86,
   "id": "709dcedd",
   "metadata": {},
   "outputs": [
    {
     "data": {
      "text/plain": [
       "[\n",
       "[0 0 0|1 0 0|0 0 0]  [0 0 0|0 0 0|1 0 0]  [0 1 0|0 0 0|0 0 0]\n",
       "[0 0 0|0 1 0|0 0 0]  [0 0 0|0 0 0|0 1 0]  [1 0 0|0 0 0|0 0 0]\n",
       "[0 0 0|0 0 1|0 0 0]  [0 0 0|0 0 0|0 0 1]  [0 0 1|0 0 0|0 0 0]\n",
       "[-----+-----+-----]  [-----+-----+-----]  [-----+-----+-----]\n",
       "[1 0 0|0 0 0|0 0 0]  [1 0 0|0 0 0|0 0 0]  [0 0 0|1 0 0|0 0 0]\n",
       "[0 1 0|0 0 0|0 0 0]  [0 1 0|0 0 0|0 0 0]  [0 0 0|0 1 0|0 0 0]\n",
       "[0 0 1|0 0 0|0 0 0]  [0 0 1|0 0 0|0 0 0]  [0 0 0|0 0 1|0 0 0]\n",
       "[-----+-----+-----]  [-----+-----+-----]  [-----+-----+-----]\n",
       "[0 0 0|0 0 0|1 0 0]  [0 0 0|1 0 0|0 0 0]  [0 0 0|0 0 0|1 0 0]\n",
       "[0 0 0|0 0 0|0 1 0]  [0 0 0|0 1 0|0 0 0]  [0 0 0|0 0 0|0 1 0]\n",
       "[0 0 0|0 0 0|0 0 1], [0 0 0|0 0 1|0 0 0], [0 0 0|0 0 0|0 0 1],\n",
       "\n",
       "[0 0 1|0 0 0|0 0 0]  [1 0 0|0 0 0|0 0 0]  [1 0 0|0 0 0|0 0 0]\n",
       "[1 0 0|0 0 0|0 0 0]  [0 1 0|0 0 0|0 0 0]  [0 1 0|0 0 0|0 0 0]\n",
       "[0 1 0|0 0 0|0 0 0]  [0 0 1|0 0 0|0 0 0]  [0 0 1|0 0 0|0 0 0]\n",
       "[-----+-----+-----]  [-----+-----+-----]  [-----+-----+-----]\n",
       "[0 0 0|1 0 0|0 0 0]  [0 0 0|0 1 0|0 0 0]  [0 0 0|0 0 1|0 0 0]\n",
       "[0 0 0|0 1 0|0 0 0]  [0 0 0|1 0 0|0 0 0]  [0 0 0|1 0 0|0 0 0]\n",
       "[0 0 0|0 0 1|0 0 0]  [0 0 0|0 0 1|0 0 0]  [0 0 0|0 1 0|0 0 0]\n",
       "[-----+-----+-----]  [-----+-----+-----]  [-----+-----+-----]\n",
       "[0 0 0|0 0 0|1 0 0]  [0 0 0|0 0 0|1 0 0]  [0 0 0|0 0 0|1 0 0]\n",
       "[0 0 0|0 0 0|0 1 0]  [0 0 0|0 0 0|0 1 0]  [0 0 0|0 0 0|0 1 0]\n",
       "[0 0 0|0 0 0|0 0 1], [0 0 0|0 0 0|0 0 1], [0 0 0|0 0 0|0 0 1],\n",
       "\n",
       "[1 0 0|0 0 0|0 0 0]  [1 0 0|0 0 0|0 0 0]\n",
       "[0 1 0|0 0 0|0 0 0]  [0 1 0|0 0 0|0 0 0]\n",
       "[0 0 1|0 0 0|0 0 0]  [0 0 1|0 0 0|0 0 0]\n",
       "[-----+-----+-----]  [-----+-----+-----]\n",
       "[0 0 0|1 0 0|0 0 0]  [0 0 0|1 0 0|0 0 0]\n",
       "[0 0 0|0 1 0|0 0 0]  [0 0 0|0 1 0|0 0 0]\n",
       "[0 0 0|0 0 1|0 0 0]  [0 0 0|0 0 1|0 0 0]\n",
       "[-----+-----+-----]  [-----+-----+-----]\n",
       "[0 0 0|0 0 0|0 1 0]  [0 0 0|0 0 0|0 0 1]\n",
       "[0 0 0|0 0 0|1 0 0]  [0 0 0|0 0 0|1 0 0]\n",
       "[0 0 0|0 0 0|0 0 1], [0 0 0|0 0 0|0 1 0]\n",
       "]"
      ]
     },
     "execution_count": 86,
     "metadata": {},
     "output_type": "execute_result"
    }
   ],
   "source": [
    "gen_mats(QQ, 3, 3)"
   ]
  },
  {
   "cell_type": "code",
   "execution_count": 89,
   "id": "14e2a482",
   "metadata": {},
   "outputs": [
    {
     "name": "stdout",
     "output_type": "stream",
     "text": [
      "CPU times: user 82.1 ms, sys: 20.1 ms, total: 102 ms\n",
      "Wall time: 131 ms\n"
     ]
    },
    {
     "data": {
      "text/plain": [
       "[x1 + x2 + x3 + x4,\n",
       " x1^2 + x2^2 + x3^2 + x4^2,\n",
       " x1*x2 + x3*x4,\n",
       " x1^3 + x2^3 + x3^3 + x4^3,\n",
       " x1^4 + x2^4 + x3^4 + x4^4]"
      ]
     },
     "execution_count": 89,
     "metadata": {},
     "output_type": "execute_result"
    }
   ],
   "source": [
    "%%time\n",
    "get_inv_gens(QQ, 2, 2)"
   ]
  },
  {
   "cell_type": "code",
   "execution_count": 90,
   "id": "47c957ec",
   "metadata": {},
   "outputs": [
    {
     "name": "stdout",
     "output_type": "stream",
     "text": [
      "CPU times: user 124 ms, sys: 13.5 ms, total: 137 ms\n",
      "Wall time: 196 ms\n"
     ]
    },
    {
     "data": {
      "text/plain": [
       "[x1 + x2 + x3 + x4 + x5 + x6,\n",
       " x1^2 + x2^2 + x3^2 + x4^2 + x5^2 + x6^2,\n",
       " x1*x2 + x1*x3 + x2*x3 + x4*x5 + x4*x6 + x5*x6,\n",
       " x1^3 + x2^3 + x3^3 + x4^3 + x5^3 + x6^3,\n",
       " x1^2*x2 + x1*x2^2 + x1^2*x3 + x2^2*x3 + x1*x3^2 + x2*x3^2 + x4^2*x5 + x4*x5^2 + x4^2*x6 + x5^2*x6 + x4*x6^2 + x5*x6^2,\n",
       " x1^4 + x2^4 + x3^4 + x4^4 + x5^4 + x6^4,\n",
       " x1^3*x2 + x1*x2^3 + x1^3*x3 + x2^3*x3 + x1*x3^3 + x2*x3^3 + x4^3*x5 + x4*x5^3 + x4^3*x6 + x5^3*x6 + x4*x6^3 + x5*x6^3,\n",
       " x1^5 + x2^5 + x3^5 + x4^5 + x5^5 + x6^5,\n",
       " x1^6 + x2^6 + x3^6 + x4^6 + x5^6 + x6^6]"
      ]
     },
     "execution_count": 90,
     "metadata": {},
     "output_type": "execute_result"
    },
    {
     "name": "stderr",
     "output_type": "stream",
     "text": [
      "IOStream.flush timed out\n",
      "IOStream.flush timed out\n"
     ]
    }
   ],
   "source": [
    "%%time\n",
    "get_inv_gens(QQ, 2, 3)"
   ]
  },
  {
   "cell_type": "code",
   "execution_count": 91,
   "id": "214430fa",
   "metadata": {},
   "outputs": [
    {
     "name": "stdout",
     "output_type": "stream",
     "text": [
      "CPU times: user 120 ms, sys: 9.27 ms, total: 129 ms\n",
      "Wall time: 178 ms\n"
     ]
    },
    {
     "data": {
      "text/plain": [
       "[x1 + x2 + x3 + x4 + x5 + x6,\n",
       " x1^2 + x2^2 + x3^2 + x4^2 + x5^2 + x6^2,\n",
       " x1*x2 + x1*x3 + x2*x3 + x4*x5 + x4*x6 + x5*x6,\n",
       " x1^3 + x2^3 + x3^3 + x4^3 + x5^3 + x6^3,\n",
       " x1^2*x2 + x1*x2^2 + x1^2*x3 + x2^2*x3 + x1*x3^2 + x2*x3^2 + x4^2*x5 + x4*x5^2 + x4^2*x6 + x5^2*x6 + x4*x6^2 + x5*x6^2,\n",
       " x1^4 + x2^4 + x3^4 + x4^4 + x5^4 + x6^4,\n",
       " x1^3*x2 + x1*x2^3 + x1^3*x3 + x2^3*x3 + x1*x3^3 + x2*x3^3 + x4^3*x5 + x4*x5^3 + x4^3*x6 + x5^3*x6 + x4*x6^3 + x5*x6^3,\n",
       " x1^5 + x2^5 + x3^5 + x4^5 + x5^5 + x6^5,\n",
       " x1^6 + x2^6 + x3^6 + x4^6 + x5^6 + x6^6]"
      ]
     },
     "execution_count": 91,
     "metadata": {},
     "output_type": "execute_result"
    }
   ],
   "source": [
    "%%time\n",
    "get_inv_gens(QQ, 2, 3)"
   ]
  },
  {
   "cell_type": "code",
   "execution_count": 92,
   "id": "1f824134",
   "metadata": {},
   "outputs": [
    {
     "name": "stdout",
     "output_type": "stream",
     "text": [
      "CPU times: user 990 ms, sys: 398 ms, total: 1.39 s\n",
      "Wall time: 13min 19s\n"
     ]
    },
    {
     "data": {
      "text/plain": [
       "[x1 + x2 + x3 + x4 + x5 + x6 + x7 + x8 + x9,\n",
       " x1^2 + x2^2 + x3^2 + x4^2 + x5^2 + x6^2 + x7^2 + x8^2 + x9^2,\n",
       " x1*x2 + x1*x3 + x2*x3 + x4*x5 + x4*x6 + x5*x6 + x7*x8 + x7*x9 + x8*x9,\n",
       " x1^3 + x2^3 + x3^3 + x4^3 + x5^3 + x6^3 + x7^3 + x8^3 + x9^3,\n",
       " x1^2*x2 + x1*x2^2 + x1^2*x3 + x2^2*x3 + x1*x3^2 + x2*x3^2 + x4^2*x5 + x4*x5^2 + x4^2*x6 + x5^2*x6 + x4*x6^2 + x5*x6^2 + x7^2*x8 + x7*x8^2 + x7^2*x9 + x8^2*x9 + x7*x9^2 + x8*x9^2,\n",
       " x1*x2*x3 + x4*x5*x6 + x7*x8*x9,\n",
       " x1^4 + x2^4 + x3^4 + x4^4 + x5^4 + x6^4 + x7^4 + x8^4 + x9^4,\n",
       " x1^3*x2 + x1*x2^3 + x1^3*x3 + x2^3*x3 + x1*x3^3 + x2*x3^3 + x4^3*x5 + x4*x5^3 + x4^3*x6 + x5^3*x6 + x4*x6^3 + x5*x6^3 + x7^3*x8 + x7*x8^3 + x7^3*x9 + x8^3*x9 + x7*x9^3 + x8*x9^3,\n",
       " x1^2*x2^2 + x1^2*x3^2 + x2^2*x3^2 + x4^2*x5^2 + x4^2*x6^2 + x5^2*x6^2 + x7^2*x8^2 + x7^2*x9^2 + x8^2*x9^2,\n",
       " x1^5 + x2^5 + x3^5 + x4^5 + x5^5 + x6^5 + x7^5 + x8^5 + x9^5,\n",
       " x1^4*x2 + x1*x2^4 + x1^4*x3 + x2^4*x3 + x1*x3^4 + x2*x3^4 + x4^4*x5 + x4*x5^4 + x4^4*x6 + x5^4*x6 + x4*x6^4 + x5*x6^4 + x7^4*x8 + x7*x8^4 + x7^4*x9 + x8^4*x9 + x7*x9^4 + x8*x9^4,\n",
       " x1^3*x2^2 + x1^2*x2^3 + x1^3*x3^2 + x2^3*x3^2 + x1^2*x3^3 + x2^2*x3^3 + x4^3*x5^2 + x4^2*x5^3 + x4^3*x6^2 + x5^3*x6^2 + x4^2*x6^3 + x5^2*x6^3 + x7^3*x8^2 + x7^2*x8^3 + x7^3*x9^2 + x8^3*x9^2 + x7^2*x9^3 + x8^2*x9^3,\n",
       " x1^6 + x2^6 + x3^6 + x4^6 + x5^6 + x6^6 + x7^6 + x8^6 + x9^6,\n",
       " x1^5*x2 + x1*x2^5 + x1^5*x3 + x2^5*x3 + x1*x3^5 + x2*x3^5 + x4^5*x5 + x4*x5^5 + x4^5*x6 + x5^5*x6 + x4*x6^5 + x5*x6^5 + x7^5*x8 + x7*x8^5 + x7^5*x9 + x8^5*x9 + x7*x9^5 + x8*x9^5,\n",
       " x1^4*x2^2 + x1^2*x2^4 + x1^4*x3^2 + x2^4*x3^2 + x1^2*x3^4 + x2^2*x3^4 + x4^4*x5^2 + x4^2*x5^4 + x4^4*x6^2 + x5^4*x6^2 + x4^2*x6^4 + x5^2*x6^4 + x7^4*x8^2 + x7^2*x8^4 + x7^4*x9^2 + x8^4*x9^2 + x7^2*x9^4 + x8^2*x9^4,\n",
       " x1^7 + x2^7 + x3^7 + x4^7 + x5^7 + x6^7 + x7^7 + x8^7 + x9^7,\n",
       " x1^6*x2 + x1*x2^6 + x1^6*x3 + x2^6*x3 + x1*x3^6 + x2*x3^6 + x4^6*x5 + x4*x5^6 + x4^6*x6 + x5^6*x6 + x4*x6^6 + x5*x6^6 + x7^6*x8 + x7*x8^6 + x7^6*x9 + x8^6*x9 + x7*x9^6 + x8*x9^6,\n",
       " x1^8 + x2^8 + x3^8 + x4^8 + x5^8 + x6^8 + x7^8 + x8^8 + x9^8,\n",
       " x1^9 + x2^9 + x3^9 + x4^9 + x5^9 + x6^9 + x7^9 + x8^9 + x9^9]"
      ]
     },
     "execution_count": 92,
     "metadata": {},
     "output_type": "execute_result"
    }
   ],
   "source": [
    "%%time\n",
    "get_inv_gens(QQ, 3, 3)"
   ]
  },
  {
   "cell_type": "code",
   "execution_count": null,
   "id": "5a7d4362",
   "metadata": {},
   "outputs": [],
   "source": []
  }
 ],
 "metadata": {
  "kernelspec": {
   "display_name": "SageMath 10.0",
   "language": "sage",
   "name": "sagemath-10.0"
  },
  "language_info": {
   "codemirror_mode": {
    "name": "ipython",
    "version": 3
   },
   "file_extension": ".py",
   "mimetype": "text/x-python",
   "name": "python",
   "nbconvert_exporter": "python",
   "pygments_lexer": "ipython3",
   "version": "3.11.1"
  }
 },
 "nbformat": 4,
 "nbformat_minor": 5
}
