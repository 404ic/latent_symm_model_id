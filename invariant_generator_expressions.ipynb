{
 "cells": [
  {
   "cell_type": "code",
   "execution_count": 1,
   "id": "0a25b026",
   "metadata": {},
   "outputs": [],
   "source": [
    "def trans_mat(F, k):\n",
    "    MS = MatrixSpace(F, k, k);\n",
    "\n",
    "    # Want k x k matrices\n",
    "    # T is identity except swapping 1st and 2nd positions\n",
    "    T = MS([[1 if j == i else 0 for j in range(k)] if i > 1 else [abs(j - i) if j < 2 else 0 for j in range(k)] for i in range(k)])\n",
    "    return T\n",
    "\n",
    "def cyc_mat(F, k):\n",
    "    F = QQ;\n",
    "    MS = MatrixSpace(F, k, k);\n",
    "\n",
    "    # Want k x k matrices\n",
    "    # T is identity except swapping 1st and 2nd positions\n",
    "    C = MS([[1 if j == i - 1 else 0 for j in range(k)] if i > 0 else [1 if j == k - 1 else 0 for j in range(k)] for i in range(k)])\n",
    "    return C\n",
    "\n",
    "def zero_mat(F, k):\n",
    "    MS = MatrixSpace(F, k, k);\n",
    "\n",
    "    # Want k x k matrices\n",
    "    # T is identity except swapping 1st and 2nd positions\n",
    "    O = MS(0)\n",
    "    return O\n",
    "\n",
    "def get_gen_mats(F, l, k):\n",
    "    T = trans_mat(F, k);\n",
    "    C = cyc_mat(F, k);\n",
    "    I = matrix.identity(k)\n",
    "    O = zero_mat(F, k);\n",
    "    \n",
    "    # Permute the blocks themselves\n",
    "    # Permute the elements within the blocks (using tranpose and cyclic matrices from above)\n",
    "    gens = []\n",
    "    \n",
    "    # Matrices for permuting the blocks among themselves, S_l\n",
    "    # One block transpose matrix, one cycle.\n",
    "    BT = block_matrix([[I if j == i else O for j in range(l)] if i > 1 else [abs(j - i) * I if j < 2 else O for j in range(l)] for i in range(l)])\n",
    "    BC = block_matrix([[I if j == i - 1 else O for j in range(l)] if i > 0 else [I if j == l - 1 else O for j in range(l)] for i in range(l)])\n",
    "    gens.extend([BT, BC])\n",
    "    \n",
    "    # Matrices for permutations within the blocks, S_k.\n",
    "    # One tranposition and one cycle for each block.\n",
    "    for b in range(l):\n",
    "        T_b = block_matrix([[(T if i == b else I) if j == i else O for j in range(l)] for i in range(l)])\n",
    "        C_b = block_matrix([[(C if i == b else I) if j == i else O for j in range(l)] for i in range(l)])\n",
    "        gens.extend([T_b, C_b])\n",
    "\n",
    "    return gens"
   ]
  },
  {
   "cell_type": "code",
   "execution_count": 2,
   "id": "889816c8",
   "metadata": {},
   "outputs": [],
   "source": [
    "def get_inv_gens(F, l, k):\n",
    "    gen_mats = get_gen_mats(F, l, k)\n",
    "    G = MatrixGroup(gen_mats);\n",
    "    gens = G.invariant_generators()\n",
    "    return gens"
   ]
  },
  {
   "cell_type": "code",
   "execution_count": 14,
   "id": "ed08bf58",
   "metadata": {},
   "outputs": [],
   "source": [
    "def get_inds(F, l, k, inv_gens):\n",
    "    n_gens = len(inv_gens)\n",
    "    str_x = ['x%d' %(i + 1) for i in range(l * k)]\n",
    "    str_y = ['y%d' %(i + 1) for i in range(n_gens)]\n",
    "    str_inds = str_x + str_y\n",
    "    inds = QQ[', '.join(str_inds)].gens()\n",
    "    return inds"
   ]
  },
  {
   "cell_type": "code",
   "execution_count": 16,
   "id": "2aaaf0de",
   "metadata": {},
   "outputs": [],
   "source": [
    "def get_moment(n, F, l, k, inv_gens):\n",
    "    inds = get_inds(F, l, k, inv_gens)\n",
    "    # Note that x comes before y in inds, so this just returns a partition of x.\n",
    "    x = [inds[j * k: (j + 1) * k] for j in range(l)]\n",
    "    P = 0\n",
    "    \n",
    "    U = Tuples(range(k), l).list()\n",
    "    for u in U:\n",
    "        t = 1\n",
    "        for j in range(l):\n",
    "            u_j = u[j]\n",
    "            t *= x[j][u_j]\n",
    "        P += t^n\n",
    "    return P"
   ]
  },
  {
   "cell_type": "code",
   "execution_count": 30,
   "id": "bdde458b",
   "metadata": {},
   "outputs": [],
   "source": [
    "def get_gen_expr(f, F, inv_gens, l, k):\n",
    "    inds = get_inds(F, l, k, inv_gens)\n",
    "    n_inds = len(inds)\n",
    "    n_gens = len(inv_gens)\n",
    "    y = [inds[i] for i in range(n_inds - n_gens, n_inds)]\n",
    "    \n",
    "    J_gens = [inv_gens[i] - y[i] for i in range(n_gens)]\n",
    "    J = ideal(J_gens)\n",
    "    expr = J.reduce(f)\n",
    "    return expr"
   ]
  },
  {
   "cell_type": "markdown",
   "id": "2fc61a93",
   "metadata": {},
   "source": [
    "Get the generators for the $l = 2, k = 2$ case. Write the first through third moments as polynomials in the invariants."
   ]
  },
  {
   "cell_type": "code",
   "execution_count": 22,
   "id": "25395052",
   "metadata": {},
   "outputs": [
    {
     "data": {
      "text/plain": [
       "[x1 + x2 + x3 + x4,\n",
       " x1^2 + x2^2 + x3^2 + x4^2,\n",
       " x1*x2 + x3*x4,\n",
       " x1^3 + x2^3 + x3^3 + x4^3,\n",
       " x1^4 + x2^4 + x3^4 + x4^4]"
      ]
     },
     "execution_count": 22,
     "metadata": {},
     "output_type": "execute_result"
    }
   ],
   "source": [
    "F, l, k = QQ, 2, 2\n",
    "inv_gens = get_inv_gens(F, l, k)\n",
    "inv_gens"
   ]
  },
  {
   "cell_type": "code",
   "execution_count": 23,
   "id": "ee9ec6e7",
   "metadata": {},
   "outputs": [
    {
     "data": {
      "text/plain": [
       "x1*x3 + x2*x3 + x1*x4 + x2*x4"
      ]
     },
     "execution_count": 23,
     "metadata": {},
     "output_type": "execute_result"
    }
   ],
   "source": [
    "P_1 = get_moment(1, F, l, k, inv_gens)\n",
    "P_1"
   ]
  },
  {
   "cell_type": "code",
   "execution_count": 24,
   "id": "cf1bbf95",
   "metadata": {},
   "outputs": [
    {
     "data": {
      "text/plain": [
       "x1^2*x3^2 + x2^2*x3^2 + x1^2*x4^2 + x2^2*x4^2"
      ]
     },
     "execution_count": 24,
     "metadata": {},
     "output_type": "execute_result"
    }
   ],
   "source": [
    "P_2 = get_moment(2, F, l, k, inv_gens)\n",
    "P_2"
   ]
  },
  {
   "cell_type": "code",
   "execution_count": 26,
   "id": "7ac873da",
   "metadata": {},
   "outputs": [
    {
     "data": {
      "text/plain": [
       "x1^3*x3^3 + x2^3*x3^3 + x1^3*x4^3 + x2^3*x4^3"
      ]
     },
     "execution_count": 26,
     "metadata": {},
     "output_type": "execute_result"
    }
   ],
   "source": [
    "P_3 = get_moment(3, F, l, k, inv_gens)\n",
    "P_3"
   ]
  },
  {
   "cell_type": "code",
   "execution_count": 36,
   "id": "3c582804",
   "metadata": {},
   "outputs": [
    {
     "name": "stdout",
     "output_type": "stream",
     "text": [
      "moment 1: 1/2*y1^2 - 1/2*y2 - y3\n",
      "moment 2: 1/12*y1^4 - 1/2*y1^2*y2 + 3/4*y2^2 - y3^2 + 2/3*y1*y4 - y5\n",
      "moment 3: 1/16*y1^4*y2 + 1/8*y1^4*y3 - 3/8*y1^2*y2^2 - 3/2*y1^2*y2*y3 + 3/4*y1^2*y3^2 + 7/16*y2^3 + 9/8*y2^2*y3 - 3/4*y2*y3^2 - 5/2*y3^3 + 1/2*y1*y2*y4 + 5/2*y1*y3*y4 + 1/2*y4^2 - 9/8*y2*y5 - 9/4*y3*y5\n"
     ]
    }
   ],
   "source": [
    "f_1 = get_gen_expr(P_1, F, inv_gens, l, k)\n",
    "print('moment 1: ' + str(f_1))\n",
    "\n",
    "f_2 = get_gen_expr(P_2, F, inv_gens, l, k)\n",
    "print('moment 2: ' + str(f_2))\n",
    "\n",
    "f_3 = get_gen_expr(P_3, F, inv_gens, l, k)\n",
    "print('moment 3: ' + str(f_3))"
   ]
  },
  {
   "cell_type": "markdown",
   "id": "251a0a16",
   "metadata": {},
   "source": [
    "Get the generators for the $l = 2, k = 3$ case. Write the first through third moments as polynomials in the invariants."
   ]
  },
  {
   "cell_type": "code",
   "execution_count": 37,
   "id": "cb913153",
   "metadata": {},
   "outputs": [
    {
     "data": {
      "text/plain": [
       "[x1 + x2 + x3 + x4 + x5 + x6,\n",
       " x1^2 + x2^2 + x3^2 + x4^2 + x5^2 + x6^2,\n",
       " x1*x2 + x1*x3 + x2*x3 + x4*x5 + x4*x6 + x5*x6,\n",
       " x1^3 + x2^3 + x3^3 + x4^3 + x5^3 + x6^3,\n",
       " x1^2*x2 + x1*x2^2 + x1^2*x3 + x2^2*x3 + x1*x3^2 + x2*x3^2 + x4^2*x5 + x4*x5^2 + x4^2*x6 + x5^2*x6 + x4*x6^2 + x5*x6^2,\n",
       " x1^4 + x2^4 + x3^4 + x4^4 + x5^4 + x6^4,\n",
       " x1^3*x2 + x1*x2^3 + x1^3*x3 + x2^3*x3 + x1*x3^3 + x2*x3^3 + x4^3*x5 + x4*x5^3 + x4^3*x6 + x5^3*x6 + x4*x6^3 + x5*x6^3,\n",
       " x1^5 + x2^5 + x3^5 + x4^5 + x5^5 + x6^5,\n",
       " x1^6 + x2^6 + x3^6 + x4^6 + x5^6 + x6^6]"
      ]
     },
     "execution_count": 37,
     "metadata": {},
     "output_type": "execute_result"
    }
   ],
   "source": [
    "F, l, k = QQ, 2, 3\n",
    "inv_gens = get_inv_gens(F, l, k)\n",
    "inv_gens"
   ]
  },
  {
   "cell_type": "code",
   "execution_count": 38,
   "id": "2832956b",
   "metadata": {},
   "outputs": [
    {
     "name": "stdout",
     "output_type": "stream",
     "text": [
      "x1*x4 + x2*x4 + x3*x4 + x1*x5 + x2*x5 + x3*x5 + x1*x6 + x2*x6 + x3*x6\n",
      "x1^2*x4^2 + x2^2*x4^2 + x3^2*x4^2 + x1^2*x5^2 + x2^2*x5^2 + x3^2*x5^2 + x1^2*x6^2 + x2^2*x6^2 + x3^2*x6^2\n",
      "x1^3*x4^3 + x2^3*x4^3 + x3^3*x4^3 + x1^3*x5^3 + x2^3*x5^3 + x3^3*x5^3 + x1^3*x6^3 + x2^3*x6^3 + x3^3*x6^3\n"
     ]
    }
   ],
   "source": [
    "P_1 = get_moment(1, F, l, k, inv_gens)\n",
    "print(P_1)\n",
    "P_2 = get_moment(2, F, l, k, inv_gens)\n",
    "print(P_2)\n",
    "P_3 = get_moment(3, F, l, k, inv_gens)\n",
    "print(P_3)"
   ]
  },
  {
   "cell_type": "code",
   "execution_count": 39,
   "id": "617eaac8",
   "metadata": {},
   "outputs": [
    {
     "name": "stdout",
     "output_type": "stream",
     "text": [
      "moment 1: 1/2*y1^2 - 1/2*y2 - y3\n",
      "moment 2: -1/12*y1^4 + 2/3*y1^2*y2 + 1/3*y1^2*y3 + 1/12*y2^2 - 2/3*y2*y3 + 1/3*y3^2 - y1*y4 - y1*y5 + 1/3*y6 + 4/3*y7\n",
      "moment 3: -3/40*y1^4*y3 + 3/20*y1^2*y2^2 + 9/20*y1^2*y2*y3 + 3/10*y1^2*y3^2 + 1/20*y1^3*y4 - 3/40*y1^3*y5 - 1/10*y2^3 - 9/40*y2^2*y3 - 3/5*y2*y3^2 + 2/5*y3^3 - 13/20*y1*y2*y4 - 7/10*y1*y3*y4 + 9/40*y1*y2*y5 - 9/20*y1*y3*y5 - 7/20*y1^2*y6 + 1/10*y1^2*y7 + 4/5*y4^2 - 3/20*y4*y5 - 9/20*y5^2 + 7/10*y2*y6 + 13/20*y3*y6 - 1/5*y2*y7 + 11/10*y3*y7 + 9/10*y1*y8 - 3/2*y9\n"
     ]
    }
   ],
   "source": [
    "f_1 = get_gen_expr(P_1, F, inv_gens, l, k)\n",
    "print('moment 1: ' + str(f_1))\n",
    "\n",
    "f_2 = get_gen_expr(P_2, F, inv_gens, l, k)\n",
    "print('moment 2: ' + str(f_2))\n",
    "\n",
    "f_3 = get_gen_expr(P_3, F, inv_gens, l, k)\n",
    "print('moment 3: ' + str(f_3))"
   ]
  },
  {
   "cell_type": "code",
   "execution_count": null,
   "id": "151a1ea4",
   "metadata": {},
   "outputs": [],
   "source": []
  }
 ],
 "metadata": {
  "kernelspec": {
   "display_name": "SageMath 10.0",
   "language": "sage",
   "name": "sagemath-10.0"
  },
  "language_info": {
   "codemirror_mode": {
    "name": "ipython",
    "version": 3
   },
   "file_extension": ".py",
   "mimetype": "text/x-python",
   "name": "python",
   "nbconvert_exporter": "python",
   "pygments_lexer": "ipython3",
   "version": "3.11.1"
  }
 },
 "nbformat": 4,
 "nbformat_minor": 5
}
