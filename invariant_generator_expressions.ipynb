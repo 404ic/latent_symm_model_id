{
 "cells": [
  {
   "cell_type": "code",
   "execution_count": 1,
   "id": "82b8c626",
   "metadata": {},
   "outputs": [],
   "source": [
    "def trans_mat(F, k):\n",
    "    MS = MatrixSpace(F, k, k);\n",
    "\n",
    "    # Want k x k matrices\n",
    "    # T is identity except swapping 1st and 2nd positions\n",
    "    T = MS([[1 if j == i else 0 for j in range(k)] if i > 1 else [abs(j - i) if j < 2 else 0 for j in range(k)] for i in range(k)])\n",
    "    return T\n",
    "\n",
    "def cyc_mat(F, k):\n",
    "    F = QQ;\n",
    "    MS = MatrixSpace(F, k, k);\n",
    "\n",
    "    # Want k x k matrices\n",
    "    # T is identity except swapping 1st and 2nd positions\n",
    "    C = MS([[1 if j == i - 1 else 0 for j in range(k)] if i > 0 else [1 if j == k - 1 else 0 for j in range(k)] for i in range(k)])\n",
    "    return C\n",
    "\n",
    "def zero_mat(F, k):\n",
    "    MS = MatrixSpace(F, k, k);\n",
    "\n",
    "    # Want k x k matrices\n",
    "    # T is identity except swapping 1st and 2nd positions\n",
    "    O = MS(0)\n",
    "    return O\n",
    "\n",
    "def get_gen_mats(F, l, k):\n",
    "    T = trans_mat(F, k);\n",
    "    C = cyc_mat(F, k);\n",
    "    I = matrix.identity(k)\n",
    "    O = zero_mat(F, k);\n",
    "    \n",
    "    # Permute the blocks themselves\n",
    "    # Permute the elements within the blocks (using tranpose and cyclic matrices from above)\n",
    "    gens = []\n",
    "    \n",
    "    # Matrices for permuting the blocks among themselves, S_l\n",
    "    # One block transpose matrix, one cycle.\n",
    "    BT = block_matrix([[I if j == i else O for j in range(l)] if i > 1 else [abs(j - i) * I if j < 2 else O for j in range(l)] for i in range(l)])\n",
    "    BC = block_matrix([[I if j == i - 1 else O for j in range(l)] if i > 0 else [I if j == l - 1 else O for j in range(l)] for i in range(l)])\n",
    "    gens.extend([BT, BC])\n",
    "    \n",
    "    # Matrices for permutations within the blocks, S_k.\n",
    "    # One tranposition and one cycle for each block.\n",
    "    for b in range(l):\n",
    "        T_b = block_matrix([[(T if i == b else I) if j == i else O for j in range(l)] for i in range(l)])\n",
    "        C_b = block_matrix([[(C if i == b else I) if j == i else O for j in range(l)] for i in range(l)])\n",
    "        gens.extend([T_b, C_b])\n",
    "\n",
    "    return gens"
   ]
  },
  {
   "cell_type": "code",
   "execution_count": 2,
   "id": "a0a5d0c0",
   "metadata": {},
   "outputs": [],
   "source": [
    "def get_inv_gens(F, l, k):\n",
    "    gen_mats = get_gen_mats(F, l, k)\n",
    "    G = MatrixGroup(gen_mats);\n",
    "    gens = G.invariant_generators()\n",
    "    return gens"
   ]
  },
  {
   "cell_type": "code",
   "execution_count": 14,
   "id": "cc2bff85",
   "metadata": {},
   "outputs": [],
   "source": [
    "def get_inds(F, l, k, inv_gens):\n",
    "    n_gens = len(inv_gens)\n",
    "    str_x = ['x%d' %(i + 1) for i in range(l * k)]\n",
    "    str_y = ['y%d' %(i + 1) for i in range(n_gens)]\n",
    "    str_inds = str_x + str_y\n",
    "    inds = QQ[', '.join(str_inds)].gens()\n",
    "    return inds"
   ]
  },
  {
   "cell_type": "code",
   "execution_count": 16,
   "id": "5496f82d",
   "metadata": {},
   "outputs": [],
   "source": [
    "def get_moment(n, F, l, k, inv_gens):\n",
    "    inds = get_inds(F, l, k, inv_gens)\n",
    "    # Note that x comes before y in inds, so this just returns a partition of x.\n",
    "    x = [inds[j * k: (j + 1) * k] for j in range(l)]\n",
    "    P = 0\n",
    "    \n",
    "    U = Tuples(range(k), l).list()\n",
    "    for u in U:\n",
    "        t = 1\n",
    "        for j in range(l):\n",
    "            u_j = u[j]\n",
    "            t *= x[j][u_j]\n",
    "        P += t^n\n",
    "    return P"
   ]
  },
  {
   "cell_type": "code",
   "execution_count": 30,
   "id": "9c0c76ef",
   "metadata": {},
   "outputs": [],
   "source": [
    "def get_gen_expr(f, F, inv_gens, l, k):\n",
    "    inds = get_inds(F, l, k, inv_gens)\n",
    "    n_inds = len(inds)\n",
    "    n_gens = len(inv_gens)\n",
    "    y = [inds[i] for i in range(n_inds - n_gens, n_inds)]\n",
    "    \n",
    "    J_gens = [inv_gens[i] - y[i] for i in range(n_gens)]\n",
    "    J = ideal(J_gens)\n",
    "    expr = J.reduce(f)\n",
    "    return expr"
   ]
  },
  {
   "cell_type": "markdown",
   "id": "4aabbf2c",
   "metadata": {},
   "source": [
    "Get the generators for the $l = 2, k = 2$ case. Write the first through third moments as polynomials in the invariants."
   ]
  },
  {
   "cell_type": "code",
   "execution_count": 22,
   "id": "c624d7f3",
   "metadata": {},
   "outputs": [
    {
     "data": {
      "text/plain": [
       "[x1 + x2 + x3 + x4,\n",
       " x1^2 + x2^2 + x3^2 + x4^2,\n",
       " x1*x2 + x3*x4,\n",
       " x1^3 + x2^3 + x3^3 + x4^3,\n",
       " x1^4 + x2^4 + x3^4 + x4^4]"
      ]
     },
     "execution_count": 22,
     "metadata": {},
     "output_type": "execute_result"
    }
   ],
   "source": [
    "F, l, k = QQ, 2, 2\n",
    "inv_gens = get_inv_gens(F, l, k)\n",
    "inv_gens"
   ]
  },
  {
   "cell_type": "code",
   "execution_count": 23,
   "id": "00811ee4",
   "metadata": {},
   "outputs": [
    {
     "data": {
      "text/plain": [
       "x1*x3 + x2*x3 + x1*x4 + x2*x4"
      ]
     },
     "execution_count": 23,
     "metadata": {},
     "output_type": "execute_result"
    }
   ],
   "source": [
    "P_1 = get_moment(1, F, l, k, inv_gens)\n",
    "P_1"
   ]
  },
  {
   "cell_type": "code",
   "execution_count": 24,
   "id": "71c11536",
   "metadata": {},
   "outputs": [
    {
     "data": {
      "text/plain": [
       "x1^2*x3^2 + x2^2*x3^2 + x1^2*x4^2 + x2^2*x4^2"
      ]
     },
     "execution_count": 24,
     "metadata": {},
     "output_type": "execute_result"
    }
   ],
   "source": [
    "P_2 = get_moment(2, F, l, k, inv_gens)\n",
    "P_2"
   ]
  },
  {
   "cell_type": "code",
   "execution_count": 26,
   "id": "5f65f9f1",
   "metadata": {},
   "outputs": [
    {
     "data": {
      "text/plain": [
       "x1^3*x3^3 + x2^3*x3^3 + x1^3*x4^3 + x2^3*x4^3"
      ]
     },
     "execution_count": 26,
     "metadata": {},
     "output_type": "execute_result"
    }
   ],
   "source": [
    "P_3 = get_moment(3, F, l, k, inv_gens)\n",
    "P_3"
   ]
  },
  {
   "cell_type": "code",
   "execution_count": 36,
   "id": "6b781a7f",
   "metadata": {},
   "outputs": [
    {
     "name": "stdout",
     "output_type": "stream",
     "text": [
      "moment 1: 1/2*y1^2 - 1/2*y2 - y3\n",
      "moment 2: 1/12*y1^4 - 1/2*y1^2*y2 + 3/4*y2^2 - y3^2 + 2/3*y1*y4 - y5\n",
      "moment 3: 1/16*y1^4*y2 + 1/8*y1^4*y3 - 3/8*y1^2*y2^2 - 3/2*y1^2*y2*y3 + 3/4*y1^2*y3^2 + 7/16*y2^3 + 9/8*y2^2*y3 - 3/4*y2*y3^2 - 5/2*y3^3 + 1/2*y1*y2*y4 + 5/2*y1*y3*y4 + 1/2*y4^2 - 9/8*y2*y5 - 9/4*y3*y5\n"
     ]
    }
   ],
   "source": [
    "f_1 = get_gen_expr(P_1, F, inv_gens, l, k)\n",
    "print('moment 1: ' + str(f_1))\n",
    "\n",
    "f_2 = get_gen_expr(P_2, F, inv_gens, l, k)\n",
    "print('moment 2: ' + str(f_2))\n",
    "\n",
    "f_3 = get_gen_expr(P_3, F, inv_gens, l, k)\n",
    "print('moment 3: ' + str(f_3))"
   ]
  },
  {
   "cell_type": "markdown",
   "id": "c8cf6144",
   "metadata": {},
   "source": [
    "Get the generators for the $l = 2, k = 3$ case. Write the first through third moments as polynomials in the invariants."
   ]
  },
  {
   "cell_type": "code",
   "execution_count": 37,
   "id": "c3b12ebe",
   "metadata": {},
   "outputs": [
    {
     "data": {
      "text/plain": [
       "[x1 + x2 + x3 + x4 + x5 + x6,\n",
       " x1^2 + x2^2 + x3^2 + x4^2 + x5^2 + x6^2,\n",
       " x1*x2 + x1*x3 + x2*x3 + x4*x5 + x4*x6 + x5*x6,\n",
       " x1^3 + x2^3 + x3^3 + x4^3 + x5^3 + x6^3,\n",
       " x1^2*x2 + x1*x2^2 + x1^2*x3 + x2^2*x3 + x1*x3^2 + x2*x3^2 + x4^2*x5 + x4*x5^2 + x4^2*x6 + x5^2*x6 + x4*x6^2 + x5*x6^2,\n",
       " x1^4 + x2^4 + x3^4 + x4^4 + x5^4 + x6^4,\n",
       " x1^3*x2 + x1*x2^3 + x1^3*x3 + x2^3*x3 + x1*x3^3 + x2*x3^3 + x4^3*x5 + x4*x5^3 + x4^3*x6 + x5^3*x6 + x4*x6^3 + x5*x6^3,\n",
       " x1^5 + x2^5 + x3^5 + x4^5 + x5^5 + x6^5,\n",
       " x1^6 + x2^6 + x3^6 + x4^6 + x5^6 + x6^6]"
      ]
     },
     "execution_count": 37,
     "metadata": {},
     "output_type": "execute_result"
    }
   ],
   "source": [
    "F, l, k = QQ, 2, 3\n",
    "inv_gens = get_inv_gens(F, l, k)\n",
    "inv_gens"
   ]
  },
  {
   "cell_type": "code",
   "execution_count": 38,
   "id": "c6e82e98",
   "metadata": {},
   "outputs": [
    {
     "name": "stdout",
     "output_type": "stream",
     "text": [
      "x1*x4 + x2*x4 + x3*x4 + x1*x5 + x2*x5 + x3*x5 + x1*x6 + x2*x6 + x3*x6\n",
      "x1^2*x4^2 + x2^2*x4^2 + x3^2*x4^2 + x1^2*x5^2 + x2^2*x5^2 + x3^2*x5^2 + x1^2*x6^2 + x2^2*x6^2 + x3^2*x6^2\n",
      "x1^3*x4^3 + x2^3*x4^3 + x3^3*x4^3 + x1^3*x5^3 + x2^3*x5^3 + x3^3*x5^3 + x1^3*x6^3 + x2^3*x6^3 + x3^3*x6^3\n"
     ]
    }
   ],
   "source": [
    "P_1 = get_moment(1, F, l, k, inv_gens)\n",
    "print(P_1)\n",
    "P_2 = get_moment(2, F, l, k, inv_gens)\n",
    "print(P_2)\n",
    "P_3 = get_moment(3, F, l, k, inv_gens)\n",
    "print(P_3)"
   ]
  },
  {
   "cell_type": "code",
   "execution_count": 39,
   "id": "269f15de",
   "metadata": {},
   "outputs": [
    {
     "name": "stdout",
     "output_type": "stream",
     "text": [
      "moment 1: 1/2*y1^2 - 1/2*y2 - y3\n",
      "moment 2: -1/12*y1^4 + 2/3*y1^2*y2 + 1/3*y1^2*y3 + 1/12*y2^2 - 2/3*y2*y3 + 1/3*y3^2 - y1*y4 - y1*y5 + 1/3*y6 + 4/3*y7\n",
      "moment 3: -3/40*y1^4*y3 + 3/20*y1^2*y2^2 + 9/20*y1^2*y2*y3 + 3/10*y1^2*y3^2 + 1/20*y1^3*y4 - 3/40*y1^3*y5 - 1/10*y2^3 - 9/40*y2^2*y3 - 3/5*y2*y3^2 + 2/5*y3^3 - 13/20*y1*y2*y4 - 7/10*y1*y3*y4 + 9/40*y1*y2*y5 - 9/20*y1*y3*y5 - 7/20*y1^2*y6 + 1/10*y1^2*y7 + 4/5*y4^2 - 3/20*y4*y5 - 9/20*y5^2 + 7/10*y2*y6 + 13/20*y3*y6 - 1/5*y2*y7 + 11/10*y3*y7 + 9/10*y1*y8 - 3/2*y9\n"
     ]
    }
   ],
   "source": [
    "f_1 = get_gen_expr(P_1, F, inv_gens, l, k)\n",
    "print('moment 1: ' + str(f_1))\n",
    "\n",
    "f_2 = get_gen_expr(P_2, F, inv_gens, l, k)\n",
    "print('moment 2: ' + str(f_2))\n",
    "\n",
    "f_3 = get_gen_expr(P_3, F, inv_gens, l, k)\n",
    "print('moment 3: ' + str(f_3))"
   ]
  },
  {
   "cell_type": "markdown",
   "id": "a6fe476b",
   "metadata": {},
   "source": [
    "Get invariant generators for all (l, k) where l, k <= 4. Also get expressions for the first 10 moments in terms of those invariant generators."
   ]
  },
  {
   "cell_type": "code",
   "execution_count": 55,
   "id": "427d5fc2",
   "metadata": {},
   "outputs": [
    {
     "name": "stdout",
     "output_type": "stream",
     "text": [
      "l = 2, k = 2\n",
      "[x1 + x2 + x3 + x4, x1^2 + x2^2 + x3^2 + x4^2, x1*x2 + x3*x4, x1^3 + x2^3 + x3^3 + x4^3, x1^4 + x2^4 + x3^4 + x4^4]\n",
      "mu_1 = 1/2*y1^2 - 1/2*y2 - y3\n",
      "mu_2 = 1/12*y1^4 - 1/2*y1^2*y2 + 3/4*y2^2 - y3^2 + 2/3*y1*y4 - y5\n",
      "mu_3 = 1/16*y1^4*y2 + 1/8*y1^4*y3 - 3/8*y1^2*y2^2 - 3/2*y1^2*y2*y3 + 3/4*y1^2*y3^2 + 7/16*y2^3 + 9/8*y2^2*y3 - 3/4*y2*y3^2 - 5/2*y3^3 + 1/2*y1*y2*y4 + 5/2*y1*y3*y4 + 1/2*y4^2 - 9/8*y2*y5 - 9/4*y3*y5\n",
      "mu_4 = 1/12*y1^4*y2^2 + 1/6*y1^4*y3^2 - 1/2*y1^2*y2^3 - y1^2*y2^2*y3 + 1/2*y2^4 + y2^3*y3 - 1/2*y2^2*y3^2 - 2*y2*y3^3 - y3^4 + 2/3*y1*y2^2*y4 + 2*y1*y2*y3*y4 + 4/3*y1*y3^2*y4 - y2^2*y5 - 2*y2*y3*y5 - y3^2*y5 + 1/4*y5^2\n",
      "\n",
      "\n",
      "l = 2, k = 3\n",
      "   skipping text from `parameter`// ** redefining i_par (parameter def i_par; parameter list #;  ) standard.lib::groebner:840\n",
      "\n",
      "[x1 + x2 + x3 + x4 + x5 + x6, x1^2 + x2^2 + x3^2 + x4^2 + x5^2 + x6^2, x1*x2 + x1*x3 + x2*x3 + x4*x5 + x4*x6 + x5*x6, x1^3 + x2^3 + x3^3 + x4^3 + x5^3 + x6^3, x1^2*x2 + x1*x2^2 + x1^2*x3 + x2^2*x3 + x1*x3^2 + x2*x3^2 + x4^2*x5 + x4*x5^2 + x4^2*x6 + x5^2*x6 + x4*x6^2 + x5*x6^2, x1^4 + x2^4 + x3^4 + x4^4 + x5^4 + x6^4, x1^3*x2 + x1*x2^3 + x1^3*x3 + x2^3*x3 + x1*x3^3 + x2*x3^3 + x4^3*x5 + x4*x5^3 + x4^3*x6 + x5^3*x6 + x4*x6^3 + x5*x6^3, x1^5 + x2^5 + x3^5 + x4^5 + x5^5 + x6^5, x1^6 + x2^6 + x3^6 + x4^6 + x5^6 + x6^6]\n",
      "mu_1 = 1/2*y1^2 - 1/2*y2 - y3\n",
      "mu_2 = -1/12*y1^4 + 2/3*y1^2*y2 + 1/3*y1^2*y3 + 1/12*y2^2 - 2/3*y2*y3 + 1/3*y3^2 - y1*y4 - y1*y5 + 1/3*y6 + 4/3*y7\n",
      "mu_3 = -3/40*y1^4*y3 + 3/20*y1^2*y2^2 + 9/20*y1^2*y2*y3 + 3/10*y1^2*y3^2 + 1/20*y1^3*y4 - 3/40*y1^3*y5 - 1/10*y2^3 - 9/40*y2^2*y3 - 3/5*y2*y3^2 + 2/5*y3^3 - 13/20*y1*y2*y4 - 7/10*y1*y3*y4 + 9/40*y1*y2*y5 - 9/20*y1*y3*y5 - 7/20*y1^2*y6 + 1/10*y1^2*y7 + 4/5*y4^2 - 3/20*y4*y5 - 9/20*y5^2 + 7/10*y2*y6 + 13/20*y3*y6 - 1/5*y2*y7 + 11/10*y3*y7 + 9/10*y1*y8 - 3/2*y9\n",
      "mu_4 = 7/90*y1^4*y3^2 - 23/360*y1^5*y5 - 79/1080*y1^2*y2^3 - 43/180*y1^2*y2^2*y3 - 103/180*y1^2*y2*y3^2 - 5/27*y1^2*y3^3 + 38/135*y1^3*y2*y4 + 163/540*y1^3*y3*y4 + 203/360*y1^3*y2*y5 - 1/72*y1^3*y3*y5 - 157/1080*y1^4*y6 + 13/135*y1^4*y7 - 7/1080*y2^4 + 11/135*y2^3*y3 + 13/36*y2^2*y3^2 - 41/270*y2*y3^3 + 1/135*y3^4 - 1/60*y1*y2^2*y4 - 7/60*y1*y2*y3*y4 + 3/5*y1*y3^2*y4 - 5/9*y1^2*y4^2 - 1/20*y1*y2^2*y5 + 277/360*y1*y2*y3*y5 + 211/180*y1*y3^2*y5 - 133/90*y1^2*y4*y5 - 43/90*y1^2*y5^2 - 121/360*y1^2*y2*y6 - 103/180*y1^2*y3*y6 - 137/180*y1^2*y2*y7 - 23/90*y1^2*y3*y7 + 29/60*y1^3*y8 + 8/135*y2*y4^2 + 4/135*y3*y4^2 - 7/180*y2*y4*y5 - 9/20*y3*y4*y5 - 53/180*y2*y5^2 - 157/180*y3*y5^2 + 2/9*y2^2*y6 + 28/45*y2*y3*y6 - 23/90*y3^2*y6 + 233/180*y1*y4*y6 + 49/30*y1*y5*y6 + 19/180*y2^2*y7 - 8/45*y2*y3*y7 - 7/18*y3^2*y7 + 53/30*y1*y4*y7 + 49/30*y1*y5*y7 + 7/60*y1*y2*y8 + 7/15*y1*y3*y8 - 53/90*y1^2*y9 - 7/540*y6^2 - 397/270*y6*y7 - 163/135*y7^2 - 17/30*y4*y8 - 17/30*y5*y8 - 7/45*y2*y9 - 14/45*y3*y9\n",
      "\n",
      "\n",
      "l = 2, k = 4\n",
      "[x1 + x2 + x3 + x4 + x5 + x6 + x7 + x8, x1^2 + x2^2 + x3^2 + x4^2 + x5^2 + x6^2 + x7^2 + x8^2, x1*x2 + x1*x3 + x2*x3 + x1*x4 + x2*x4 + x3*x4 + x5*x6 + x5*x7 + x6*x7 + x5*x8 + x6*x8 + x7*x8, x1^3 + x2^3 + x3^3 + x4^3 + x5^3 + x6^3 + x7^3 + x8^3, x1^2*x2 + x1*x2^2 + x1^2*x3 + x2^2*x3 + x1*x3^2 + x2*x3^2 + x1^2*x4 + x2^2*x4 + x3^2*x4 + x1*x4^2 + x2*x4^2 + x3*x4^2 + x5^2*x6 + x5*x6^2 + x5^2*x7 + x6^2*x7 + x5*x7^2 + x6*x7^2 + x5^2*x8 + x6^2*x8 + x7^2*x8 + x5*x8^2 + x6*x8^2 + x7*x8^2, x1^4 + x2^4 + x3^4 + x4^4 + x5^4 + x6^4 + x7^4 + x8^4, x1^3*x2 + x1*x2^3 + x1^3*x3 + x2^3*x3 + x1*x3^3 + x2*x3^3 + x1^3*x4 + x2^3*x4 + x3^3*x4 + x1*x4^3 + x2*x4^3 + x3*x4^3 + x5^3*x6 + x5*x6^3 + x5^3*x7 + x6^3*x7 + x5*x7^3 + x6*x7^3 + x5^3*x8 + x6^3*x8 + x7^3*x8 + x5*x8^3 + x6*x8^3 + x7*x8^3, x1^2*x2^2 + x1^2*x3^2 + x2^2*x3^2 + x1^2*x4^2 + x2^2*x4^2 + x3^2*x4^2 + x5^2*x6^2 + x5^2*x7^2 + x6^2*x7^2 + x5^2*x8^2 + x6^2*x8^2 + x7^2*x8^2, x1^5 + x2^5 + x3^5 + x4^5 + x5^5 + x6^5 + x7^5 + x8^5, x1^4*x2 + x1*x2^4 + x1^4*x3 + x2^4*x3 + x1*x3^4 + x2*x3^4 + x1^4*x4 + x2^4*x4 + x3^4*x4 + x1*x4^4 + x2*x4^4 + x3*x4^4 + x5^4*x6 + x5*x6^4 + x5^4*x7 + x6^4*x7 + x5*x7^4 + x6*x7^4 + x5^4*x8 + x6^4*x8 + x7^4*x8 + x5*x8^4 + x6*x8^4 + x7*x8^4, x1^6 + x2^6 + x3^6 + x4^6 + x5^6 + x6^6 + x7^6 + x8^6, x1^4*x2^2 + x1^2*x2^4 + x1^4*x3^2 + x2^4*x3^2 + x1^2*x3^4 + x2^2*x3^4 + x1^4*x4^2 + x2^4*x4^2 + x3^4*x4^2 + x1^2*x4^4 + x2^2*x4^4 + x3^2*x4^4 + x5^4*x6^2 + x5^2*x6^4 + x5^4*x7^2 + x6^4*x7^2 + x5^2*x7^4 + x6^2*x7^4 + x5^4*x8^2 + x6^4*x8^2 + x7^4*x8^2 + x5^2*x8^4 + x6^2*x8^4 + x7^2*x8^4, x1^7 + x2^7 + x3^7 + x4^7 + x5^7 + x6^7 + x7^7 + x8^7, x1^8 + x2^8 + x3^8 + x4^8 + x5^8 + x6^8 + x7^8 + x8^8]\n"
     ]
    },
    {
     "ename": "KeyboardInterrupt",
     "evalue": "",
     "output_type": "error",
     "traceback": [
      "\u001b[0;31m---------------------------------------------------------------------------\u001b[0m",
      "\u001b[0;31mKeyError\u001b[0m                                  Traceback (most recent call last)",
      "File \u001b[0;32m/private/var/tmp/sage-10.0-current/local/var/lib/sage/venv-python3.11.1/lib/python3.11/site-packages/sage/misc/cachefunc.pyx:1933\u001b[0m, in \u001b[0;36msage.misc.cachefunc.CachedMethodCaller.__call__ (build/cythonized/sage/misc/cachefunc.c:10142)\u001b[0;34m()\u001b[0m\n\u001b[1;32m   1932\u001b[0m try:\n\u001b[0;32m-> 1933\u001b[0m     return cache[k]\n\u001b[1;32m   1934\u001b[0m except TypeError:  # k is not hashable\n",
      "\u001b[0;31mKeyError\u001b[0m: (('', None, None, False), ())",
      "\nDuring handling of the above exception, another exception occurred:\n",
      "\u001b[0;31mKeyboardInterrupt\u001b[0m                         Traceback (most recent call last)",
      "Cell \u001b[0;32mIn [55], line 10\u001b[0m\n\u001b[1;32m      8\u001b[0m \u001b[38;5;28;01mfor\u001b[39;00m n \u001b[38;5;129;01min\u001b[39;00m \u001b[38;5;28mrange\u001b[39m(Integer(\u001b[38;5;241m1\u001b[39m), Integer(\u001b[38;5;241m5\u001b[39m)):\n\u001b[1;32m      9\u001b[0m     mu \u001b[38;5;241m=\u001b[39m get_moment(n, F, l, k, inv_gens)\n\u001b[0;32m---> 10\u001b[0m     expr \u001b[38;5;241m=\u001b[39m \u001b[43mget_gen_expr\u001b[49m\u001b[43m(\u001b[49m\u001b[43mmu\u001b[49m\u001b[43m,\u001b[49m\u001b[43m \u001b[49m\u001b[43mF\u001b[49m\u001b[43m,\u001b[49m\u001b[43m \u001b[49m\u001b[43minv_gens\u001b[49m\u001b[43m,\u001b[49m\u001b[43m \u001b[49m\u001b[43ml\u001b[49m\u001b[43m,\u001b[49m\u001b[43m \u001b[49m\u001b[43mk\u001b[49m\u001b[43m)\u001b[49m\n\u001b[1;32m     11\u001b[0m     \u001b[38;5;28mprint\u001b[39m(\u001b[38;5;124m\"\u001b[39m\u001b[38;5;124mmu_\u001b[39m\u001b[38;5;132;01m{order}\u001b[39;00m\u001b[38;5;124m = \u001b[39m\u001b[38;5;132;01m{poly}\u001b[39;00m\u001b[38;5;124m\"\u001b[39m\u001b[38;5;241m.\u001b[39mformat(order \u001b[38;5;241m=\u001b[39m n, poly \u001b[38;5;241m=\u001b[39m expr))\n\u001b[1;32m     12\u001b[0m \u001b[38;5;28;01mif\u001b[39;00m l \u001b[38;5;241m!=\u001b[39m max_l \u001b[38;5;129;01mor\u001b[39;00m k \u001b[38;5;241m!=\u001b[39m max_k:\n",
      "Cell \u001b[0;32mIn [30], line 9\u001b[0m, in \u001b[0;36mget_gen_expr\u001b[0;34m(f, F, inv_gens, l, k)\u001b[0m\n\u001b[1;32m      7\u001b[0m J_gens \u001b[38;5;241m=\u001b[39m [inv_gens[i] \u001b[38;5;241m-\u001b[39m y[i] \u001b[38;5;28;01mfor\u001b[39;00m i \u001b[38;5;129;01min\u001b[39;00m \u001b[38;5;28mrange\u001b[39m(n_gens)]\n\u001b[1;32m      8\u001b[0m J \u001b[38;5;241m=\u001b[39m ideal(J_gens)\n\u001b[0;32m----> 9\u001b[0m expr \u001b[38;5;241m=\u001b[39m \u001b[43mJ\u001b[49m\u001b[38;5;241;43m.\u001b[39;49m\u001b[43mreduce\u001b[49m\u001b[43m(\u001b[49m\u001b[43mf\u001b[49m\u001b[43m)\u001b[49m\n\u001b[1;32m     10\u001b[0m \u001b[38;5;28;01mreturn\u001b[39;00m expr\n",
      "File \u001b[0;32m/private/var/tmp/sage-10.0-current/local/var/lib/sage/venv-python3.11.1/lib/python3.11/site-packages/sage/rings/polynomial/multi_polynomial_ideal.py:4800\u001b[0m, in \u001b[0;36mMPolynomialIdeal.reduce\u001b[0;34m(self, f)\u001b[0m\n\u001b[1;32m   4770\u001b[0m \u001b[38;5;124;03m\"\"\"\u001b[39;00m\n\u001b[1;32m   4771\u001b[0m \u001b[38;5;124;03mReduce an element modulo the reduced Groebner basis for this ideal.\u001b[39;00m\n\u001b[1;32m   4772\u001b[0m \u001b[38;5;124;03mThis returns 0 if and only if the element is in this ideal. In any\u001b[39;00m\n\u001b[0;32m   (...)\u001b[0m\n\u001b[1;32m   4797\u001b[0m \u001b[38;5;124;03m    very expensive operation.\u001b[39;00m\n\u001b[1;32m   4798\u001b[0m \u001b[38;5;124;03m\"\"\"\u001b[39;00m\n\u001b[1;32m   4799\u001b[0m \u001b[38;5;28;01mtry\u001b[39;00m:\n\u001b[0;32m-> 4800\u001b[0m     strat \u001b[38;5;241m=\u001b[39m \u001b[38;5;28;43mself\u001b[39;49m\u001b[38;5;241;43m.\u001b[39;49m\u001b[43m_groebner_strategy\u001b[49m\u001b[43m(\u001b[49m\u001b[43m)\u001b[49m\n\u001b[1;32m   4801\u001b[0m     \u001b[38;5;28;01mreturn\u001b[39;00m strat\u001b[38;5;241m.\u001b[39mnormal_form(f)\n\u001b[1;32m   4802\u001b[0m \u001b[38;5;28;01mexcept\u001b[39;00m (\u001b[38;5;167;01mTypeError\u001b[39;00m, \u001b[38;5;167;01mNotImplementedError\u001b[39;00m, \u001b[38;5;167;01mValueError\u001b[39;00m):\n",
      "File \u001b[0;32m/private/var/tmp/sage-10.0-current/local/var/lib/sage/venv-python3.11.1/lib/python3.11/site-packages/sage/misc/cachefunc.pyx:2300\u001b[0m, in \u001b[0;36msage.misc.cachefunc.CachedMethodCallerNoArgs.__call__ (build/cythonized/sage/misc/cachefunc.c:12752)\u001b[0;34m()\u001b[0m\n\u001b[1;32m   2298\u001b[0m if self.cache is None:\n\u001b[1;32m   2299\u001b[0m     f = self.f\n\u001b[0;32m-> 2300\u001b[0m     self.cache = f(self._instance)\n\u001b[1;32m   2301\u001b[0m return self.cache\n\u001b[1;32m   2302\u001b[0m \n",
      "File \u001b[0;32m/private/var/tmp/sage-10.0-current/local/var/lib/sage/venv-python3.11.1/lib/python3.11/site-packages/sage/rings/polynomial/multi_polynomial_ideal.py:661\u001b[0m, in \u001b[0;36mMPolynomialIdeal_singular_repr._groebner_strategy\u001b[0;34m(self)\u001b[0m\n\u001b[1;32m    643\u001b[0m \u001b[38;5;124;03m\"\"\"\u001b[39;00m\n\u001b[1;32m    644\u001b[0m \u001b[38;5;124;03mReturn Singular's Groebner Strategy object for the Groebner\u001b[39;00m\n\u001b[1;32m    645\u001b[0m \u001b[38;5;124;03mbasis of this ideal which implements some optimized functions.\u001b[39;00m\n\u001b[0;32m   (...)\u001b[0m\n\u001b[1;32m    657\u001b[0m \u001b[38;5;124;03m    This function is mainly used internally.\u001b[39;00m\n\u001b[1;32m    658\u001b[0m \u001b[38;5;124;03m\"\"\"\u001b[39;00m\n\u001b[1;32m    659\u001b[0m \u001b[38;5;28;01mfrom\u001b[39;00m \u001b[38;5;21;01msage\u001b[39;00m\u001b[38;5;21;01m.\u001b[39;00m\u001b[38;5;21;01mlibs\u001b[39;00m\u001b[38;5;21;01m.\u001b[39;00m\u001b[38;5;21;01msingular\u001b[39;00m\u001b[38;5;21;01m.\u001b[39;00m\u001b[38;5;21;01mgroebner_strategy\u001b[39;00m \u001b[38;5;28;01mimport\u001b[39;00m GroebnerStrategy\n\u001b[0;32m--> 661\u001b[0m \u001b[38;5;28;01mreturn\u001b[39;00m GroebnerStrategy(MPolynomialIdeal(\u001b[38;5;28mself\u001b[39m\u001b[38;5;241m.\u001b[39mring(), \u001b[38;5;28;43mself\u001b[39;49m\u001b[38;5;241;43m.\u001b[39;49m\u001b[43mgroebner_basis\u001b[49m\u001b[43m(\u001b[49m\u001b[43m)\u001b[49m))\n",
      "File \u001b[0;32m/private/var/tmp/sage-10.0-current/local/var/lib/sage/venv-python3.11.1/lib/python3.11/site-packages/sage/misc/cachefunc.pyx:1938\u001b[0m, in \u001b[0;36msage.misc.cachefunc.CachedMethodCaller.__call__ (build/cythonized/sage/misc/cachefunc.c:10278)\u001b[0;34m()\u001b[0m\n\u001b[1;32m   1936\u001b[0m         return cache[k]\n\u001b[1;32m   1937\u001b[0m except KeyError:\n\u001b[0;32m-> 1938\u001b[0m     w = self._instance_call(*args, **kwds)\n\u001b[1;32m   1939\u001b[0m     cache[k] = w\n\u001b[1;32m   1940\u001b[0m     return w\n",
      "File \u001b[0;32m/private/var/tmp/sage-10.0-current/local/var/lib/sage/venv-python3.11.1/lib/python3.11/site-packages/sage/misc/cachefunc.pyx:1814\u001b[0m, in \u001b[0;36msage.misc.cachefunc.CachedMethodCaller._instance_call (build/cythonized/sage/misc/cachefunc.c:9744)\u001b[0;34m()\u001b[0m\n\u001b[1;32m   1812\u001b[0m         True\n\u001b[1;32m   1813\u001b[0m     \"\"\"\n\u001b[0;32m-> 1814\u001b[0m     return self.f(self._instance, *args, **kwds)\n\u001b[1;32m   1815\u001b[0m \n\u001b[1;32m   1816\u001b[0m cdef fix_args_kwds(self, tuple args, dict kwds):\n",
      "File \u001b[0;32m/private/var/tmp/sage-10.0-current/local/var/lib/sage/venv-python3.11.1/lib/python3.11/site-packages/sage/rings/qqbar_decorators.py:95\u001b[0m, in \u001b[0;36mhandle_AA_and_QQbar.<locals>.wrapper\u001b[0;34m(*args, **kwds)\u001b[0m\n\u001b[1;32m     89\u001b[0m \u001b[38;5;28;01mfrom\u001b[39;00m \u001b[38;5;21;01msage\u001b[39;00m\u001b[38;5;21;01m.\u001b[39;00m\u001b[38;5;21;01mrings\u001b[39;00m\u001b[38;5;21;01m.\u001b[39;00m\u001b[38;5;21;01mabc\u001b[39;00m \u001b[38;5;28;01mimport\u001b[39;00m AlgebraicField_common\n\u001b[1;32m     91\u001b[0m \u001b[38;5;28;01mif\u001b[39;00m \u001b[38;5;129;01mnot\u001b[39;00m \u001b[38;5;28many\u001b[39m(\u001b[38;5;28misinstance\u001b[39m(a, (Polynomial, MPolynomial, Ideal_generic))\n\u001b[1;32m     92\u001b[0m            \u001b[38;5;129;01mand\u001b[39;00m \u001b[38;5;28misinstance\u001b[39m(a\u001b[38;5;241m.\u001b[39mbase_ring(), AlgebraicField_common)\n\u001b[1;32m     93\u001b[0m            \u001b[38;5;129;01mor\u001b[39;00m is_PolynomialSequence(a)\n\u001b[1;32m     94\u001b[0m            \u001b[38;5;129;01mand\u001b[39;00m \u001b[38;5;28misinstance\u001b[39m(a\u001b[38;5;241m.\u001b[39mring()\u001b[38;5;241m.\u001b[39mbase_ring(), AlgebraicField_common) \u001b[38;5;28;01mfor\u001b[39;00m a \u001b[38;5;129;01min\u001b[39;00m args):\n\u001b[0;32m---> 95\u001b[0m     \u001b[38;5;28;01mreturn\u001b[39;00m \u001b[43mfunc\u001b[49m\u001b[43m(\u001b[49m\u001b[38;5;241;43m*\u001b[39;49m\u001b[43margs\u001b[49m\u001b[43m,\u001b[49m\u001b[43m \u001b[49m\u001b[38;5;241;43m*\u001b[39;49m\u001b[38;5;241;43m*\u001b[39;49m\u001b[43mkwds\u001b[49m\u001b[43m)\u001b[49m\n\u001b[1;32m     97\u001b[0m polynomials \u001b[38;5;241m=\u001b[39m []\n\u001b[1;32m     99\u001b[0m \u001b[38;5;28;01mfor\u001b[39;00m a \u001b[38;5;129;01min\u001b[39;00m flatten(args, ltypes\u001b[38;5;241m=\u001b[39m(\u001b[38;5;28mlist\u001b[39m, \u001b[38;5;28mtuple\u001b[39m, \u001b[38;5;28mset\u001b[39m)):\n",
      "File \u001b[0;32m/private/var/tmp/sage-10.0-current/local/var/lib/sage/venv-python3.11.1/lib/python3.11/site-packages/sage/rings/polynomial/multi_polynomial_ideal.py:4521\u001b[0m, in \u001b[0;36mMPolynomialIdeal.groebner_basis\u001b[0;34m(self, algorithm, deg_bound, mult_bound, prot, *args, **kwds)\u001b[0m\n\u001b[1;32m   4519\u001b[0m \u001b[38;5;28;01mif\u001b[39;00m \u001b[38;5;129;01mnot\u001b[39;00m algorithm:\n\u001b[1;32m   4520\u001b[0m     \u001b[38;5;28;01mtry\u001b[39;00m:\n\u001b[0;32m-> 4521\u001b[0m         gb \u001b[38;5;241m=\u001b[39m \u001b[38;5;28;43mself\u001b[39;49m\u001b[38;5;241;43m.\u001b[39;49m\u001b[43m_groebner_basis_libsingular\u001b[49m\u001b[43m(\u001b[49m\u001b[38;5;124;43m\"\u001b[39;49m\u001b[38;5;124;43mgroebner\u001b[39;49m\u001b[38;5;124;43m\"\u001b[39;49m\u001b[43m,\u001b[49m\u001b[43m \u001b[49m\u001b[43mdeg_bound\u001b[49m\u001b[38;5;241;43m=\u001b[39;49m\u001b[43mdeg_bound\u001b[49m\u001b[43m,\u001b[49m\u001b[43m \u001b[49m\u001b[43mmult_bound\u001b[49m\u001b[38;5;241;43m=\u001b[39;49m\u001b[43mmult_bound\u001b[49m\u001b[43m,\u001b[49m\u001b[43m \u001b[49m\u001b[38;5;241;43m*\u001b[39;49m\u001b[43margs\u001b[49m\u001b[43m,\u001b[49m\u001b[43m \u001b[49m\u001b[38;5;241;43m*\u001b[39;49m\u001b[38;5;241;43m*\u001b[39;49m\u001b[43mkwds\u001b[49m\u001b[43m)\u001b[49m\n\u001b[1;32m   4522\u001b[0m     \u001b[38;5;28;01mexcept\u001b[39;00m (\u001b[38;5;167;01mTypeError\u001b[39;00m, \u001b[38;5;167;01mNameError\u001b[39;00m): \u001b[38;5;66;03m# conversion to Singular not supported\u001b[39;00m\n\u001b[1;32m   4523\u001b[0m         \u001b[38;5;28;01mtry\u001b[39;00m:\n",
      "File \u001b[0;32m/private/var/tmp/sage-10.0-current/local/var/lib/sage/venv-python3.11.1/lib/python3.11/site-packages/sage/libs/singular/standard_options.py:143\u001b[0m, in \u001b[0;36mlibsingular_gb_standard_options.<locals>.wrapper\u001b[0;34m(*args, **kwds)\u001b[0m\n\u001b[1;32m    139\u001b[0m \u001b[38;5;124;03m\"\"\"\u001b[39;00m\n\u001b[1;32m    140\u001b[0m \u001b[38;5;124;03mExecute function in ``LibSingularGBDefaultContext``.\u001b[39;00m\n\u001b[1;32m    141\u001b[0m \u001b[38;5;124;03m\"\"\"\u001b[39;00m\n\u001b[1;32m    142\u001b[0m \u001b[38;5;28;01mwith\u001b[39;00m LibSingularGBDefaultContext():\n\u001b[0;32m--> 143\u001b[0m     \u001b[38;5;28;01mreturn\u001b[39;00m \u001b[43mfunc\u001b[49m\u001b[43m(\u001b[49m\u001b[38;5;241;43m*\u001b[39;49m\u001b[43margs\u001b[49m\u001b[43m,\u001b[49m\u001b[43m \u001b[49m\u001b[38;5;241;43m*\u001b[39;49m\u001b[38;5;241;43m*\u001b[39;49m\u001b[43mkwds\u001b[49m\u001b[43m)\u001b[49m\n",
      "File \u001b[0;32m/private/var/tmp/sage-10.0-current/local/var/lib/sage/venv-python3.11.1/lib/python3.11/site-packages/sage/rings/polynomial/multi_polynomial_ideal.py:540\u001b[0m, in \u001b[0;36mMPolynomialIdeal_singular_base_repr._groebner_basis_libsingular\u001b[0;34m(self, algorithm, *args, **kwds)\u001b[0m\n\u001b[1;32m    538\u001b[0m     S \u001b[38;5;241m=\u001b[39m slimgb_libsingular(\u001b[38;5;28mself\u001b[39m)\n\u001b[1;32m    539\u001b[0m \u001b[38;5;28;01melif\u001b[39;00m algorithm \u001b[38;5;241m==\u001b[39m \u001b[38;5;124m\"\u001b[39m\u001b[38;5;124mgroebner\u001b[39m\u001b[38;5;124m\"\u001b[39m:\n\u001b[0;32m--> 540\u001b[0m     S \u001b[38;5;241m=\u001b[39m \u001b[43mgroebner\u001b[49m\u001b[43m(\u001b[49m\u001b[38;5;28;43mself\u001b[39;49m\u001b[43m)\u001b[49m\n\u001b[1;32m    541\u001b[0m \u001b[38;5;28;01melse\u001b[39;00m:\n\u001b[1;32m    542\u001b[0m     \u001b[38;5;28;01mtry\u001b[39;00m:\n",
      "File \u001b[0;32m/private/var/tmp/sage-10.0-current/local/var/lib/sage/venv-python3.11.1/lib/python3.11/site-packages/sage/libs/singular/function.pyx:1308\u001b[0m, in \u001b[0;36msage.libs.singular.function.SingularFunction.__call__ (build/cythonized/sage/libs/singular/function.cpp:15750)\u001b[0;34m()\u001b[0m\n\u001b[1;32m   1306\u001b[0m     if not (isinstance(ring, MPolynomialRing_libsingular) or isinstance(ring, NCPolynomialRing_plural)):\n\u001b[1;32m   1307\u001b[0m         raise TypeError(\"cannot call Singular function '%s' with ring parameter of type '%s'\" % (self._name,type(ring)))\n\u001b[0;32m-> 1308\u001b[0m     return call_function(self, args, ring, interruptible, attributes)\n\u001b[1;32m   1309\u001b[0m \n\u001b[1;32m   1310\u001b[0m def _instancedoc_(self):\n",
      "File \u001b[0;32m/private/var/tmp/sage-10.0-current/local/var/lib/sage/venv-python3.11.1/lib/python3.11/site-packages/sage/libs/singular/function.pyx:1487\u001b[0m, in \u001b[0;36msage.libs.singular.function.call_function (build/cythonized/sage/libs/singular/function.cpp:17580)\u001b[0;34m()\u001b[0m\n\u001b[1;32m   1485\u001b[0m     error_messages.pop()\n\u001b[1;32m   1486\u001b[0m \n\u001b[0;32m-> 1487\u001b[0m with opt_ctx: # we are preserving the global options state here\n\u001b[1;32m   1488\u001b[0m     if signal_handler:\n\u001b[1;32m   1489\u001b[0m         sig_on()\n",
      "File \u001b[0;32m/private/var/tmp/sage-10.0-current/local/var/lib/sage/venv-python3.11.1/lib/python3.11/site-packages/sage/libs/singular/function.pyx:1489\u001b[0m, in \u001b[0;36msage.libs.singular.function.call_function (build/cythonized/sage/libs/singular/function.cpp:17492)\u001b[0;34m()\u001b[0m\n\u001b[1;32m   1487\u001b[0m with opt_ctx: # we are preserving the global options state here\n\u001b[1;32m   1488\u001b[0m     if signal_handler:\n\u001b[0;32m-> 1489\u001b[0m         sig_on()\n\u001b[1;32m   1490\u001b[0m         _res = self.call_handler.handle_call(argument_list, si_ring)\n\u001b[1;32m   1491\u001b[0m         sig_off()\n",
      "\u001b[0;31mKeyboardInterrupt\u001b[0m: "
     ]
    }
   ],
   "source": [
    "F = QQ\n",
    "max_l, max_k = 4, 4\n",
    "for l in range(2, max_l + 1):\n",
    "    for k in range(2, max_k + 1):\n",
    "        print(\"l = {people}, k = {types}\".format(people = l, types = k))\n",
    "        inv_gens = get_inv_gens(F, l, k)\n",
    "        print(str(inv_gens))\n",
    "        for n in range(1, 5):\n",
    "            mu = get_moment(n, F, l, k, inv_gens)\n",
    "            expr = get_gen_expr(mu, F, inv_gens, l, k)\n",
    "            print(\"mu_{order} = {poly}\".format(order = n, poly = expr))\n",
    "        if l != max_l or k != max_k:\n",
    "            print('\\n')"
   ]
  },
  {
   "cell_type": "code",
   "execution_count": 61,
   "id": "89ef73a2",
   "metadata": {},
   "outputs": [
    {
     "name": "stdout",
     "output_type": "stream",
     "text": [
      "l = 2, k = 2\n",
      "[x1 + x2 + x3 + x4, x1^2 + x2^2 + x3^2 + x4^2, x1*x2 + x3*x4, x1^3 + x2^3 + x3^3 + x4^3, x1^4 + x2^4 + x3^4 + x4^4]\n",
      "mu_1 = 1/2*y1^2 - 1/2*y2 - y3   skipping text from `parameter`\n",
      "mu_2 = 1/12*y1^4 - 1/2*y1^2*y2 + 3/4*y2^2 - y3^2 + 2/3*y1*y4 - y5\n",
      "mu_3 = 1/16*y1^4*y2 + 1/8*y1^4*y3 - 3/8*y1^2*y2^2 - 3/2*y1^2*y2*y3 + 3/4*y1^2*y3^2 + 7/16*y2^3 + 9/8*y2^2*y3 - 3/4*y2*y3^2 - 5/2*y3^3 + 1/2*y1*y2*y4 + 5/2*y1*y3*y4 + 1/2*y4^2 - 9/8*y2*y5 - 9/4*y3*y5\n",
      "\n",
      "\n",
      "l = 2, k = 3\n",
      "// ** redefining i_par (parameter def i_par; parameter list #;  ) standard.lib::groebner:840\n",
      "\n",
      "[x1 + x2 + x3 + x4 + x5 + x6, x1^2 + x2^2 + x3^2 + x4^2 + x5^2 + x6^2, x1*x2 + x1*x3 + x2*x3 + x4*x5 + x4*x6 + x5*x6, x1^3 + x2^3 + x3^3 + x4^3 + x5^3 + x6^3, x1^2*x2 + x1*x2^2 + x1^2*x3 + x2^2*x3 + x1*x3^2 + x2*x3^2 + x4^2*x5 + x4*x5^2 + x4^2*x6 + x5^2*x6 + x4*x6^2 + x5*x6^2, x1^4 + x2^4 + x3^4 + x4^4 + x5^4 + x6^4, x1^3*x2 + x1*x2^3 + x1^3*x3 + x2^3*x3 + x1*x3^3 + x2*x3^3 + x4^3*x5 + x4*x5^3 + x4^3*x6 + x5^3*x6 + x4*x6^3 + x5*x6^3, x1^5 + x2^5 + x3^5 + x4^5 + x5^5 + x6^5, x1^6 + x2^6 + x3^6 + x4^6 + x5^6 + x6^6]\n",
      "mu_1 = 1/2*y1^2 - 1/2*y2 - y3\n",
      "mu_2 = -1/12*y1^4 + 2/3*y1^2*y2 + 1/3*y1^2*y3 + 1/12*y2^2 - 2/3*y2*y3 + 1/3*y3^2 - y1*y4 - y1*y5 + 1/3*y6 + 4/3*y7\n",
      "mu_3 = -3/40*y1^4*y3 + 3/20*y1^2*y2^2 + 9/20*y1^2*y2*y3 + 3/10*y1^2*y3^2 + 1/20*y1^3*y4 - 3/40*y1^3*y5 - 1/10*y2^3 - 9/40*y2^2*y3 - 3/5*y2*y3^2 + 2/5*y3^3 - 13/20*y1*y2*y4 - 7/10*y1*y3*y4 + 9/40*y1*y2*y5 - 9/20*y1*y3*y5 - 7/20*y1^2*y6 + 1/10*y1^2*y7 + 4/5*y4^2 - 3/20*y4*y5 - 9/20*y5^2 + 7/10*y2*y6 + 13/20*y3*y6 - 1/5*y2*y7 + 11/10*y3*y7 + 9/10*y1*y8 - 3/2*y9\n",
      "\n",
      "\n",
      "l = 3, k = 2\n",
      "[x1 + x2 + x3 + x4 + x5 + x6, x1^2 + x2^2 + x3^2 + x4^2 + x5^2 + x6^2, x1*x2 + x3*x4 + x5*x6, x1^3 + x2^3 + x3^3 + x4^3 + x5^3 + x6^3, x1^2*x2 + x1*x2^2 + x3^2*x4 + x3*x4^2 + x5^2*x6 + x5*x6^2, x1^4 + x2^4 + x3^4 + x4^4 + x5^4 + x6^4, x1^3*x2 + x1*x2^3 + x3^3*x4 + x3*x4^3 + x5^3*x6 + x5*x6^3, x1^5 + x2^5 + x3^5 + x4^5 + x5^5 + x6^5, x1^6 + x2^6 + x3^6 + x4^6 + x5^6 + x6^6]\n"
     ]
    },
    {
     "ename": "KeyboardInterrupt",
     "evalue": "",
     "output_type": "error",
     "traceback": [
      "\u001b[0;31m---------------------------------------------------------------------------\u001b[0m",
      "\u001b[0;31mKeyError\u001b[0m                                  Traceback (most recent call last)",
      "File \u001b[0;32m/private/var/tmp/sage-10.0-current/local/var/lib/sage/venv-python3.11.1/lib/python3.11/site-packages/sage/misc/cachefunc.pyx:1933\u001b[0m, in \u001b[0;36msage.misc.cachefunc.CachedMethodCaller.__call__ (build/cythonized/sage/misc/cachefunc.c:10142)\u001b[0;34m()\u001b[0m\n\u001b[1;32m   1932\u001b[0m try:\n\u001b[0;32m-> 1933\u001b[0m     return cache[k]\n\u001b[1;32m   1934\u001b[0m except TypeError:  # k is not hashable\n",
      "\u001b[0;31mKeyError\u001b[0m: (('', None, None, False), ())",
      "\nDuring handling of the above exception, another exception occurred:\n",
      "\u001b[0;31mKeyboardInterrupt\u001b[0m                         Traceback (most recent call last)",
      "Cell \u001b[0;32mIn [61], line 10\u001b[0m\n\u001b[1;32m      8\u001b[0m \u001b[38;5;28;01mfor\u001b[39;00m n \u001b[38;5;129;01min\u001b[39;00m \u001b[38;5;28mrange\u001b[39m(Integer(\u001b[38;5;241m1\u001b[39m), Integer(\u001b[38;5;241m4\u001b[39m)):\n\u001b[1;32m      9\u001b[0m     mu \u001b[38;5;241m=\u001b[39m get_moment(n, F, l, k, inv_gens)\n\u001b[0;32m---> 10\u001b[0m     expr \u001b[38;5;241m=\u001b[39m \u001b[43mget_gen_expr\u001b[49m\u001b[43m(\u001b[49m\u001b[43mmu\u001b[49m\u001b[43m,\u001b[49m\u001b[43m \u001b[49m\u001b[43mF\u001b[49m\u001b[43m,\u001b[49m\u001b[43m \u001b[49m\u001b[43minv_gens\u001b[49m\u001b[43m,\u001b[49m\u001b[43m \u001b[49m\u001b[43ml\u001b[49m\u001b[43m,\u001b[49m\u001b[43m \u001b[49m\u001b[43mk\u001b[49m\u001b[43m)\u001b[49m\n\u001b[1;32m     11\u001b[0m     \u001b[38;5;28mprint\u001b[39m(\u001b[38;5;124m\"\u001b[39m\u001b[38;5;124mmu_\u001b[39m\u001b[38;5;132;01m{order}\u001b[39;00m\u001b[38;5;124m = \u001b[39m\u001b[38;5;132;01m{poly}\u001b[39;00m\u001b[38;5;124m\"\u001b[39m\u001b[38;5;241m.\u001b[39mformat(order \u001b[38;5;241m=\u001b[39m n, poly \u001b[38;5;241m=\u001b[39m expr))\n\u001b[1;32m     12\u001b[0m \u001b[38;5;28;01mif\u001b[39;00m l \u001b[38;5;241m!=\u001b[39m max_l \u001b[38;5;129;01mor\u001b[39;00m k \u001b[38;5;241m!=\u001b[39m max_k:\n",
      "Cell \u001b[0;32mIn [30], line 9\u001b[0m, in \u001b[0;36mget_gen_expr\u001b[0;34m(f, F, inv_gens, l, k)\u001b[0m\n\u001b[1;32m      7\u001b[0m J_gens \u001b[38;5;241m=\u001b[39m [inv_gens[i] \u001b[38;5;241m-\u001b[39m y[i] \u001b[38;5;28;01mfor\u001b[39;00m i \u001b[38;5;129;01min\u001b[39;00m \u001b[38;5;28mrange\u001b[39m(n_gens)]\n\u001b[1;32m      8\u001b[0m J \u001b[38;5;241m=\u001b[39m ideal(J_gens)\n\u001b[0;32m----> 9\u001b[0m expr \u001b[38;5;241m=\u001b[39m \u001b[43mJ\u001b[49m\u001b[38;5;241;43m.\u001b[39;49m\u001b[43mreduce\u001b[49m\u001b[43m(\u001b[49m\u001b[43mf\u001b[49m\u001b[43m)\u001b[49m\n\u001b[1;32m     10\u001b[0m \u001b[38;5;28;01mreturn\u001b[39;00m expr\n",
      "File \u001b[0;32m/private/var/tmp/sage-10.0-current/local/var/lib/sage/venv-python3.11.1/lib/python3.11/site-packages/sage/rings/polynomial/multi_polynomial_ideal.py:4800\u001b[0m, in \u001b[0;36mMPolynomialIdeal.reduce\u001b[0;34m(self, f)\u001b[0m\n\u001b[1;32m   4770\u001b[0m \u001b[38;5;124;03m\"\"\"\u001b[39;00m\n\u001b[1;32m   4771\u001b[0m \u001b[38;5;124;03mReduce an element modulo the reduced Groebner basis for this ideal.\u001b[39;00m\n\u001b[1;32m   4772\u001b[0m \u001b[38;5;124;03mThis returns 0 if and only if the element is in this ideal. In any\u001b[39;00m\n\u001b[0;32m   (...)\u001b[0m\n\u001b[1;32m   4797\u001b[0m \u001b[38;5;124;03m    very expensive operation.\u001b[39;00m\n\u001b[1;32m   4798\u001b[0m \u001b[38;5;124;03m\"\"\"\u001b[39;00m\n\u001b[1;32m   4799\u001b[0m \u001b[38;5;28;01mtry\u001b[39;00m:\n\u001b[0;32m-> 4800\u001b[0m     strat \u001b[38;5;241m=\u001b[39m \u001b[38;5;28;43mself\u001b[39;49m\u001b[38;5;241;43m.\u001b[39;49m\u001b[43m_groebner_strategy\u001b[49m\u001b[43m(\u001b[49m\u001b[43m)\u001b[49m\n\u001b[1;32m   4801\u001b[0m     \u001b[38;5;28;01mreturn\u001b[39;00m strat\u001b[38;5;241m.\u001b[39mnormal_form(f)\n\u001b[1;32m   4802\u001b[0m \u001b[38;5;28;01mexcept\u001b[39;00m (\u001b[38;5;167;01mTypeError\u001b[39;00m, \u001b[38;5;167;01mNotImplementedError\u001b[39;00m, \u001b[38;5;167;01mValueError\u001b[39;00m):\n",
      "File \u001b[0;32m/private/var/tmp/sage-10.0-current/local/var/lib/sage/venv-python3.11.1/lib/python3.11/site-packages/sage/misc/cachefunc.pyx:2300\u001b[0m, in \u001b[0;36msage.misc.cachefunc.CachedMethodCallerNoArgs.__call__ (build/cythonized/sage/misc/cachefunc.c:12752)\u001b[0;34m()\u001b[0m\n\u001b[1;32m   2298\u001b[0m if self.cache is None:\n\u001b[1;32m   2299\u001b[0m     f = self.f\n\u001b[0;32m-> 2300\u001b[0m     self.cache = f(self._instance)\n\u001b[1;32m   2301\u001b[0m return self.cache\n\u001b[1;32m   2302\u001b[0m \n",
      "File \u001b[0;32m/private/var/tmp/sage-10.0-current/local/var/lib/sage/venv-python3.11.1/lib/python3.11/site-packages/sage/rings/polynomial/multi_polynomial_ideal.py:661\u001b[0m, in \u001b[0;36mMPolynomialIdeal_singular_repr._groebner_strategy\u001b[0;34m(self)\u001b[0m\n\u001b[1;32m    643\u001b[0m \u001b[38;5;124;03m\"\"\"\u001b[39;00m\n\u001b[1;32m    644\u001b[0m \u001b[38;5;124;03mReturn Singular's Groebner Strategy object for the Groebner\u001b[39;00m\n\u001b[1;32m    645\u001b[0m \u001b[38;5;124;03mbasis of this ideal which implements some optimized functions.\u001b[39;00m\n\u001b[0;32m   (...)\u001b[0m\n\u001b[1;32m    657\u001b[0m \u001b[38;5;124;03m    This function is mainly used internally.\u001b[39;00m\n\u001b[1;32m    658\u001b[0m \u001b[38;5;124;03m\"\"\"\u001b[39;00m\n\u001b[1;32m    659\u001b[0m \u001b[38;5;28;01mfrom\u001b[39;00m \u001b[38;5;21;01msage\u001b[39;00m\u001b[38;5;21;01m.\u001b[39;00m\u001b[38;5;21;01mlibs\u001b[39;00m\u001b[38;5;21;01m.\u001b[39;00m\u001b[38;5;21;01msingular\u001b[39;00m\u001b[38;5;21;01m.\u001b[39;00m\u001b[38;5;21;01mgroebner_strategy\u001b[39;00m \u001b[38;5;28;01mimport\u001b[39;00m GroebnerStrategy\n\u001b[0;32m--> 661\u001b[0m \u001b[38;5;28;01mreturn\u001b[39;00m GroebnerStrategy(MPolynomialIdeal(\u001b[38;5;28mself\u001b[39m\u001b[38;5;241m.\u001b[39mring(), \u001b[38;5;28;43mself\u001b[39;49m\u001b[38;5;241;43m.\u001b[39;49m\u001b[43mgroebner_basis\u001b[49m\u001b[43m(\u001b[49m\u001b[43m)\u001b[49m))\n",
      "File \u001b[0;32m/private/var/tmp/sage-10.0-current/local/var/lib/sage/venv-python3.11.1/lib/python3.11/site-packages/sage/misc/cachefunc.pyx:1938\u001b[0m, in \u001b[0;36msage.misc.cachefunc.CachedMethodCaller.__call__ (build/cythonized/sage/misc/cachefunc.c:10278)\u001b[0;34m()\u001b[0m\n\u001b[1;32m   1936\u001b[0m         return cache[k]\n\u001b[1;32m   1937\u001b[0m except KeyError:\n\u001b[0;32m-> 1938\u001b[0m     w = self._instance_call(*args, **kwds)\n\u001b[1;32m   1939\u001b[0m     cache[k] = w\n\u001b[1;32m   1940\u001b[0m     return w\n",
      "File \u001b[0;32m/private/var/tmp/sage-10.0-current/local/var/lib/sage/venv-python3.11.1/lib/python3.11/site-packages/sage/misc/cachefunc.pyx:1814\u001b[0m, in \u001b[0;36msage.misc.cachefunc.CachedMethodCaller._instance_call (build/cythonized/sage/misc/cachefunc.c:9744)\u001b[0;34m()\u001b[0m\n\u001b[1;32m   1812\u001b[0m         True\n\u001b[1;32m   1813\u001b[0m     \"\"\"\n\u001b[0;32m-> 1814\u001b[0m     return self.f(self._instance, *args, **kwds)\n\u001b[1;32m   1815\u001b[0m \n\u001b[1;32m   1816\u001b[0m cdef fix_args_kwds(self, tuple args, dict kwds):\n",
      "File \u001b[0;32m/private/var/tmp/sage-10.0-current/local/var/lib/sage/venv-python3.11.1/lib/python3.11/site-packages/sage/rings/qqbar_decorators.py:95\u001b[0m, in \u001b[0;36mhandle_AA_and_QQbar.<locals>.wrapper\u001b[0;34m(*args, **kwds)\u001b[0m\n\u001b[1;32m     89\u001b[0m \u001b[38;5;28;01mfrom\u001b[39;00m \u001b[38;5;21;01msage\u001b[39;00m\u001b[38;5;21;01m.\u001b[39;00m\u001b[38;5;21;01mrings\u001b[39;00m\u001b[38;5;21;01m.\u001b[39;00m\u001b[38;5;21;01mabc\u001b[39;00m \u001b[38;5;28;01mimport\u001b[39;00m AlgebraicField_common\n\u001b[1;32m     91\u001b[0m \u001b[38;5;28;01mif\u001b[39;00m \u001b[38;5;129;01mnot\u001b[39;00m \u001b[38;5;28many\u001b[39m(\u001b[38;5;28misinstance\u001b[39m(a, (Polynomial, MPolynomial, Ideal_generic))\n\u001b[1;32m     92\u001b[0m            \u001b[38;5;129;01mand\u001b[39;00m \u001b[38;5;28misinstance\u001b[39m(a\u001b[38;5;241m.\u001b[39mbase_ring(), AlgebraicField_common)\n\u001b[1;32m     93\u001b[0m            \u001b[38;5;129;01mor\u001b[39;00m is_PolynomialSequence(a)\n\u001b[1;32m     94\u001b[0m            \u001b[38;5;129;01mand\u001b[39;00m \u001b[38;5;28misinstance\u001b[39m(a\u001b[38;5;241m.\u001b[39mring()\u001b[38;5;241m.\u001b[39mbase_ring(), AlgebraicField_common) \u001b[38;5;28;01mfor\u001b[39;00m a \u001b[38;5;129;01min\u001b[39;00m args):\n\u001b[0;32m---> 95\u001b[0m     \u001b[38;5;28;01mreturn\u001b[39;00m \u001b[43mfunc\u001b[49m\u001b[43m(\u001b[49m\u001b[38;5;241;43m*\u001b[39;49m\u001b[43margs\u001b[49m\u001b[43m,\u001b[49m\u001b[43m \u001b[49m\u001b[38;5;241;43m*\u001b[39;49m\u001b[38;5;241;43m*\u001b[39;49m\u001b[43mkwds\u001b[49m\u001b[43m)\u001b[49m\n\u001b[1;32m     97\u001b[0m polynomials \u001b[38;5;241m=\u001b[39m []\n\u001b[1;32m     99\u001b[0m \u001b[38;5;28;01mfor\u001b[39;00m a \u001b[38;5;129;01min\u001b[39;00m flatten(args, ltypes\u001b[38;5;241m=\u001b[39m(\u001b[38;5;28mlist\u001b[39m, \u001b[38;5;28mtuple\u001b[39m, \u001b[38;5;28mset\u001b[39m)):\n",
      "File \u001b[0;32m/private/var/tmp/sage-10.0-current/local/var/lib/sage/venv-python3.11.1/lib/python3.11/site-packages/sage/rings/polynomial/multi_polynomial_ideal.py:4521\u001b[0m, in \u001b[0;36mMPolynomialIdeal.groebner_basis\u001b[0;34m(self, algorithm, deg_bound, mult_bound, prot, *args, **kwds)\u001b[0m\n\u001b[1;32m   4519\u001b[0m \u001b[38;5;28;01mif\u001b[39;00m \u001b[38;5;129;01mnot\u001b[39;00m algorithm:\n\u001b[1;32m   4520\u001b[0m     \u001b[38;5;28;01mtry\u001b[39;00m:\n\u001b[0;32m-> 4521\u001b[0m         gb \u001b[38;5;241m=\u001b[39m \u001b[38;5;28;43mself\u001b[39;49m\u001b[38;5;241;43m.\u001b[39;49m\u001b[43m_groebner_basis_libsingular\u001b[49m\u001b[43m(\u001b[49m\u001b[38;5;124;43m\"\u001b[39;49m\u001b[38;5;124;43mgroebner\u001b[39;49m\u001b[38;5;124;43m\"\u001b[39;49m\u001b[43m,\u001b[49m\u001b[43m \u001b[49m\u001b[43mdeg_bound\u001b[49m\u001b[38;5;241;43m=\u001b[39;49m\u001b[43mdeg_bound\u001b[49m\u001b[43m,\u001b[49m\u001b[43m \u001b[49m\u001b[43mmult_bound\u001b[49m\u001b[38;5;241;43m=\u001b[39;49m\u001b[43mmult_bound\u001b[49m\u001b[43m,\u001b[49m\u001b[43m \u001b[49m\u001b[38;5;241;43m*\u001b[39;49m\u001b[43margs\u001b[49m\u001b[43m,\u001b[49m\u001b[43m \u001b[49m\u001b[38;5;241;43m*\u001b[39;49m\u001b[38;5;241;43m*\u001b[39;49m\u001b[43mkwds\u001b[49m\u001b[43m)\u001b[49m\n\u001b[1;32m   4522\u001b[0m     \u001b[38;5;28;01mexcept\u001b[39;00m (\u001b[38;5;167;01mTypeError\u001b[39;00m, \u001b[38;5;167;01mNameError\u001b[39;00m): \u001b[38;5;66;03m# conversion to Singular not supported\u001b[39;00m\n\u001b[1;32m   4523\u001b[0m         \u001b[38;5;28;01mtry\u001b[39;00m:\n",
      "File \u001b[0;32m/private/var/tmp/sage-10.0-current/local/var/lib/sage/venv-python3.11.1/lib/python3.11/site-packages/sage/libs/singular/standard_options.py:143\u001b[0m, in \u001b[0;36mlibsingular_gb_standard_options.<locals>.wrapper\u001b[0;34m(*args, **kwds)\u001b[0m\n\u001b[1;32m    139\u001b[0m \u001b[38;5;124;03m\"\"\"\u001b[39;00m\n\u001b[1;32m    140\u001b[0m \u001b[38;5;124;03mExecute function in ``LibSingularGBDefaultContext``.\u001b[39;00m\n\u001b[1;32m    141\u001b[0m \u001b[38;5;124;03m\"\"\"\u001b[39;00m\n\u001b[1;32m    142\u001b[0m \u001b[38;5;28;01mwith\u001b[39;00m LibSingularGBDefaultContext():\n\u001b[0;32m--> 143\u001b[0m     \u001b[38;5;28;01mreturn\u001b[39;00m \u001b[43mfunc\u001b[49m\u001b[43m(\u001b[49m\u001b[38;5;241;43m*\u001b[39;49m\u001b[43margs\u001b[49m\u001b[43m,\u001b[49m\u001b[43m \u001b[49m\u001b[38;5;241;43m*\u001b[39;49m\u001b[38;5;241;43m*\u001b[39;49m\u001b[43mkwds\u001b[49m\u001b[43m)\u001b[49m\n",
      "File \u001b[0;32m/private/var/tmp/sage-10.0-current/local/var/lib/sage/venv-python3.11.1/lib/python3.11/site-packages/sage/rings/polynomial/multi_polynomial_ideal.py:540\u001b[0m, in \u001b[0;36mMPolynomialIdeal_singular_base_repr._groebner_basis_libsingular\u001b[0;34m(self, algorithm, *args, **kwds)\u001b[0m\n\u001b[1;32m    538\u001b[0m     S \u001b[38;5;241m=\u001b[39m slimgb_libsingular(\u001b[38;5;28mself\u001b[39m)\n\u001b[1;32m    539\u001b[0m \u001b[38;5;28;01melif\u001b[39;00m algorithm \u001b[38;5;241m==\u001b[39m \u001b[38;5;124m\"\u001b[39m\u001b[38;5;124mgroebner\u001b[39m\u001b[38;5;124m\"\u001b[39m:\n\u001b[0;32m--> 540\u001b[0m     S \u001b[38;5;241m=\u001b[39m \u001b[43mgroebner\u001b[49m\u001b[43m(\u001b[49m\u001b[38;5;28;43mself\u001b[39;49m\u001b[43m)\u001b[49m\n\u001b[1;32m    541\u001b[0m \u001b[38;5;28;01melse\u001b[39;00m:\n\u001b[1;32m    542\u001b[0m     \u001b[38;5;28;01mtry\u001b[39;00m:\n",
      "File \u001b[0;32m/private/var/tmp/sage-10.0-current/local/var/lib/sage/venv-python3.11.1/lib/python3.11/site-packages/sage/libs/singular/function.pyx:1308\u001b[0m, in \u001b[0;36msage.libs.singular.function.SingularFunction.__call__ (build/cythonized/sage/libs/singular/function.cpp:15750)\u001b[0;34m()\u001b[0m\n\u001b[1;32m   1306\u001b[0m     if not (isinstance(ring, MPolynomialRing_libsingular) or isinstance(ring, NCPolynomialRing_plural)):\n\u001b[1;32m   1307\u001b[0m         raise TypeError(\"cannot call Singular function '%s' with ring parameter of type '%s'\" % (self._name,type(ring)))\n\u001b[0;32m-> 1308\u001b[0m     return call_function(self, args, ring, interruptible, attributes)\n\u001b[1;32m   1309\u001b[0m \n\u001b[1;32m   1310\u001b[0m def _instancedoc_(self):\n",
      "File \u001b[0;32m/private/var/tmp/sage-10.0-current/local/var/lib/sage/venv-python3.11.1/lib/python3.11/site-packages/sage/libs/singular/function.pyx:1487\u001b[0m, in \u001b[0;36msage.libs.singular.function.call_function (build/cythonized/sage/libs/singular/function.cpp:17580)\u001b[0;34m()\u001b[0m\n\u001b[1;32m   1485\u001b[0m     error_messages.pop()\n\u001b[1;32m   1486\u001b[0m \n\u001b[0;32m-> 1487\u001b[0m with opt_ctx: # we are preserving the global options state here\n\u001b[1;32m   1488\u001b[0m     if signal_handler:\n\u001b[1;32m   1489\u001b[0m         sig_on()\n",
      "File \u001b[0;32m/private/var/tmp/sage-10.0-current/local/var/lib/sage/venv-python3.11.1/lib/python3.11/site-packages/sage/libs/singular/function.pyx:1489\u001b[0m, in \u001b[0;36msage.libs.singular.function.call_function (build/cythonized/sage/libs/singular/function.cpp:17492)\u001b[0;34m()\u001b[0m\n\u001b[1;32m   1487\u001b[0m with opt_ctx: # we are preserving the global options state here\n\u001b[1;32m   1488\u001b[0m     if signal_handler:\n\u001b[0;32m-> 1489\u001b[0m         sig_on()\n\u001b[1;32m   1490\u001b[0m         _res = self.call_handler.handle_call(argument_list, si_ring)\n\u001b[1;32m   1491\u001b[0m         sig_off()\n",
      "\u001b[0;31mKeyboardInterrupt\u001b[0m: "
     ]
    }
   ],
   "source": [
    "F = QQ\n",
    "max_l, max_k = 3, 3\n",
    "for l in range(2, max_l + 1):\n",
    "    for k in range(2, max_k + 1):\n",
    "        print(\"l = {people}, k = {types}\".format(people = l, types = k))\n",
    "        inv_gens = get_inv_gens(F, l, k)\n",
    "        print(str(inv_gens))\n",
    "        for n in range(1, 4):\n",
    "            mu = get_moment(n, F, l, k, inv_gens)\n",
    "            expr = get_gen_expr(mu, F, inv_gens, l, k)\n",
    "            print(\"mu_{order} = {poly}\".format(order = n, poly = expr))\n",
    "        if l != max_l or k != max_k:\n",
    "            print('\\n')"
   ]
  },
  {
   "cell_type": "code",
   "execution_count": null,
   "id": "ebb3181a",
   "metadata": {},
   "outputs": [],
   "source": []
  }
 ],
 "metadata": {
  "kernelspec": {
   "display_name": "SageMath 10.0",
   "language": "sage",
   "name": "sagemath-10.0"
  },
  "language_info": {
   "codemirror_mode": {
    "name": "ipython",
    "version": 3
   },
   "file_extension": ".py",
   "mimetype": "text/x-python",
   "name": "python",
   "nbconvert_exporter": "python",
   "pygments_lexer": "ipython3",
   "version": "3.11.1"
  }
 },
 "nbformat": 4,
 "nbformat_minor": 5
}
