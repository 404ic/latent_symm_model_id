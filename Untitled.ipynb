{
 "cells": [
  {
   "cell_type": "code",
   "execution_count": 5,
   "id": "5279245b",
   "metadata": {},
   "outputs": [],
   "source": [
    "P.<d, r, s> = PolynomialRing(QQ, 3, order='lex')\n",
    "\n",
    "def get_r_m(m):\n",
    "    r_m = 1/2 * ((r - s*d + d)^m + (r - s*d - d)^m) + s/2 * ((r - s*d + d)^m - (r - s*d - d)^m)\n",
    "    return r_m"
   ]
  },
  {
   "cell_type": "code",
   "execution_count": 11,
   "id": "68632546",
   "metadata": {},
   "outputs": [
    {
     "data": {
      "text/plain": [
       "r"
      ]
     },
     "execution_count": 11,
     "metadata": {},
     "output_type": "execute_result"
    }
   ],
   "source": [
    "r1 = get_r_m(1)\n",
    "r1"
   ]
  },
  {
   "cell_type": "code",
   "execution_count": 12,
   "id": "437ffdb8",
   "metadata": {},
   "outputs": [
    {
     "data": {
      "text/plain": [
       "-d^2*s^2 + d^2 + r^2"
      ]
     },
     "execution_count": 12,
     "metadata": {},
     "output_type": "execute_result"
    }
   ],
   "source": [
    "r2 = get_r_m(2)\n",
    "r2"
   ]
  },
  {
   "cell_type": "code",
   "execution_count": 13,
   "id": "5eff6e6f",
   "metadata": {},
   "outputs": [
    {
     "data": {
      "text/plain": [
       "2*d^3*s^3 - 2*d^3*s - 3*d^2*r*s^2 + 3*d^2*r + r^3"
      ]
     },
     "execution_count": 13,
     "metadata": {},
     "output_type": "execute_result"
    }
   ],
   "source": [
    "r3 = get_r_m(3)\n",
    "r3"
   ]
  },
  {
   "cell_type": "code",
   "execution_count": 14,
   "id": "d84f6154",
   "metadata": {},
   "outputs": [
    {
     "data": {
      "text/plain": [
       "-3*d^4*s^4 + 2*d^4*s^2 + d^4 + 8*d^3*r*s^3 - 8*d^3*r*s - 6*d^2*r^2*s^2 + 6*d^2*r^2 + r^4"
      ]
     },
     "execution_count": 14,
     "metadata": {},
     "output_type": "execute_result"
    }
   ],
   "source": [
    "r4 = get_r_m(4)\n",
    "r4"
   ]
  },
  {
   "cell_type": "code",
   "execution_count": 19,
   "id": "12880b5b",
   "metadata": {},
   "outputs": [
    {
     "data": {
      "text/plain": [
       "[d - y5, r - y3, s - y4, y1 - y3^3 + 3*y3*y4^2*y5^2 - 3*y3*y5^2 - 2*y4^3*y5^3 + 2*y4*y5^3, y2 - y3^2 + y4^2*y5^2 - y5^2, y3^4 - 6*y3^2*y4^2*y5^2 + 6*y3^2*y5^2 + 8*y3*y4^3*y5^3 - 8*y3*y4*y5^3 - 3*y4^4*y5^4 + 2*y4^2*y5^4 + y5^4 - y6]"
      ]
     },
     "execution_count": 19,
     "metadata": {},
     "output_type": "execute_result"
    }
   ],
   "source": [
    "P.<d, r, s, y1, y2, y3, y4, y5, y6> = PolynomialRing(QQ, 9, order='lex')\n",
    "J_gens = [r2 - y2, r3 - y1, r - y3, s - y4, d - y5, r4 - y6]\n",
    "J = ideal(J_gens)\n",
    "J.groebner_basis()"
   ]
  },
  {
   "cell_type": "code",
   "execution_count": null,
   "id": "0123a5b5",
   "metadata": {},
   "outputs": [],
   "source": []
  }
 ],
 "metadata": {
  "kernelspec": {
   "display_name": "SageMath 10.0",
   "language": "sage",
   "name": "sagemath-10.0"
  },
  "language_info": {
   "codemirror_mode": {
    "name": "ipython",
    "version": 3
   },
   "file_extension": ".py",
   "mimetype": "text/x-python",
   "name": "python",
   "nbconvert_exporter": "python",
   "pygments_lexer": "ipython3",
   "version": "3.11.1"
  }
 },
 "nbformat": 4,
 "nbformat_minor": 5
}
