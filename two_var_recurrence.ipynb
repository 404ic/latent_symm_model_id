{
 "cells": [
  {
   "cell_type": "code",
   "execution_count": 5,
   "id": "f236e21a",
   "metadata": {},
   "outputs": [],
   "source": [
    "P.<d, r, s> = PolynomialRing(QQ, 3, order='lex')\n",
    "\n",
    "def get_r_m(m):\n",
    "    r_m = 1/2 * ((r - s*d + d)^m + (r - s*d - d)^m) + s/2 * ((r - s*d + d)^m - (r - s*d - d)^m)\n",
    "    return r_m"
   ]
  },
  {
   "cell_type": "code",
   "execution_count": 11,
   "id": "2600af96",
   "metadata": {},
   "outputs": [
    {
     "data": {
      "text/plain": [
       "r"
      ]
     },
     "execution_count": 11,
     "metadata": {},
     "output_type": "execute_result"
    }
   ],
   "source": [
    "r1 = get_r_m(1)\n",
    "r1"
   ]
  },
  {
   "cell_type": "code",
   "execution_count": 12,
   "id": "54ab91a5",
   "metadata": {},
   "outputs": [
    {
     "data": {
      "text/plain": [
       "-d^2*s^2 + d^2 + r^2"
      ]
     },
     "execution_count": 12,
     "metadata": {},
     "output_type": "execute_result"
    }
   ],
   "source": [
    "r2 = get_r_m(2)\n",
    "r2"
   ]
  },
  {
   "cell_type": "code",
   "execution_count": 13,
   "id": "58a74d9d",
   "metadata": {},
   "outputs": [
    {
     "data": {
      "text/plain": [
       "2*d^3*s^3 - 2*d^3*s - 3*d^2*r*s^2 + 3*d^2*r + r^3"
      ]
     },
     "execution_count": 13,
     "metadata": {},
     "output_type": "execute_result"
    }
   ],
   "source": [
    "r3 = get_r_m(3)\n",
    "r3"
   ]
  },
  {
   "cell_type": "code",
   "execution_count": 14,
   "id": "a94178d2",
   "metadata": {},
   "outputs": [
    {
     "data": {
      "text/plain": [
       "-3*d^4*s^4 + 2*d^4*s^2 + d^4 + 8*d^3*r*s^3 - 8*d^3*r*s - 6*d^2*r^2*s^2 + 6*d^2*r^2 + r^4"
      ]
     },
     "execution_count": 14,
     "metadata": {},
     "output_type": "execute_result"
    }
   ],
   "source": [
    "r4 = get_r_m(4)\n",
    "r4"
   ]
  },
  {
   "cell_type": "code",
   "execution_count": 27,
   "id": "1738881e",
   "metadata": {},
   "outputs": [
    {
     "name": "stdout",
     "output_type": "stream",
     "text": [
      "d - y5\n",
      "r - y3\n",
      "s - y4\n",
      "y1 - y3^2 + y4^2*y5^2 - y5^2\n",
      "y2 - y3^3 + 3*y3*y4^2*y5^2 - 3*y3*y5^2 - 2*y4^3*y5^3 + 2*y4*y5^3\n",
      "y3^4 - 6*y3^2*y4^2*y5^2 + 6*y3^2*y5^2 + 8*y3*y4^3*y5^3 - 8*y3*y4*y5^3 - 3*y4^4*y5^4 + 2*y4^2*y5^4 + y5^4 - y6\n"
     ]
    }
   ],
   "source": [
    "P.<d, r, s, y1, y2, y3, y4, y5, y6> = PolynomialRing(QQ, 9, order='lex')\n",
    "J_gens = [r2 - y1, r3 - y2, r - y3, s - y4, d - y5, r4 - y6]\n",
    "J = ideal(J_gens)\n",
    "b = J.groebner_basis()\n",
    "for x in b:\n",
    "    print(x)"
   ]
  },
  {
   "cell_type": "code",
   "execution_count": 22,
   "id": "3e5181e6",
   "metadata": {},
   "outputs": [
    {
     "data": {
      "text/plain": [
       "-3*d^4*s^4 + 2*d^4*s^2 + d^4 + 8*d^3*r*s^3 - 8*d^3*r*s - 6*d^2*r^2*s^2 + 6*d^2*r^2 + r^4"
      ]
     },
     "execution_count": 22,
     "metadata": {},
     "output_type": "execute_result"
    }
   ],
   "source": [
    "-r1*r2*2*(r - d*s) + r2^2 + r3*2*(r - d*s)"
   ]
  },
  {
   "cell_type": "code",
   "execution_count": 26,
   "id": "3f156367",
   "metadata": {},
   "outputs": [
    {
     "name": "stdout",
     "output_type": "stream",
     "text": [
      "d - y5 EOL\n",
      "r - y3 EOL\n",
      "s - y4 EOL\n",
      "y1 - y3^3 + 3*y3*y4^2*y5^2 - 3*y3*y5^2 - 2*y4^3*y5^3 + 2*y4*y5^3 EOL\n",
      "y2 - y3^4 + 6*y3^2*y4^2*y5^2 - 6*y3^2*y5^2 - 8*y3*y4^3*y5^3 + 8*y3*y4*y5^3 + 3*y4^4*y5^4 - 2*y4^2*y5^4 - y5^4 EOL\n",
      "y3^5 - 10*y3^3*y4^2*y5^2 + 10*y3^3*y5^2 + 20*y3^2*y4^3*y5^3 - 20*y3^2*y4*y5^3 - 15*y3*y4^4*y5^4 + 10*y3*y4^2*y5^4 + 5*y3*y5^4 + 4*y4^5*y5^5 - 4*y4*y5^5 - y6 EOL\n"
     ]
    }
   ],
   "source": [
    "P.<d, r, s, y1, y2, y3, y4, y5, y6> = PolynomialRing(QQ, 9, order='lex')\n",
    "r5 = get_r_m(5)\n",
    "r5\n",
    "J_gens = [r3 - y1, r4 - y2, r - y3, s - y4, d - y5, r5 - y6]\n",
    "J = ideal(J_gens)\n",
    "b = J.groebner_basis()\n",
    "for x in b:\n",
    "    print(x, 'EOL')"
   ]
  },
  {
   "cell_type": "code",
   "execution_count": 29,
   "id": "4aed00c7",
   "metadata": {},
   "outputs": [],
   "source": [
    "p1 = 2*(r - s*d)"
   ]
  },
  {
   "cell_type": "code",
   "execution_count": 30,
   "id": "76d74be4",
   "metadata": {},
   "outputs": [
    {
     "data": {
      "text/plain": [
       "4*d^5*s^5 - 4*d^5*s - 15*d^4*r*s^4 + 10*d^4*r*s^2 + 5*d^4*r + 20*d^3*r^2*s^3 - 20*d^3*r^2*s - 10*d^2*r^3*s^2 + 10*d^2*r^3 + r^5"
      ]
     },
     "execution_count": 30,
     "metadata": {},
     "output_type": "execute_result"
    }
   ],
   "source": [
    "-r1*r4 - r2^2*p1 + 2*r2*r3 + r4*p1"
   ]
  },
  {
   "cell_type": "code",
   "execution_count": null,
   "id": "9c345a36",
   "metadata": {},
   "outputs": [],
   "source": []
  }
 ],
 "metadata": {
  "kernelspec": {
   "display_name": "SageMath 10.0",
   "language": "sage",
   "name": "sagemath-10.0"
  },
  "language_info": {
   "codemirror_mode": {
    "name": "ipython",
    "version": 3
   },
   "file_extension": ".py",
   "mimetype": "text/x-python",
   "name": "python",
   "nbconvert_exporter": "python",
   "pygments_lexer": "ipython3",
   "version": "3.11.1"
  }
 },
 "nbformat": 4,
 "nbformat_minor": 5
}
